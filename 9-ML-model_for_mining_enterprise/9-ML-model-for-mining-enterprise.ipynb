{
 "cells": [
  {
   "cell_type": "markdown",
   "metadata": {},
   "source": [
    "# Выбор локации для скважины"
   ]
  },
  {
   "cell_type": "markdown",
   "metadata": {},
   "source": [
    "Добывающей компании нужно помочь с выбором бурения новой скважины.\n",
    "\n",
    "Предоставлены пробы нефти в трёх регионах: в каждом 10 000 месторождений, где измерили качество нефти и объём её запасов.\n",
    "\n",
    "Нужно построить модель машинного обучения, которая поможет определить регион, где добыча принесёт наибольшую прибыль. Также нужно проанализировать возможную прибыль и риски.\n",
    "\n",
    "Шаги для выбора локации:\n",
    "\n",
    "- В избранном регионе ищут месторождения, для каждого определяют значения признаков;\n",
    "- Строят модель и оценивают объём запасов;\n",
    "- Выбирают месторождения с самым высокими оценками значений. Количество месторождений зависит от бюджета компании и стоимости разработки одной скважины;\n",
    "- Прибыль равна суммарной прибыли отобранных месторождений."
   ]
  },
  {
   "cell_type": "markdown",
   "metadata": {},
   "source": [
    "**Описание данных**\n",
    "\n",
    "Данные геологоразведки трёх регионов находятся в файлах: `geo_data_0.csv`, `geo_data_1.csv`, `geo_data_2.csv`.\n",
    "\n",
    "\n",
    "`id` — уникальный идентификатор скважины;\n",
    "\n",
    "`f0`, `f1`, `f2` — три признака точек (неважно, что они означают, но сами признаки значимы);\n",
    "\n",
    "`product` — объём запасов в скважине (тыс. баррелей)."
   ]
  },
  {
   "cell_type": "markdown",
   "metadata": {},
   "source": [
    "<a id='section_1'></a>\n",
    "**Условия задачи:**\n",
    "\n",
    "* Для обучения модели подходит только линейная регрессия (остальные — недостаточно предсказуемые).\n",
    "\n",
    "* При разведке региона исследуют 500 точек, из которых с помощью машинного обучения выбирают 200 лучших для разработки.\n",
    "\n",
    "* Бюджет на разработку скважин в регионе — 10 млрд рублей.\n",
    "\n",
    "* При нынешних ценах один баррель сырья приносит 450 рублей дохода. Доход с каждой единицы продукта составляет 450 тыс. рублей, поскольку объём указан в тысячах баррелей.\n",
    "\n",
    "* После оценки рисков нужно оставить лишь те регионы, в которых вероятность убытков меньше 2.5%. Среди них выбирают регион с наибольшей средней прибылью.\n",
    "\n",
    "\n",
    "Данные синтетические: детали контрактов и характеристики месторождений не разглашаются."
   ]
  },
  {
   "cell_type": "markdown",
   "metadata": {},
   "source": [
    "## Загрузка и подготовка данных"
   ]
  },
  {
   "cell_type": "code",
   "execution_count": 1,
   "metadata": {},
   "outputs": [],
   "source": [
    "# основные библиотеки\n",
    "import pandas as pd\n",
    "import numpy as np\n",
    "import matplotlib.pyplot as plt\n",
    "import seaborn as sns\n",
    "\n",
    "# методы для обучения моделей\n",
    "from sklearn.preprocessing import StandardScaler, MinMaxScaler\n",
    "from sklearn.model_selection import train_test_split\n",
    "from sklearn.metrics import root_mean_squared_error\n",
    "from sklearn.linear_model import LinearRegression"
   ]
  },
  {
   "cell_type": "markdown",
   "metadata": {},
   "source": [
    "Сохраним переменные из [условий задачи](#section_1)."
   ]
  },
  {
   "cell_type": "code",
   "execution_count": 2,
   "metadata": {},
   "outputs": [],
   "source": [
    "# константы\n",
    "POINTS = 500\n",
    "BEST_POINTS = 200\n",
    "BUDGET = 10e9\n",
    "PROFIT_PER_UNIT = 450e3\n",
    "LOSSES_PROBABILITY = .025\n",
    "\n",
    "TEST_SIZE = .25\n",
    "RANDOM_STATE = 42\n",
    "\n",
    "# параметры вывода графиков\n",
    "plt.rcParams['figure.titlesize'] = 17\n",
    "plt.rcParams['axes.titlesize'] = 15\n",
    "plt.rcParams['axes.labelsize'] = 14\n",
    "plt.rcParams['xtick.labelsize'] = 13\n",
    "plt.rcParams['ytick.labelsize'] = 13\n",
    "plt.rcParams['font.size'] = 13"
   ]
  },
  {
   "cell_type": "markdown",
   "metadata": {},
   "source": [
    "Объявим функции, которые понадобятся в ходе решения, в начале проекта."
   ]
  },
  {
   "cell_type": "code",
   "execution_count": 3,
   "metadata": {},
   "outputs": [],
   "source": [
    "def data_import(file_name: str) -> pd.DataFrame:\n",
    "\n",
    "    local_pth = '/datasets/' + file_name\n",
    "    server_pth = 'https://example.ru/' + file_name\n",
    "\n",
    "    try:\n",
    "        data = pd.read_csv(local_pth, index_col='id')\n",
    "    except:\n",
    "        data = pd.read_csv(server_pth,  index_col='id')\n",
    "    \n",
    "    data.sort_index(inplace=True)\n",
    "    \n",
    "    return data"
   ]
  },
  {
   "cell_type": "code",
   "execution_count": 4,
   "metadata": {},
   "outputs": [],
   "source": [
    "def data_split(df):\n",
    "    \n",
    "    '''\n",
    "    Function uses \"train_test_split\" for preparing train and test data.\n",
    "    \n",
    "    Input\n",
    "    -------\n",
    "    df: pd.DataFrame, drop_column: str\n",
    "    \n",
    "    Return\n",
    "    -------\n",
    "    X_train, X_test, y_train, y_test\n",
    "    '''\n",
    "    \n",
    "    X_train, X_test, y_train, y_test =  train_test_split(\n",
    "        df.drop('product', axis=1),\n",
    "        df['product'],\n",
    "        test_size = TEST_SIZE, \n",
    "        random_state = RANDOM_STATE)\n",
    "    \n",
    "    print(f'train_shape - {X_train.shape}\\ntest_shape - {X_test.shape}\\n')\n",
    "    \n",
    "    return X_train, X_test, y_train, y_test"
   ]
  },
  {
   "cell_type": "code",
   "execution_count": 5,
   "metadata": {},
   "outputs": [],
   "source": [
    "def minmax_scaler(train, test, FEATURE_RANGE=(0, 1)):\n",
    "    \n",
    "    '''\n",
    "    Function uses \"MinMaxScaler\" for scaling numeric data.\n",
    "    \n",
    "    Input\n",
    "    -------\n",
    "    train, test: pd.DataFrame\n",
    "\n",
    "    Return\n",
    "    -------\n",
    "    Scaled train, test.\n",
    "    '''\n",
    "    \n",
    "    scaler = MinMaxScaler(feature_range=FEATURE_RANGE)\n",
    "    scaler.fit(pd.DataFrame(train))\n",
    "    names_out = scaler.get_feature_names_out()\n",
    "    \n",
    "    train = pd.DataFrame(scaler.transform(pd.DataFrame(train)), index=train.index, columns=names_out)\n",
    "    test = pd.DataFrame(scaler.transform(pd.DataFrame(test)), index=test.index, columns=names_out)\n",
    "    \n",
    "    return train, test"
   ]
  },
  {
   "cell_type": "code",
   "execution_count": 6,
   "metadata": {},
   "outputs": [],
   "source": [
    "def l_reg_model(X_train, X_test, y_train, y_test):\n",
    "    \n",
    "    '''\n",
    "    Function uses \"LinearRegression\". \n",
    "    \n",
    "    Input\n",
    "    -------\n",
    "    X_train, X_test, y_train, y_test, y_scaler\n",
    "    \n",
    "    Return\n",
    "    -------\n",
    "    Fitted model, predicted target\n",
    "    '''\n",
    "    \n",
    "    model = LinearRegression()\n",
    "    model.fit(X_train, y_train)\n",
    "    \n",
    "    y_preds = pd.DataFrame(model.predict(X_test), index=X_test.index, columns=['product'])\n",
    "    print(f'Cр.запас сырья (предсказанный), тыс.барр.: {y_preds[\"product\"].mean():.2f}')\n",
    "    \n",
    "    score = root_mean_squared_error(y_test, y_preds)\n",
    "    print(f'Метрика RMSE, тыс.барр: {score:.2f}')\n",
    "    \n",
    "    return model, y_preds[\"product\"]"
   ]
  },
  {
   "cell_type": "code",
   "execution_count": 7,
   "metadata": {},
   "outputs": [],
   "source": [
    "def profits_and_risks(target, target_pred):\n",
    "    \n",
    "    '''\n",
    "    '''\n",
    "    STATE = np.random.RandomState(12345)  \n",
    "    \n",
    "    data = pd.concat([target, target_pred], axis=1)\n",
    "    data.columns = ['target', 'target_pred']\n",
    "    \n",
    "    profits = []\n",
    "    \n",
    "    for i in range(1000):\n",
    "        data_subsample = data.sample(frac=(POINTS/len(target_pred)), replace=True, random_state=STATE)\n",
    "        target_subsample = data_subsample['target']\n",
    "        target_pred_subsample = data_subsample['target_pred']\n",
    "        \n",
    "        profits.append(calculate_profit(target_subsample, target_pred_subsample))\n",
    "    \n",
    "    profits = pd.Series(profits, name='profit')\n",
    "\n",
    "    \n",
    "    lower = profits.quantile(0.025)\n",
    "    upper = profits.quantile(0.975)\n",
    "    \n",
    "    risks = (profits < 0).sum() / len(profits)\n",
    "    \n",
    "    if risks < LOSSES_PROBABILITY:\n",
    "        print(f\"Средняя прибыль, млрд.руб.: {profits.mean():.3f}\\n\")\n",
    "        print(\"Доверительный интервал 95%\\n-------------------------\")\n",
    "        print(f\"Нижняя граница, млрд.руб.: {lower:.3f}\")\n",
    "        print(f\"Верхняя граница, млрд.руб.: {upper:.3f}\\n\")\n",
    "        print(f\"Риск убытков: {risks:.2%}\")\n",
    "        print()\n",
    "        \n",
    "    else:\n",
    "        print(f\"Риск убытков: {risks:.2%}\")\n",
    "    \n",
    "    return profits"
   ]
  },
  {
   "cell_type": "code",
   "execution_count": 8,
   "metadata": {},
   "outputs": [],
   "source": [
    "def calculate_profit(target: pd.Series, target_pred: pd.Series, count:int = BEST_POINTS) -> float:\n",
    "    \n",
    "    data = pd.concat([target, target_pred], axis=1)\n",
    "    data.columns = ['target', 'target_pred']\n",
    "    data = data.sort_values(by='target_pred', ascending=False)\n",
    "    \n",
    "    selected = data['target'][:200]\n",
    "    selected_sum = selected.sum()\n",
    "    \n",
    "    total_profit = (PROFIT_PER_UNIT * selected_sum - BUDGET)/ 1e9\n",
    "    \n",
    "    return total_profit"
   ]
  },
  {
   "cell_type": "markdown",
   "metadata": {},
   "source": [
    "### Загрузка данных"
   ]
  },
  {
   "cell_type": "code",
   "execution_count": 9,
   "metadata": {},
   "outputs": [],
   "source": [
    "# загрузим данные\n",
    "geo_data_0 = data_import('geo_data_0.csv')\n",
    "geo_data_1 = data_import('geo_data_1.csv')\n",
    "geo_data_2 = data_import('geo_data_2.csv')"
   ]
  },
  {
   "cell_type": "code",
   "execution_count": 10,
   "metadata": {},
   "outputs": [
    {
     "name": "stdout",
     "output_type": "stream",
     "text": [
      "=============== geo_0 ===============\n"
     ]
    },
    {
     "data": {
      "text/html": [
       "<div>\n",
       "<style scoped>\n",
       "    .dataframe tbody tr th:only-of-type {\n",
       "        vertical-align: middle;\n",
       "    }\n",
       "\n",
       "    .dataframe tbody tr th {\n",
       "        vertical-align: top;\n",
       "    }\n",
       "\n",
       "    .dataframe thead th {\n",
       "        text-align: right;\n",
       "    }\n",
       "</style>\n",
       "<table border=\"1\" class=\"dataframe\">\n",
       "  <thead>\n",
       "    <tr style=\"text-align: right;\">\n",
       "      <th></th>\n",
       "      <th>f0</th>\n",
       "      <th>f1</th>\n",
       "      <th>f2</th>\n",
       "      <th>product</th>\n",
       "    </tr>\n",
       "    <tr>\n",
       "      <th>id</th>\n",
       "      <th></th>\n",
       "      <th></th>\n",
       "      <th></th>\n",
       "      <th></th>\n",
       "    </tr>\n",
       "  </thead>\n",
       "  <tbody>\n",
       "    <tr>\n",
       "      <th>006OJ</th>\n",
       "      <td>1.289189</td>\n",
       "      <td>-0.623324</td>\n",
       "      <td>3.642039</td>\n",
       "      <td>142.822141</td>\n",
       "    </tr>\n",
       "    <tr>\n",
       "      <th>009eY</th>\n",
       "      <td>1.958091</td>\n",
       "      <td>0.268711</td>\n",
       "      <td>3.702938</td>\n",
       "      <td>112.036815</td>\n",
       "    </tr>\n",
       "    <tr>\n",
       "      <th>00AfQ</th>\n",
       "      <td>0.558807</td>\n",
       "      <td>-0.366895</td>\n",
       "      <td>-1.268154</td>\n",
       "      <td>49.659570</td>\n",
       "    </tr>\n",
       "    <tr>\n",
       "      <th>00AuZ</th>\n",
       "      <td>-0.968699</td>\n",
       "      <td>0.416057</td>\n",
       "      <td>3.553416</td>\n",
       "      <td>73.351787</td>\n",
       "    </tr>\n",
       "    <tr>\n",
       "      <th>00BTM</th>\n",
       "      <td>-0.908137</td>\n",
       "      <td>0.036964</td>\n",
       "      <td>1.053951</td>\n",
       "      <td>38.664619</td>\n",
       "    </tr>\n",
       "  </tbody>\n",
       "</table>\n",
       "</div>"
      ],
      "text/plain": [
       "             f0        f1        f2     product\n",
       "id                                             \n",
       "006OJ  1.289189 -0.623324  3.642039  142.822141\n",
       "009eY  1.958091  0.268711  3.702938  112.036815\n",
       "00AfQ  0.558807 -0.366895 -1.268154   49.659570\n",
       "00AuZ -0.968699  0.416057  3.553416   73.351787\n",
       "00BTM -0.908137  0.036964  1.053951   38.664619"
      ]
     },
     "metadata": {},
     "output_type": "display_data"
    },
    {
     "name": "stdout",
     "output_type": "stream",
     "text": [
      "\n",
      "=============== geo_1 ===============\n"
     ]
    },
    {
     "data": {
      "text/html": [
       "<div>\n",
       "<style scoped>\n",
       "    .dataframe tbody tr th:only-of-type {\n",
       "        vertical-align: middle;\n",
       "    }\n",
       "\n",
       "    .dataframe tbody tr th {\n",
       "        vertical-align: top;\n",
       "    }\n",
       "\n",
       "    .dataframe thead th {\n",
       "        text-align: right;\n",
       "    }\n",
       "</style>\n",
       "<table border=\"1\" class=\"dataframe\">\n",
       "  <thead>\n",
       "    <tr style=\"text-align: right;\">\n",
       "      <th></th>\n",
       "      <th>f0</th>\n",
       "      <th>f1</th>\n",
       "      <th>f2</th>\n",
       "      <th>product</th>\n",
       "    </tr>\n",
       "    <tr>\n",
       "      <th>id</th>\n",
       "      <th></th>\n",
       "      <th></th>\n",
       "      <th></th>\n",
       "      <th></th>\n",
       "    </tr>\n",
       "  </thead>\n",
       "  <tbody>\n",
       "    <tr>\n",
       "      <th>0022J</th>\n",
       "      <td>-1.757135</td>\n",
       "      <td>-8.432343</td>\n",
       "      <td>1.999313</td>\n",
       "      <td>53.906522</td>\n",
       "    </tr>\n",
       "    <tr>\n",
       "      <th>003Gl</th>\n",
       "      <td>2.862304</td>\n",
       "      <td>-2.622592</td>\n",
       "      <td>1.999858</td>\n",
       "      <td>57.085625</td>\n",
       "    </tr>\n",
       "    <tr>\n",
       "      <th>003Vx</th>\n",
       "      <td>3.480454</td>\n",
       "      <td>-16.404208</td>\n",
       "      <td>3.000960</td>\n",
       "      <td>80.859783</td>\n",
       "    </tr>\n",
       "    <tr>\n",
       "      <th>004LG</th>\n",
       "      <td>5.632612</td>\n",
       "      <td>5.149203</td>\n",
       "      <td>3.004665</td>\n",
       "      <td>80.859783</td>\n",
       "    </tr>\n",
       "    <tr>\n",
       "      <th>006oG</th>\n",
       "      <td>-4.954731</td>\n",
       "      <td>-11.776300</td>\n",
       "      <td>5.001760</td>\n",
       "      <td>137.945408</td>\n",
       "    </tr>\n",
       "  </tbody>\n",
       "</table>\n",
       "</div>"
      ],
      "text/plain": [
       "             f0         f1        f2     product\n",
       "id                                              \n",
       "0022J -1.757135  -8.432343  1.999313   53.906522\n",
       "003Gl  2.862304  -2.622592  1.999858   57.085625\n",
       "003Vx  3.480454 -16.404208  3.000960   80.859783\n",
       "004LG  5.632612   5.149203  3.004665   80.859783\n",
       "006oG -4.954731 -11.776300  5.001760  137.945408"
      ]
     },
     "metadata": {},
     "output_type": "display_data"
    },
    {
     "name": "stdout",
     "output_type": "stream",
     "text": [
      "\n",
      "=============== geo_2 ===============\n"
     ]
    },
    {
     "data": {
      "text/html": [
       "<div>\n",
       "<style scoped>\n",
       "    .dataframe tbody tr th:only-of-type {\n",
       "        vertical-align: middle;\n",
       "    }\n",
       "\n",
       "    .dataframe tbody tr th {\n",
       "        vertical-align: top;\n",
       "    }\n",
       "\n",
       "    .dataframe thead th {\n",
       "        text-align: right;\n",
       "    }\n",
       "</style>\n",
       "<table border=\"1\" class=\"dataframe\">\n",
       "  <thead>\n",
       "    <tr style=\"text-align: right;\">\n",
       "      <th></th>\n",
       "      <th>f0</th>\n",
       "      <th>f1</th>\n",
       "      <th>f2</th>\n",
       "      <th>product</th>\n",
       "    </tr>\n",
       "    <tr>\n",
       "      <th>id</th>\n",
       "      <th></th>\n",
       "      <th></th>\n",
       "      <th></th>\n",
       "      <th></th>\n",
       "    </tr>\n",
       "  </thead>\n",
       "  <tbody>\n",
       "    <tr>\n",
       "      <th>009Gl</th>\n",
       "      <td>0.557780</td>\n",
       "      <td>-1.771009</td>\n",
       "      <td>4.646146</td>\n",
       "      <td>130.621072</td>\n",
       "    </tr>\n",
       "    <tr>\n",
       "      <th>00AuD</th>\n",
       "      <td>0.896418</td>\n",
       "      <td>0.296979</td>\n",
       "      <td>6.032145</td>\n",
       "      <td>112.891391</td>\n",
       "    </tr>\n",
       "    <tr>\n",
       "      <th>00CaL</th>\n",
       "      <td>-1.022474</td>\n",
       "      <td>-0.744512</td>\n",
       "      <td>4.243409</td>\n",
       "      <td>132.792852</td>\n",
       "    </tr>\n",
       "    <tr>\n",
       "      <th>00Cby</th>\n",
       "      <td>-1.183997</td>\n",
       "      <td>2.327663</td>\n",
       "      <td>2.691216</td>\n",
       "      <td>97.174303</td>\n",
       "    </tr>\n",
       "    <tr>\n",
       "      <th>00NQN</th>\n",
       "      <td>-1.476102</td>\n",
       "      <td>0.455868</td>\n",
       "      <td>2.025839</td>\n",
       "      <td>85.888480</td>\n",
       "    </tr>\n",
       "  </tbody>\n",
       "</table>\n",
       "</div>"
      ],
      "text/plain": [
       "             f0        f1        f2     product\n",
       "id                                             \n",
       "009Gl  0.557780 -1.771009  4.646146  130.621072\n",
       "00AuD  0.896418  0.296979  6.032145  112.891391\n",
       "00CaL -1.022474 -0.744512  4.243409  132.792852\n",
       "00Cby -1.183997  2.327663  2.691216   97.174303\n",
       "00NQN -1.476102  0.455868  2.025839   85.888480"
      ]
     },
     "metadata": {},
     "output_type": "display_data"
    },
    {
     "name": "stdout",
     "output_type": "stream",
     "text": [
      "\n"
     ]
    }
   ],
   "source": [
    "# выведем первые строки таблиц\n",
    "for i, df in enumerate([geo_data_0, geo_data_1, geo_data_2]):\n",
    "    print(\"=\" * 15, f'geo_{str(i)}', \"=\" * 15)\n",
    "    display(df.head())\n",
    "    print()"
   ]
  },
  {
   "cell_type": "code",
   "execution_count": 11,
   "metadata": {},
   "outputs": [
    {
     "name": "stdout",
     "output_type": "stream",
     "text": [
      "=============== geo_0 ===============\n",
      "<class 'pandas.core.frame.DataFrame'>\n",
      "Index: 100000 entries, 006OJ to zzzLH\n",
      "Data columns (total 4 columns):\n",
      " #   Column   Non-Null Count   Dtype  \n",
      "---  ------   --------------   -----  \n",
      " 0   f0       100000 non-null  float64\n",
      " 1   f1       100000 non-null  float64\n",
      " 2   f2       100000 non-null  float64\n",
      " 3   product  100000 non-null  float64\n",
      "dtypes: float64(4)\n",
      "memory usage: 3.8+ MB\n",
      "None \n",
      "\n",
      "=============== geo_1 ===============\n",
      "<class 'pandas.core.frame.DataFrame'>\n",
      "Index: 100000 entries, 0022J to zzzvI\n",
      "Data columns (total 4 columns):\n",
      " #   Column   Non-Null Count   Dtype  \n",
      "---  ------   --------------   -----  \n",
      " 0   f0       100000 non-null  float64\n",
      " 1   f1       100000 non-null  float64\n",
      " 2   f2       100000 non-null  float64\n",
      " 3   product  100000 non-null  float64\n",
      "dtypes: float64(4)\n",
      "memory usage: 3.8+ MB\n",
      "None \n",
      "\n",
      "=============== geo_2 ===============\n",
      "<class 'pandas.core.frame.DataFrame'>\n",
      "Index: 100000 entries, 009Gl to zzz9h\n",
      "Data columns (total 4 columns):\n",
      " #   Column   Non-Null Count   Dtype  \n",
      "---  ------   --------------   -----  \n",
      " 0   f0       100000 non-null  float64\n",
      " 1   f1       100000 non-null  float64\n",
      " 2   f2       100000 non-null  float64\n",
      " 3   product  100000 non-null  float64\n",
      "dtypes: float64(4)\n",
      "memory usage: 3.8+ MB\n",
      "None \n",
      "\n"
     ]
    }
   ],
   "source": [
    "# выведем сводную информацию о датафреймах\n",
    "for i, df in enumerate([geo_data_0, geo_data_1, geo_data_2]):\n",
    "    print(\"=\" * 15, f'geo_{str(i)}', \"=\" * 15)\n",
    "    print(df.info(), '\\n')"
   ]
  },
  {
   "cell_type": "markdown",
   "metadata": {},
   "source": [
    "Данные трех регионов были загружены. В кажом датафрейме данные о 10 тысячах скважин.\n",
    "\n",
    "Все данные числовые, в данных не наблюдается пропусков, данные верно типизированы."
   ]
  },
  {
   "cell_type": "markdown",
   "metadata": {},
   "source": [
    "### Предобработка данных"
   ]
  },
  {
   "cell_type": "code",
   "execution_count": 12,
   "metadata": {},
   "outputs": [
    {
     "name": "stdout",
     "output_type": "stream",
     "text": [
      "=============== geo_0 ===============\n",
      "Кол-во дубликатов: 0\n",
      "Кол-во дубликатов входных признаков: 0\n",
      "\n",
      "=============== geo_1 ===============\n",
      "Кол-во дубликатов: 0\n",
      "Кол-во дубликатов входных признаков: 0\n",
      "\n",
      "=============== geo_2 ===============\n",
      "Кол-во дубликатов: 0\n",
      "Кол-во дубликатов входных признаков: 0\n",
      "\n"
     ]
    }
   ],
   "source": [
    "# выведем количество дублирующихся строк с данными\n",
    "for i, df in enumerate([geo_data_0, geo_data_1, geo_data_2]):\n",
    "    print(\"=\" * 15, f'geo_{str(i)}', \"=\" * 15)\n",
    "#     print(f'Кол-во дублирующихся индексов: {df.index.duplicated().sum()}')\n",
    "    print(f'Кол-во дубликатов: {df.duplicated().sum()}')\n",
    "    print(f'Кол-во дубликатов входных признаков: {df[[\"f0\",\"f1\",\"f2\"]].duplicated().sum()}\\n')"
   ]
  },
  {
   "cell_type": "markdown",
   "metadata": {},
   "source": [
    "Дублирующихся данных не наблюдается. Данные входных признаков уникальны."
   ]
  },
  {
   "cell_type": "markdown",
   "metadata": {},
   "source": [
    "### Исследовательский анализ данных"
   ]
  },
  {
   "cell_type": "code",
   "execution_count": 13,
   "metadata": {},
   "outputs": [
    {
     "name": "stdout",
     "output_type": "stream",
     "text": [
      "=============== geo_0 ===============\n"
     ]
    },
    {
     "data": {
      "text/html": [
       "<div>\n",
       "<style scoped>\n",
       "    .dataframe tbody tr th:only-of-type {\n",
       "        vertical-align: middle;\n",
       "    }\n",
       "\n",
       "    .dataframe tbody tr th {\n",
       "        vertical-align: top;\n",
       "    }\n",
       "\n",
       "    .dataframe thead th {\n",
       "        text-align: right;\n",
       "    }\n",
       "</style>\n",
       "<table border=\"1\" class=\"dataframe\">\n",
       "  <thead>\n",
       "    <tr style=\"text-align: right;\">\n",
       "      <th></th>\n",
       "      <th>f0</th>\n",
       "      <th>f1</th>\n",
       "      <th>f2</th>\n",
       "      <th>product</th>\n",
       "    </tr>\n",
       "  </thead>\n",
       "  <tbody>\n",
       "    <tr>\n",
       "      <th>count</th>\n",
       "      <td>100000.000000</td>\n",
       "      <td>100000.000000</td>\n",
       "      <td>100000.000000</td>\n",
       "      <td>100000.000000</td>\n",
       "    </tr>\n",
       "    <tr>\n",
       "      <th>mean</th>\n",
       "      <td>0.500419</td>\n",
       "      <td>0.250143</td>\n",
       "      <td>2.502647</td>\n",
       "      <td>92.500000</td>\n",
       "    </tr>\n",
       "    <tr>\n",
       "      <th>std</th>\n",
       "      <td>0.871832</td>\n",
       "      <td>0.504433</td>\n",
       "      <td>3.248248</td>\n",
       "      <td>44.288691</td>\n",
       "    </tr>\n",
       "    <tr>\n",
       "      <th>min</th>\n",
       "      <td>-1.408605</td>\n",
       "      <td>-0.848218</td>\n",
       "      <td>-12.088328</td>\n",
       "      <td>0.000000</td>\n",
       "    </tr>\n",
       "    <tr>\n",
       "      <th>25%</th>\n",
       "      <td>-0.072580</td>\n",
       "      <td>-0.200881</td>\n",
       "      <td>0.287748</td>\n",
       "      <td>56.497507</td>\n",
       "    </tr>\n",
       "    <tr>\n",
       "      <th>50%</th>\n",
       "      <td>0.502360</td>\n",
       "      <td>0.250252</td>\n",
       "      <td>2.515969</td>\n",
       "      <td>91.849972</td>\n",
       "    </tr>\n",
       "    <tr>\n",
       "      <th>75%</th>\n",
       "      <td>1.073581</td>\n",
       "      <td>0.700646</td>\n",
       "      <td>4.715088</td>\n",
       "      <td>128.564089</td>\n",
       "    </tr>\n",
       "    <tr>\n",
       "      <th>max</th>\n",
       "      <td>2.362331</td>\n",
       "      <td>1.343769</td>\n",
       "      <td>16.003790</td>\n",
       "      <td>185.364347</td>\n",
       "    </tr>\n",
       "  </tbody>\n",
       "</table>\n",
       "</div>"
      ],
      "text/plain": [
       "                  f0             f1             f2        product\n",
       "count  100000.000000  100000.000000  100000.000000  100000.000000\n",
       "mean        0.500419       0.250143       2.502647      92.500000\n",
       "std         0.871832       0.504433       3.248248      44.288691\n",
       "min        -1.408605      -0.848218     -12.088328       0.000000\n",
       "25%        -0.072580      -0.200881       0.287748      56.497507\n",
       "50%         0.502360       0.250252       2.515969      91.849972\n",
       "75%         1.073581       0.700646       4.715088     128.564089\n",
       "max         2.362331       1.343769      16.003790     185.364347"
      ]
     },
     "metadata": {},
     "output_type": "display_data"
    },
    {
     "name": "stdout",
     "output_type": "stream",
     "text": [
      "\n",
      "=============== geo_1 ===============\n"
     ]
    },
    {
     "data": {
      "text/html": [
       "<div>\n",
       "<style scoped>\n",
       "    .dataframe tbody tr th:only-of-type {\n",
       "        vertical-align: middle;\n",
       "    }\n",
       "\n",
       "    .dataframe tbody tr th {\n",
       "        vertical-align: top;\n",
       "    }\n",
       "\n",
       "    .dataframe thead th {\n",
       "        text-align: right;\n",
       "    }\n",
       "</style>\n",
       "<table border=\"1\" class=\"dataframe\">\n",
       "  <thead>\n",
       "    <tr style=\"text-align: right;\">\n",
       "      <th></th>\n",
       "      <th>f0</th>\n",
       "      <th>f1</th>\n",
       "      <th>f2</th>\n",
       "      <th>product</th>\n",
       "    </tr>\n",
       "  </thead>\n",
       "  <tbody>\n",
       "    <tr>\n",
       "      <th>count</th>\n",
       "      <td>100000.000000</td>\n",
       "      <td>100000.000000</td>\n",
       "      <td>100000.000000</td>\n",
       "      <td>100000.000000</td>\n",
       "    </tr>\n",
       "    <tr>\n",
       "      <th>mean</th>\n",
       "      <td>1.141296</td>\n",
       "      <td>-4.796579</td>\n",
       "      <td>2.494541</td>\n",
       "      <td>68.825000</td>\n",
       "    </tr>\n",
       "    <tr>\n",
       "      <th>std</th>\n",
       "      <td>8.965932</td>\n",
       "      <td>5.119872</td>\n",
       "      <td>1.703572</td>\n",
       "      <td>45.944423</td>\n",
       "    </tr>\n",
       "    <tr>\n",
       "      <th>min</th>\n",
       "      <td>-31.609576</td>\n",
       "      <td>-26.358598</td>\n",
       "      <td>-0.018144</td>\n",
       "      <td>0.000000</td>\n",
       "    </tr>\n",
       "    <tr>\n",
       "      <th>25%</th>\n",
       "      <td>-6.298551</td>\n",
       "      <td>-8.267985</td>\n",
       "      <td>1.000021</td>\n",
       "      <td>26.953261</td>\n",
       "    </tr>\n",
       "    <tr>\n",
       "      <th>50%</th>\n",
       "      <td>1.153055</td>\n",
       "      <td>-4.813172</td>\n",
       "      <td>2.011479</td>\n",
       "      <td>57.085625</td>\n",
       "    </tr>\n",
       "    <tr>\n",
       "      <th>75%</th>\n",
       "      <td>8.621015</td>\n",
       "      <td>-1.332816</td>\n",
       "      <td>3.999904</td>\n",
       "      <td>107.813044</td>\n",
       "    </tr>\n",
       "    <tr>\n",
       "      <th>max</th>\n",
       "      <td>29.421755</td>\n",
       "      <td>18.734063</td>\n",
       "      <td>5.019721</td>\n",
       "      <td>137.945408</td>\n",
       "    </tr>\n",
       "  </tbody>\n",
       "</table>\n",
       "</div>"
      ],
      "text/plain": [
       "                  f0             f1             f2        product\n",
       "count  100000.000000  100000.000000  100000.000000  100000.000000\n",
       "mean        1.141296      -4.796579       2.494541      68.825000\n",
       "std         8.965932       5.119872       1.703572      45.944423\n",
       "min       -31.609576     -26.358598      -0.018144       0.000000\n",
       "25%        -6.298551      -8.267985       1.000021      26.953261\n",
       "50%         1.153055      -4.813172       2.011479      57.085625\n",
       "75%         8.621015      -1.332816       3.999904     107.813044\n",
       "max        29.421755      18.734063       5.019721     137.945408"
      ]
     },
     "metadata": {},
     "output_type": "display_data"
    },
    {
     "name": "stdout",
     "output_type": "stream",
     "text": [
      "\n",
      "=============== geo_2 ===============\n"
     ]
    },
    {
     "data": {
      "text/html": [
       "<div>\n",
       "<style scoped>\n",
       "    .dataframe tbody tr th:only-of-type {\n",
       "        vertical-align: middle;\n",
       "    }\n",
       "\n",
       "    .dataframe tbody tr th {\n",
       "        vertical-align: top;\n",
       "    }\n",
       "\n",
       "    .dataframe thead th {\n",
       "        text-align: right;\n",
       "    }\n",
       "</style>\n",
       "<table border=\"1\" class=\"dataframe\">\n",
       "  <thead>\n",
       "    <tr style=\"text-align: right;\">\n",
       "      <th></th>\n",
       "      <th>f0</th>\n",
       "      <th>f1</th>\n",
       "      <th>f2</th>\n",
       "      <th>product</th>\n",
       "    </tr>\n",
       "  </thead>\n",
       "  <tbody>\n",
       "    <tr>\n",
       "      <th>count</th>\n",
       "      <td>100000.000000</td>\n",
       "      <td>100000.000000</td>\n",
       "      <td>100000.000000</td>\n",
       "      <td>100000.000000</td>\n",
       "    </tr>\n",
       "    <tr>\n",
       "      <th>mean</th>\n",
       "      <td>0.002023</td>\n",
       "      <td>-0.002081</td>\n",
       "      <td>2.495128</td>\n",
       "      <td>95.000000</td>\n",
       "    </tr>\n",
       "    <tr>\n",
       "      <th>std</th>\n",
       "      <td>1.732045</td>\n",
       "      <td>1.730417</td>\n",
       "      <td>3.473445</td>\n",
       "      <td>44.749921</td>\n",
       "    </tr>\n",
       "    <tr>\n",
       "      <th>min</th>\n",
       "      <td>-8.760004</td>\n",
       "      <td>-7.084020</td>\n",
       "      <td>-11.970335</td>\n",
       "      <td>0.000000</td>\n",
       "    </tr>\n",
       "    <tr>\n",
       "      <th>25%</th>\n",
       "      <td>-1.162288</td>\n",
       "      <td>-1.174820</td>\n",
       "      <td>0.130359</td>\n",
       "      <td>59.450441</td>\n",
       "    </tr>\n",
       "    <tr>\n",
       "      <th>50%</th>\n",
       "      <td>0.009424</td>\n",
       "      <td>-0.009482</td>\n",
       "      <td>2.484236</td>\n",
       "      <td>94.925613</td>\n",
       "    </tr>\n",
       "    <tr>\n",
       "      <th>75%</th>\n",
       "      <td>1.158535</td>\n",
       "      <td>1.163678</td>\n",
       "      <td>4.858794</td>\n",
       "      <td>130.595027</td>\n",
       "    </tr>\n",
       "    <tr>\n",
       "      <th>max</th>\n",
       "      <td>7.238262</td>\n",
       "      <td>7.844801</td>\n",
       "      <td>16.739402</td>\n",
       "      <td>190.029838</td>\n",
       "    </tr>\n",
       "  </tbody>\n",
       "</table>\n",
       "</div>"
      ],
      "text/plain": [
       "                  f0             f1             f2        product\n",
       "count  100000.000000  100000.000000  100000.000000  100000.000000\n",
       "mean        0.002023      -0.002081       2.495128      95.000000\n",
       "std         1.732045       1.730417       3.473445      44.749921\n",
       "min        -8.760004      -7.084020     -11.970335       0.000000\n",
       "25%        -1.162288      -1.174820       0.130359      59.450441\n",
       "50%         0.009424      -0.009482       2.484236      94.925613\n",
       "75%         1.158535       1.163678       4.858794     130.595027\n",
       "max         7.238262       7.844801      16.739402     190.029838"
      ]
     },
     "metadata": {},
     "output_type": "display_data"
    },
    {
     "name": "stdout",
     "output_type": "stream",
     "text": [
      "\n"
     ]
    }
   ],
   "source": [
    "# выведем статистику числовых данных (все данные) по таблицам\n",
    "for i, df in enumerate([geo_data_0, geo_data_1, geo_data_2]):\n",
    "    print(\"=\" * 15, f'geo_{str(i)}', \"=\" * 15)\n",
    "    display(df.describe())\n",
    "    print()"
   ]
  },
  {
   "cell_type": "markdown",
   "metadata": {},
   "source": [
    "В данных не наблюдается выбросов.\n",
    "\n",
    "Данные во всех колонках распределены в разном интервале. Для наглядности построим гистограммы распределения.\n",
    "\n",
    "У целевого признака достаточно большая дисперсия ~2000 (44.8^2)."
   ]
  },
  {
   "cell_type": "code",
   "execution_count": 14,
   "metadata": {},
   "outputs": [
    {
     "data": {
      "image/png": "[encoded data removed]",
      "text/plain": [
       "<Figure size 1500x1500 with 12 Axes>"
      ]
     },
     "metadata": {},
     "output_type": "display_data"
    }
   ],
   "source": [
    "# построим графики распределения данных \n",
    "fig, ax = plt.subplots(4,3, figsize=(15,15))\n",
    "fig.suptitle('Распределенение данных')\n",
    "fig.tight_layout(pad=2)\n",
    "plt.subplots_adjust(wspace=.5, hspace=0.5)\n",
    "for i, df in enumerate([geo_data_0, geo_data_1, geo_data_2]):\n",
    "    for j, col in enumerate(df.columns):\n",
    "        ax[j,i].hist(df[col], bins=25)\n",
    "        ax[j,i].set_title(f'geo_{str(i)}, {col}')\n",
    "        ax[j,i].set_ylabel('count')\n",
    "        ax[j,i].set_xlabel('value')"
   ]
  },
  {
   "cell_type": "markdown",
   "metadata": {},
   "source": [
    "Для более корректой работы с моделью линейной регрессии следует масштабировать все данные.\n",
    "\n",
    "С целю сохранения исходного вида распределения данных входные признаки следует масштабировать в интервале `(-1,1)`, а целевой — в интервале `(0,1)`."
   ]
  },
  {
   "cell_type": "markdown",
   "metadata": {},
   "source": [
    "### Корреляционный анализ данных"
   ]
  },
  {
   "cell_type": "code",
   "execution_count": 15,
   "metadata": {},
   "outputs": [
    {
     "data": {
      "image/png": "[encoded data removed]",
      "text/plain": [
       "<Figure size 1500x400 with 6 Axes>"
      ]
     },
     "metadata": {},
     "output_type": "display_data"
    }
   ],
   "source": [
    "fig, ax = plt.subplots(1,3, figsize=(15,4))\n",
    "fig.suptitle('Матрица корреляции признаков')\n",
    "fig.tight_layout(pad=1.5)\n",
    "plt.subplots_adjust(wspace=.3)\n",
    "\n",
    "for i, df in enumerate([geo_data_0, geo_data_1, geo_data_2]):\n",
    "    corr_m = df.corr()\n",
    "    sns.heatmap(corr_m, annot=True, cmap='YlGnBu', fmt=\".2f\", ax=ax[i])\n",
    "    ax[i].set_title(f'geo_{str(i)}')\n"
   ]
  },
  {
   "cell_type": "markdown",
   "metadata": {},
   "source": [
    "Мультиколлинеарности между входными признаками для всех регионов не наблюдается, тогда как для второго региона между признаком `f2` и целевым наблюдается коэфф. корреляции равный `1`, что может свидетельствовать об утечке данных.\n",
    "\n",
    "Так как все входные признаки одинаково значимы, сохраним данный признак."
   ]
  },
  {
   "cell_type": "markdown",
   "metadata": {},
   "source": [
    "### Выводы"
   ]
  },
  {
   "cell_type": "markdown",
   "metadata": {},
   "source": [
    "1. Данные были очищены от дублирующихся значений `id`.\n",
    "\n",
    "\n",
    "2. Все количественные данные необходимо масштабировать для корректного обучения модели, так как данные имеют разный разброс, из-за чего модель может увеличить значимость признаков.\n",
    "\n",
    "\n",
    "3. Для второго региона наблюдается сильная корреляция между входным признаком `f2` и целевым, так как все входные признаки значимы, данные сохранены."
   ]
  },
  {
   "cell_type": "markdown",
   "metadata": {},
   "source": [
    "## Обучение и проверка модели"
   ]
  },
  {
   "cell_type": "markdown",
   "metadata": {},
   "source": [
    "### Разделение данных на выборки"
   ]
  },
  {
   "cell_type": "code",
   "execution_count": 16,
   "metadata": {},
   "outputs": [
    {
     "name": "stdout",
     "output_type": "stream",
     "text": [
      "============geo_0=============\n",
      "train_shape - (75000, 3)\n",
      "test_shape - (25000, 3)\n",
      "\n",
      "============geo_1=============\n",
      "train_shape - (75000, 3)\n",
      "test_shape - (25000, 3)\n",
      "\n",
      "============geo_2=============\n",
      "train_shape - (75000, 3)\n",
      "test_shape - (25000, 3)\n",
      "\n"
     ]
    }
   ],
   "source": [
    "# разделим данные на тренировочную и тестовую выборку\n",
    "print(f'{\"geo_0\":=^30}')\n",
    "X_train_0, X_test_0, y_train_0, y_test_0 = data_split(geo_data_0)\n",
    "print(f'{\"geo_1\":=^30}')\n",
    "X_train_1, X_test_1, y_train_1, y_test_1 = data_split(geo_data_1)\n",
    "print(f'{\"geo_2\":=^30}')\n",
    "X_train_2, X_test_2, y_train_2, y_test_2 = data_split(geo_data_2)"
   ]
  },
  {
   "cell_type": "markdown",
   "metadata": {},
   "source": [
    "Данные корректно разделены."
   ]
  },
  {
   "cell_type": "markdown",
   "metadata": {},
   "source": [
    "### Масштабирование данных"
   ]
  },
  {
   "cell_type": "code",
   "execution_count": 17,
   "metadata": {},
   "outputs": [],
   "source": [
    "# масштабируем входные признаки\n",
    "X_train_scaled_0, X_test_scaled_0 = minmax_scaler(X_train_0, X_test_0, (-1,1))\n",
    "X_train_scaled_1, X_test_scaled_1 = minmax_scaler(X_train_1, X_test_1, (-1,1))\n",
    "X_train_scaled_2, X_test_scaled_2 = minmax_scaler(X_train_2, X_test_2, (-1,1))"
   ]
  },
  {
   "cell_type": "markdown",
   "metadata": {},
   "source": [
    "Данные масштабированы перед обучением моделей."
   ]
  },
  {
   "cell_type": "markdown",
   "metadata": {},
   "source": [
    "### Обучение моделей"
   ]
  },
  {
   "cell_type": "code",
   "execution_count": 18,
   "metadata": {
    "scrolled": true
   },
   "outputs": [
    {
     "name": "stdout",
     "output_type": "stream",
     "text": [
      "============geo_0=============\n",
      "Cр.запас сырья (предсказанный), тыс.барр.: 92.34\n",
      "Метрика RMSE, тыс.барр: 37.75\n",
      "\n",
      "============geo_1=============\n",
      "Cр.запас сырья (предсказанный), тыс.барр.: 68.70\n",
      "Метрика RMSE, тыс.барр: 0.89\n",
      "\n",
      "============geo_2=============\n",
      "Cр.запас сырья (предсказанный), тыс.барр.: 95.01\n",
      "Метрика RMSE, тыс.барр: 40.08\n"
     ]
    }
   ],
   "source": [
    "# обучим модели и сохраним предсказанные значения\n",
    "print(f'{\"geo_0\":=^30}')\n",
    "model_0, y_preds_0 = l_reg_model(X_train_scaled_0, X_test_scaled_0, y_train_0, y_test_0)\n",
    "print()\n",
    "\n",
    "print(f'{\"geo_1\":=^30}')\n",
    "model_1, y_preds_1 = l_reg_model(X_train_scaled_1, X_test_scaled_1, y_train_1, y_test_1)\n",
    "print()\n",
    "\n",
    "print(f'{\"geo_2\":=^30}')\n",
    "model_2, y_preds_2 = l_reg_model(X_train_scaled_2, X_test_scaled_2, y_train_2, y_test_2)"
   ]
  },
  {
   "cell_type": "markdown",
   "metadata": {},
   "source": [
    "### Выводы"
   ]
  },
  {
   "cell_type": "markdown",
   "metadata": {},
   "source": [
    "Средний предсказанный запас нефти, как и корень ср.квадратичной ошибки первого и второго региона довольно близки.\n",
    "\n",
    "Для второго региона корень ср.квадратичной ошибки минимален (меньше 1), а само значение среднего запаса значительно ниже, чем для остальных двух регионов."
   ]
  },
  {
   "cell_type": "markdown",
   "metadata": {},
   "source": [
    "## Подготовка к расчёту прибыли"
   ]
  },
  {
   "cell_type": "markdown",
   "metadata": {},
   "source": [
    "### Минимальный объем запасов"
   ]
  },
  {
   "cell_type": "code",
   "execution_count": 19,
   "metadata": {},
   "outputs": [
    {
     "name": "stdout",
     "output_type": "stream",
     "text": [
      "Объём запасов сырья в скважине для безубыточной разработки региона, тыс.барр.: 111.11\n",
      "\n",
      "Средний запас сырья в скважинах региона, тыс.барр.\n",
      "--------------------\n",
      "geo_0     92.64\n",
      "geo_1     68.69\n",
      "geo_2     95.12\n"
     ]
    }
   ],
   "source": [
    "# посчтитаем минимальный объем запасов региона\n",
    "volume_min = BUDGET / PROFIT_PER_UNIT\n",
    "# минимальный объем запасов для одной скважины региона\n",
    "volume_per_point = volume_min / BEST_POINTS\n",
    "print(f'Объём запасов сырья в скважине для безубыточной разработки региона, тыс.барр.: {round(volume_per_point, 2):.2f}')\n",
    "print()\n",
    "print(\"Средний запас сырья в скважинах региона, тыс.барр.\\n--------------------\")\n",
    "print(f'geo_0     {y_test_0.mean():.2f}')\n",
    "print(f'geo_1     {y_test_1.mean():.2f}')\n",
    "print(f'geo_2     {y_test_2.mean():.2f}')"
   ]
  },
  {
   "cell_type": "markdown",
   "metadata": {},
   "source": [
    "### Выводы"
   ]
  },
  {
   "cell_type": "markdown",
   "metadata": {},
   "source": [
    "1. Минимальные объем запасов скважины должен равняться 111.11 тыс.барр. для безубыточной разработки региона.\n",
    "\n",
    "\n",
    "2. Среднее значение запасов скважин в регионах равно меньше этого значения. Средние значения запасов в каждом регионе получены из данных 25 тыс. скважин.\n",
    "Регион|Ср. запасы, тыс.барр.\n",
    ":-|-:\n",
    "geo_0  |   92.64\n",
    "geo_1   |  68.69\n",
    "geo_2    | 95.12\n",
    "\n",
    "\n",
    "3. Исходя из того, что среднее значение запасов меньше минимального безубыточного объема, можно предположить, что есть риск того, что проработка скважин в регионах может не окупиться. Следует проверить прибыльность и риски для каждого региона."
   ]
  },
  {
   "cell_type": "markdown",
   "metadata": {},
   "source": [
    "## Расчёт прибыли и рисков "
   ]
  },
  {
   "cell_type": "markdown",
   "metadata": {},
   "source": [
    "### Расчёт рибыли"
   ]
  },
  {
   "cell_type": "markdown",
   "metadata": {},
   "source": [
    "Напишите функцию для расчёта прибыли по выбранным скважинам и предсказаниям модели:\n",
    "1. Выберите скважины с максимальными значениями предсказаний. \n",
    "2. Просуммируйте целевое значение объёма сырья, соответствующее этим предсказаниям.\n",
    "3. Рассчитайте прибыль для полученного объёма сырья."
   ]
  },
  {
   "cell_type": "code",
   "execution_count": 20,
   "metadata": {},
   "outputs": [
    {
     "name": "stdout",
     "output_type": "stream",
     "text": [
      "Прибыль, млрд.руб.\n",
      "---------------\n",
      "geo_0     3.34\n",
      "geo_1     2.42\n",
      "geo_1     2.46\n"
     ]
    }
   ],
   "source": [
    "print(\"Прибыль, млрд.руб.\")\n",
    "print(\"-\" * 15)\n",
    "total_profit_0 = calculate_profit(y_test_0, y_preds_0)\n",
    "print(f'geo_0     {total_profit_0:.2f}')\n",
    "\n",
    "total_profit_1 = calculate_profit(y_test_1, y_preds_1)\n",
    "print(f'geo_1     {total_profit_1:.2f}')\n",
    "\n",
    "total_profit_2 = calculate_profit(y_test_2, y_preds_2)\n",
    "print(f'geo_1     {total_profit_2:.2f}')"
   ]
  },
  {
   "cell_type": "markdown",
   "metadata": {},
   "source": [
    "### Расчёт рисков"
   ]
  },
  {
   "cell_type": "markdown",
   "metadata": {},
   "source": [
    "Посчитайте риски и прибыль для каждого региона:\n",
    "1. Примените технику Bootstrap с 1000 выборок, чтобы найти распределение прибыли.\n",
    "2. Найдите среднюю прибыль, 95%-й доверительный интервал и риск убытков. Убыток — это отрицательная прибыль.\n",
    "3. Напишите выводы: предложите регион для разработки скважин и обоснуйте выбор."
   ]
  },
  {
   "cell_type": "code",
   "execution_count": 21,
   "metadata": {},
   "outputs": [
    {
     "name": "stdout",
     "output_type": "stream",
     "text": [
      "============geo_0=============\n",
      "Риск убытков: 3.70%\n",
      "\n",
      "============geo_1=============\n",
      "Средняя прибыль, млрд.руб.: 0.448\n",
      "\n",
      "Доверительный интервал 95%\n",
      "-------------------------\n",
      "Нижняя граница, млрд.руб.: 0.049\n",
      "Верхняя граница, млрд.руб.: 0.845\n",
      "\n",
      "Риск убытков: 1.50%\n",
      "\n",
      "\n",
      "============geo_2=============\n",
      "Риск убытков: 7.20%\n"
     ]
    }
   ],
   "source": [
    "print(f'{\"geo_0\":=^30}')\n",
    "profits_0 = profits_and_risks(y_test_0, y_preds_0)\n",
    "print()\n",
    "\n",
    "print(f'{\"geo_1\":=^30}')\n",
    "profits_1 = profits_and_risks(y_test_1, y_preds_1)\n",
    "print()\n",
    "\n",
    "print(f'{\"geo_2\":=^30}')\n",
    "profits_2 = profits_and_risks(y_test_2, y_preds_2)"
   ]
  },
  {
   "cell_type": "markdown",
   "metadata": {},
   "source": [
    "### Выводы"
   ]
  },
  {
   "cell_type": "markdown",
   "metadata": {},
   "source": [
    "В двух регионах (1-ый и 3-ий) риск убытков более 2.5%. Наименьшая вероятность убытков во 2 регионе — 1.5%. Средняя прибыль для данного участка равна 0.448 млрд.руб."
   ]
  },
  {
   "cell_type": "markdown",
   "metadata": {},
   "source": [
    "## Итоговые выводы"
   ]
  },
  {
   "cell_type": "markdown",
   "metadata": {},
   "source": [
    "1. Данные были очищены от дублирующихся значений `id`.\n",
    "\n",
    "\n",
    "2. Получены предсказанные значения запасов для каждого региона валидационных выборок (см. таблицу ниже).\n",
    "\n",
    "\n",
    "3. Был вычислен мин.объем запасов скважины для безубыточной разработки региона — 111.11 тыс.барр..\n",
    "\n",
    "\n",
    "4. Получены средние значения запасов скважин в регионах валидационных выборок.\n",
    "\n",
    "Регион|Ср.запас сырья, тыс.барр.|Cр.запас сырья (данные МО), тыс.барр.| Метрика RMSE (данные МО), тыс.барр.\n",
    ":-|-:|-:|-:\n",
    "geo_0|92.64|92.34|37.75\n",
    "geo_1|68.69|68.70|0.89\n",
    "geo_2|95.12|95.01|40.08\n",
    "\n",
    "Средний предсказанный запас нефти, как и корень ср.квадратичной ошибки первого и второго региона довольно близки. Для второго региона корень ср.квадратичной ошибки меньше `1`, а само значение среднего запаса значительно ниже, чем для остальных двух регионов.\n",
    "\n",
    "\n",
    "5. Для каждого региона были посчитаны риски и прибыль:\n",
    "    * в двух регионах риск убытков более 2.5%. Наименьшая вероятность убытков во 2 регионе.\n",
    "    * средняя прибыль с разработки второго участка составляет 0.448 млрд.руб."
   ]
  },
  {
   "cell_type": "markdown",
   "metadata": {},
   "source": [
    "***Рекомендации***\n",
    "\n",
    "На основе анализа предоставленных данных, результатов применения масшинного обучения и применения тахники Bootstrap предлагается регион 2-ой участок (`geo_1`) с наименьшим риском убытка."
   ]
  }
 ],
 "metadata": {
  "ExecuteTimeLog": [
   {
    "duration": 26356,
    "start_time": "2024-10-30T18:43:09.928Z"
   },
   {
    "duration": 433,
    "start_time": "2024-10-30T18:44:03.931Z"
   },
   {
    "duration": 5,
    "start_time": "2024-10-30T18:51:43.112Z"
   },
   {
    "duration": 202,
    "start_time": "2024-10-30T18:52:24.372Z"
   },
   {
    "duration": 838,
    "start_time": "2024-10-30T18:53:01.506Z"
   },
   {
    "duration": 1835,
    "start_time": "2024-10-30T18:53:24.204Z"
   },
   {
    "duration": 391,
    "start_time": "2024-10-30T18:53:46.839Z"
   },
   {
    "duration": 4,
    "start_time": "2024-10-30T18:53:48.283Z"
   },
   {
    "duration": 1022,
    "start_time": "2024-10-30T18:53:49.101Z"
   },
   {
    "duration": 1074,
    "start_time": "2024-10-30T18:54:39.573Z"
   },
   {
    "duration": 20,
    "start_time": "2024-10-30T18:55:04.551Z"
   },
   {
    "duration": 93,
    "start_time": "2024-10-30T18:56:40.883Z"
   },
   {
    "duration": 13,
    "start_time": "2024-10-30T18:56:47.687Z"
   },
   {
    "duration": 28,
    "start_time": "2024-10-30T18:56:55.145Z"
   },
   {
    "duration": 664,
    "start_time": "2024-10-30T18:57:50.814Z"
   },
   {
    "duration": 81,
    "start_time": "2024-10-30T18:58:24.185Z"
   },
   {
    "duration": 78,
    "start_time": "2024-10-30T18:58:52.006Z"
   },
   {
    "duration": 32,
    "start_time": "2024-10-30T18:59:04.010Z"
   },
   {
    "duration": 36,
    "start_time": "2024-10-30T18:59:07.951Z"
   },
   {
    "duration": 25,
    "start_time": "2024-10-30T18:59:17.703Z"
   },
   {
    "duration": 40,
    "start_time": "2024-10-30T18:59:27.077Z"
   },
   {
    "duration": 25,
    "start_time": "2024-10-30T18:59:39.039Z"
   },
   {
    "duration": 33,
    "start_time": "2024-10-30T19:00:02.383Z"
   },
   {
    "duration": 34,
    "start_time": "2024-10-30T19:00:10.733Z"
   },
   {
    "duration": 603,
    "start_time": "2024-10-30T19:00:51.430Z"
   },
   {
    "duration": 35,
    "start_time": "2024-10-30T19:01:16.703Z"
   },
   {
    "duration": 753,
    "start_time": "2024-10-30T19:02:20.795Z"
   },
   {
    "duration": 702,
    "start_time": "2024-10-30T19:02:49.427Z"
   },
   {
    "duration": 192,
    "start_time": "2024-10-30T19:04:17.773Z"
   },
   {
    "duration": 655,
    "start_time": "2024-10-30T19:05:18.152Z"
   },
   {
    "duration": 1295,
    "start_time": "2024-10-30T19:06:12.759Z"
   },
   {
    "duration": 11,
    "start_time": "2024-10-30T19:06:46.855Z"
   },
   {
    "duration": 160,
    "start_time": "2024-10-30T19:07:04.160Z"
   },
   {
    "duration": 203,
    "start_time": "2024-10-30T19:07:08.649Z"
   },
   {
    "duration": 619,
    "start_time": "2024-10-30T19:07:18.849Z"
   },
   {
    "duration": 1120,
    "start_time": "2024-10-30T19:07:59.541Z"
   },
   {
    "duration": 1804,
    "start_time": "2024-10-30T19:35:34.235Z"
   },
   {
    "duration": 1604,
    "start_time": "2024-10-30T19:36:40.039Z"
   },
   {
    "duration": 4,
    "start_time": "2024-10-30T19:36:42.023Z"
   },
   {
    "duration": 941,
    "start_time": "2024-10-30T19:36:42.413Z"
   },
   {
    "duration": 455,
    "start_time": "2024-10-30T19:36:43.356Z"
   },
   {
    "duration": 739,
    "start_time": "2024-10-30T19:36:46.976Z"
   },
   {
    "duration": 172,
    "start_time": "2024-10-30T19:36:50.293Z"
   },
   {
    "duration": 124,
    "start_time": "2024-10-30T19:37:37.928Z"
   },
   {
    "duration": 1597,
    "start_time": "2024-10-30T19:38:15.445Z"
   },
   {
    "duration": 5,
    "start_time": "2024-10-30T19:38:17.044Z"
   },
   {
    "duration": 520,
    "start_time": "2024-10-30T19:38:17.050Z"
   },
   {
    "duration": 440,
    "start_time": "2024-10-30T19:38:17.573Z"
   },
   {
    "duration": 88,
    "start_time": "2024-10-30T19:38:35.050Z"
   },
   {
    "duration": 27,
    "start_time": "2024-10-30T19:38:36.303Z"
   },
   {
    "duration": 1569,
    "start_time": "2024-10-30T19:38:48.655Z"
   },
   {
    "duration": 109,
    "start_time": "2024-10-30T19:39:02.747Z"
   },
   {
    "duration": 3341,
    "start_time": "2024-10-30T19:39:34.428Z"
   },
   {
    "duration": 2307,
    "start_time": "2024-10-30T19:40:02.020Z"
   },
   {
    "duration": 11046,
    "start_time": "2024-10-30T19:40:30.470Z"
   },
   {
    "duration": 81,
    "start_time": "2024-10-30T19:43:29.071Z"
   },
   {
    "duration": 2359,
    "start_time": "2024-10-30T19:45:04.019Z"
   },
   {
    "duration": 2249,
    "start_time": "2024-10-30T19:45:34.244Z"
   },
   {
    "duration": 2943,
    "start_time": "2024-10-30T19:46:10.626Z"
   },
   {
    "duration": 3550,
    "start_time": "2024-10-30T19:46:29.566Z"
   },
   {
    "duration": 2837,
    "start_time": "2024-10-30T19:47:03.842Z"
   },
   {
    "duration": 2676,
    "start_time": "2024-10-30T19:47:16.780Z"
   },
   {
    "duration": 2586,
    "start_time": "2024-10-30T19:47:20.352Z"
   },
   {
    "duration": 2832,
    "start_time": "2024-10-30T19:47:33.129Z"
   },
   {
    "duration": 2964,
    "start_time": "2024-10-30T19:47:37.423Z"
   },
   {
    "duration": 2622,
    "start_time": "2024-10-30T19:47:44.611Z"
   },
   {
    "duration": 1432,
    "start_time": "2024-10-30T19:50:14.904Z"
   },
   {
    "duration": 2114,
    "start_time": "2024-10-30T19:50:35.295Z"
   },
   {
    "duration": 2488,
    "start_time": "2024-10-30T19:50:52.572Z"
   },
   {
    "duration": 2813,
    "start_time": "2024-10-30T19:52:03.579Z"
   },
   {
    "duration": 1360,
    "start_time": "2024-10-30T19:52:40.933Z"
   },
   {
    "duration": 1899,
    "start_time": "2024-10-30T19:52:58.617Z"
   },
   {
    "duration": 1473,
    "start_time": "2024-10-30T19:53:01.644Z"
   },
   {
    "duration": 2508,
    "start_time": "2024-10-30T19:53:15.069Z"
   },
   {
    "duration": 3124,
    "start_time": "2024-10-30T19:53:51.385Z"
   },
   {
    "duration": 2318,
    "start_time": "2024-10-30T19:54:51.351Z"
   },
   {
    "duration": 2298,
    "start_time": "2024-10-30T19:55:23.571Z"
   },
   {
    "duration": 2738,
    "start_time": "2024-10-30T19:55:49.319Z"
   },
   {
    "duration": 2458,
    "start_time": "2024-10-30T19:55:56.480Z"
   },
   {
    "duration": 3109,
    "start_time": "2024-10-30T19:56:30.482Z"
   },
   {
    "duration": 461,
    "start_time": "2024-10-30T19:58:56.268Z"
   },
   {
    "duration": 1093,
    "start_time": "2024-10-30T19:59:03.583Z"
   },
   {
    "duration": 1105,
    "start_time": "2024-10-30T19:59:30.223Z"
   },
   {
    "duration": 1080,
    "start_time": "2024-10-30T19:59:41.334Z"
   },
   {
    "duration": 1031,
    "start_time": "2024-10-30T19:59:46.546Z"
   },
   {
    "duration": 1036,
    "start_time": "2024-10-30T19:59:51.045Z"
   },
   {
    "duration": 1074,
    "start_time": "2024-10-30T20:00:19.678Z"
   },
   {
    "duration": 1045,
    "start_time": "2024-10-30T20:00:41.867Z"
   },
   {
    "duration": 976,
    "start_time": "2024-10-30T20:00:48.374Z"
   },
   {
    "duration": 1601,
    "start_time": "2024-10-30T20:00:52.978Z"
   },
   {
    "duration": 162,
    "start_time": "2024-10-30T20:01:26.847Z"
   },
   {
    "duration": 374,
    "start_time": "2024-10-30T20:02:42.142Z"
   },
   {
    "duration": 2594,
    "start_time": "2024-10-30T20:02:52.318Z"
   },
   {
    "duration": 3051,
    "start_time": "2024-10-30T20:04:11.852Z"
   },
   {
    "duration": 1631,
    "start_time": "2024-10-30T20:08:50.418Z"
   },
   {
    "duration": 4,
    "start_time": "2024-10-30T20:08:52.051Z"
   },
   {
    "duration": 553,
    "start_time": "2024-10-30T20:08:52.056Z"
   },
   {
    "duration": 422,
    "start_time": "2024-10-30T20:08:52.611Z"
   },
   {
    "duration": 26,
    "start_time": "2024-10-30T20:08:53.035Z"
   },
   {
    "duration": 114,
    "start_time": "2024-10-30T20:08:53.063Z"
   },
   {
    "duration": 141,
    "start_time": "2024-10-30T20:08:53.179Z"
   },
   {
    "duration": 2570,
    "start_time": "2024-10-30T20:08:53.346Z"
   },
   {
    "duration": 1085,
    "start_time": "2024-10-30T20:08:55.918Z"
   },
   {
    "duration": 2143,
    "start_time": "2024-10-30T20:09:31.498Z"
   },
   {
    "duration": 59,
    "start_time": "2024-10-30T20:12:02.905Z"
   },
   {
    "duration": 61,
    "start_time": "2024-10-30T20:12:21.595Z"
   },
   {
    "duration": 56,
    "start_time": "2024-10-30T20:12:44.027Z"
   },
   {
    "duration": 115,
    "start_time": "2024-10-30T20:12:48.741Z"
   },
   {
    "duration": 55,
    "start_time": "2024-10-30T20:12:57.450Z"
   },
   {
    "duration": 55,
    "start_time": "2024-10-30T20:13:16.950Z"
   },
   {
    "duration": 57,
    "start_time": "2024-10-30T20:13:26.404Z"
   },
   {
    "duration": 138,
    "start_time": "2024-10-30T20:13:30.747Z"
   },
   {
    "duration": 57,
    "start_time": "2024-10-30T20:14:01.255Z"
   },
   {
    "duration": 80,
    "start_time": "2024-10-30T20:14:11.346Z"
   },
   {
    "duration": 153,
    "start_time": "2024-10-30T20:14:14.975Z"
   },
   {
    "duration": 4,
    "start_time": "2024-10-30T20:17:14.011Z"
   },
   {
    "duration": 7,
    "start_time": "2024-10-30T20:17:20.694Z"
   },
   {
    "duration": 85,
    "start_time": "2024-10-30T20:19:36.126Z"
   },
   {
    "duration": 46,
    "start_time": "2024-10-30T20:24:14.179Z"
   },
   {
    "duration": 33,
    "start_time": "2024-10-30T20:24:24.237Z"
   },
   {
    "duration": 43,
    "start_time": "2024-10-30T20:25:04.049Z"
   },
   {
    "duration": 50,
    "start_time": "2024-10-30T20:25:29.572Z"
   },
   {
    "duration": 42,
    "start_time": "2024-10-30T20:26:02.253Z"
   },
   {
    "duration": 28,
    "start_time": "2024-10-30T20:26:02.621Z"
   },
   {
    "duration": 36,
    "start_time": "2024-10-30T20:26:02.905Z"
   },
   {
    "duration": 6,
    "start_time": "2024-10-30T20:28:36.795Z"
   },
   {
    "duration": 10,
    "start_time": "2024-10-30T20:28:39.617Z"
   },
   {
    "duration": 7,
    "start_time": "2024-10-30T20:28:51.766Z"
   },
   {
    "duration": 12,
    "start_time": "2024-10-30T20:29:20.010Z"
   },
   {
    "duration": 89,
    "start_time": "2024-10-30T20:29:28.454Z"
   },
   {
    "duration": 639,
    "start_time": "2024-10-30T20:29:33.015Z"
   },
   {
    "duration": 5,
    "start_time": "2024-10-30T20:29:40.171Z"
   },
   {
    "duration": 3,
    "start_time": "2024-10-30T20:29:45.759Z"
   },
   {
    "duration": 13,
    "start_time": "2024-10-30T20:30:46.723Z"
   },
   {
    "duration": 11,
    "start_time": "2024-10-30T20:32:45.036Z"
   },
   {
    "duration": 51,
    "start_time": "2024-10-30T20:32:45.922Z"
   },
   {
    "duration": 3,
    "start_time": "2024-10-30T20:32:49.967Z"
   },
   {
    "duration": 5,
    "start_time": "2024-10-30T20:34:21.579Z"
   },
   {
    "duration": 16,
    "start_time": "2024-10-30T20:34:43.387Z"
   },
   {
    "duration": 3,
    "start_time": "2024-10-30T20:34:48.610Z"
   },
   {
    "duration": 455,
    "start_time": "2024-10-30T20:34:49.151Z"
   },
   {
    "duration": 23,
    "start_time": "2024-10-30T20:37:00.096Z"
   },
   {
    "duration": 20,
    "start_time": "2024-10-30T20:37:34.496Z"
   },
   {
    "duration": 20,
    "start_time": "2024-10-30T20:37:38.377Z"
   },
   {
    "duration": 16,
    "start_time": "2024-10-30T20:37:55.670Z"
   },
   {
    "duration": 24,
    "start_time": "2024-10-30T20:40:58.512Z"
   },
   {
    "duration": 36,
    "start_time": "2024-10-30T20:41:22.184Z"
   },
   {
    "duration": 1776,
    "start_time": "2024-10-30T20:41:52.993Z"
   },
   {
    "duration": 4,
    "start_time": "2024-10-30T20:41:54.771Z"
   },
   {
    "duration": 528,
    "start_time": "2024-10-30T20:41:54.966Z"
   },
   {
    "duration": 435,
    "start_time": "2024-10-30T20:41:55.496Z"
   },
   {
    "duration": 28,
    "start_time": "2024-10-30T20:41:55.932Z"
   },
   {
    "duration": 143,
    "start_time": "2024-10-30T20:41:56.144Z"
   },
   {
    "duration": 108,
    "start_time": "2024-10-30T20:41:56.778Z"
   },
   {
    "duration": 2188,
    "start_time": "2024-10-30T20:41:57.063Z"
   },
   {
    "duration": 1006,
    "start_time": "2024-10-30T20:41:59.255Z"
   },
   {
    "duration": 3,
    "start_time": "2024-10-30T20:42:00.263Z"
   },
   {
    "duration": 62,
    "start_time": "2024-10-30T20:42:00.268Z"
   },
   {
    "duration": 54,
    "start_time": "2024-10-30T20:42:00.332Z"
   },
   {
    "duration": 51,
    "start_time": "2024-10-30T20:42:00.397Z"
   },
   {
    "duration": 281,
    "start_time": "2024-10-30T20:42:00.567Z"
   },
   {
    "duration": 38,
    "start_time": "2024-10-30T20:42:27.262Z"
   },
   {
    "duration": 15,
    "start_time": "2024-10-30T20:42:32.864Z"
   },
   {
    "duration": 16,
    "start_time": "2024-10-30T20:42:41.248Z"
   },
   {
    "duration": 19,
    "start_time": "2024-10-30T20:42:45.855Z"
   },
   {
    "duration": 25,
    "start_time": "2024-10-30T20:42:50.191Z"
   },
   {
    "duration": 93,
    "start_time": "2024-10-30T20:43:09.818Z"
   },
   {
    "duration": 191,
    "start_time": "2024-10-30T20:43:22.120Z"
   },
   {
    "duration": 46,
    "start_time": "2024-10-30T20:43:27.655Z"
   },
   {
    "duration": 18,
    "start_time": "2024-10-30T20:43:40.148Z"
   },
   {
    "duration": 25,
    "start_time": "2024-10-30T20:44:40.778Z"
   },
   {
    "duration": 95,
    "start_time": "2024-10-30T20:44:45.011Z"
   },
   {
    "duration": 23,
    "start_time": "2024-10-30T20:44:50.074Z"
   },
   {
    "duration": 35,
    "start_time": "2024-10-30T20:45:03.370Z"
   },
   {
    "duration": 48,
    "start_time": "2024-10-30T20:45:16.557Z"
   },
   {
    "duration": 1184,
    "start_time": "2024-10-30T20:45:43.148Z"
   },
   {
    "duration": 18,
    "start_time": "2024-10-30T20:45:52.020Z"
   },
   {
    "duration": 76,
    "start_time": "2024-10-30T20:46:13.127Z"
   },
   {
    "duration": 98,
    "start_time": "2024-10-30T20:46:20.620Z"
   },
   {
    "duration": 17,
    "start_time": "2024-10-30T20:46:25.427Z"
   },
   {
    "duration": 5,
    "start_time": "2024-10-30T20:48:28.416Z"
   },
   {
    "duration": 23,
    "start_time": "2024-10-30T20:50:07.588Z"
   },
   {
    "duration": 11,
    "start_time": "2024-10-30T20:50:12.830Z"
   },
   {
    "duration": 110,
    "start_time": "2024-10-30T20:50:24.805Z"
   },
   {
    "duration": 18,
    "start_time": "2024-10-30T20:51:15.301Z"
   },
   {
    "duration": 29,
    "start_time": "2024-10-30T20:51:24.255Z"
   },
   {
    "duration": 12,
    "start_time": "2024-10-30T20:51:50.461Z"
   },
   {
    "duration": 111,
    "start_time": "2024-10-30T20:51:52.791Z"
   },
   {
    "duration": 4,
    "start_time": "2024-10-30T20:51:54.713Z"
   },
   {
    "duration": 5,
    "start_time": "2024-10-30T20:51:59.144Z"
   },
   {
    "duration": 709,
    "start_time": "2024-10-30T20:53:04.644Z"
   },
   {
    "duration": 6,
    "start_time": "2024-10-30T20:54:55.358Z"
   },
   {
    "duration": 21,
    "start_time": "2024-10-30T20:54:58.255Z"
   },
   {
    "duration": 19,
    "start_time": "2024-10-30T20:55:13.390Z"
   },
   {
    "duration": 17,
    "start_time": "2024-10-30T20:55:20.701Z"
   },
   {
    "duration": 17,
    "start_time": "2024-10-30T20:55:27.305Z"
   },
   {
    "duration": 21,
    "start_time": "2024-10-30T20:55:31.475Z"
   },
   {
    "duration": 6,
    "start_time": "2024-10-30T20:55:36.828Z"
   },
   {
    "duration": 5,
    "start_time": "2024-10-30T20:55:51.962Z"
   },
   {
    "duration": 29,
    "start_time": "2024-10-30T20:55:55.943Z"
   },
   {
    "duration": 18,
    "start_time": "2024-10-30T20:55:58.341Z"
   },
   {
    "duration": 12,
    "start_time": "2024-10-30T20:56:06.414Z"
   },
   {
    "duration": 472,
    "start_time": "2024-10-30T20:56:19.235Z"
   },
   {
    "duration": 7,
    "start_time": "2024-10-30T20:56:21.013Z"
   },
   {
    "duration": 6,
    "start_time": "2024-10-30T20:56:21.780Z"
   },
   {
    "duration": 50,
    "start_time": "2024-10-30T20:56:24.279Z"
   },
   {
    "duration": 5,
    "start_time": "2024-10-30T20:56:26.448Z"
   },
   {
    "duration": 39,
    "start_time": "2024-10-30T20:57:34.611Z"
   },
   {
    "duration": 190,
    "start_time": "2024-10-30T20:57:38.609Z"
   },
   {
    "duration": 5,
    "start_time": "2024-10-30T20:57:39.767Z"
   },
   {
    "duration": 28,
    "start_time": "2024-10-30T20:57:58.975Z"
   },
   {
    "duration": 34,
    "start_time": "2024-10-30T20:58:00.007Z"
   },
   {
    "duration": 86,
    "start_time": "2024-10-30T20:58:37.213Z"
   },
   {
    "duration": 171,
    "start_time": "2024-10-30T20:59:07.732Z"
   },
   {
    "duration": 69,
    "start_time": "2024-10-30T20:59:26.434Z"
   },
   {
    "duration": 33,
    "start_time": "2024-10-30T20:59:52.789Z"
   },
   {
    "duration": 1735,
    "start_time": "2024-10-30T21:00:02.438Z"
   },
   {
    "duration": 3,
    "start_time": "2024-10-30T21:00:04.175Z"
   },
   {
    "duration": 561,
    "start_time": "2024-10-30T21:00:04.180Z"
   },
   {
    "duration": 428,
    "start_time": "2024-10-30T21:00:04.743Z"
   },
   {
    "duration": 43,
    "start_time": "2024-10-30T21:00:05.172Z"
   },
   {
    "duration": 225,
    "start_time": "2024-10-30T21:00:05.217Z"
   },
   {
    "duration": 115,
    "start_time": "2024-10-30T21:00:05.444Z"
   },
   {
    "duration": 2064,
    "start_time": "2024-10-30T21:00:05.561Z"
   },
   {
    "duration": 1051,
    "start_time": "2024-10-30T21:00:07.628Z"
   },
   {
    "duration": 4,
    "start_time": "2024-10-30T21:00:08.681Z"
   },
   {
    "duration": 142,
    "start_time": "2024-10-30T21:00:08.686Z"
   },
   {
    "duration": 55,
    "start_time": "2024-10-30T21:00:08.830Z"
   },
   {
    "duration": 53,
    "start_time": "2024-10-30T21:00:08.887Z"
   },
   {
    "duration": 161,
    "start_time": "2024-10-30T21:00:08.942Z"
   },
   {
    "duration": 83,
    "start_time": "2024-10-30T21:00:09.123Z"
   },
   {
    "duration": 42,
    "start_time": "2024-10-30T21:00:09.372Z"
   },
   {
    "duration": 131,
    "start_time": "2024-10-30T21:00:09.616Z"
   },
   {
    "duration": 33,
    "start_time": "2024-10-30T21:01:18.283Z"
   },
   {
    "duration": 36,
    "start_time": "2024-10-30T21:01:30.867Z"
   },
   {
    "duration": 20,
    "start_time": "2024-10-30T21:01:46.428Z"
   },
   {
    "duration": 29,
    "start_time": "2024-10-30T21:05:06.549Z"
   },
   {
    "duration": 75,
    "start_time": "2024-10-30T21:05:19.532Z"
   },
   {
    "duration": 28,
    "start_time": "2024-10-30T21:05:38.267Z"
   },
   {
    "duration": 79,
    "start_time": "2024-10-30T21:05:42.632Z"
   },
   {
    "duration": 30,
    "start_time": "2024-10-30T21:07:51.854Z"
   },
   {
    "duration": 13,
    "start_time": "2024-10-30T21:08:05.422Z"
   },
   {
    "duration": 13,
    "start_time": "2024-10-30T21:08:48.311Z"
   },
   {
    "duration": 1709,
    "start_time": "2024-10-30T21:10:43.354Z"
   },
   {
    "duration": 5,
    "start_time": "2024-10-30T21:10:45.066Z"
   },
   {
    "duration": 572,
    "start_time": "2024-10-30T21:10:45.072Z"
   },
   {
    "duration": 458,
    "start_time": "2024-10-30T21:10:45.646Z"
   },
   {
    "duration": 29,
    "start_time": "2024-10-30T21:10:46.106Z"
   },
   {
    "duration": 178,
    "start_time": "2024-10-30T21:10:46.136Z"
   },
   {
    "duration": 139,
    "start_time": "2024-10-30T21:10:46.316Z"
   },
   {
    "duration": 2139,
    "start_time": "2024-10-30T21:10:46.456Z"
   },
   {
    "duration": 1047,
    "start_time": "2024-10-30T21:10:48.597Z"
   },
   {
    "duration": 3,
    "start_time": "2024-10-30T21:10:49.646Z"
   },
   {
    "duration": 180,
    "start_time": "2024-10-30T21:10:49.651Z"
   },
   {
    "duration": 3,
    "start_time": "2024-10-30T21:12:55.128Z"
   },
   {
    "duration": 31,
    "start_time": "2024-10-30T21:13:10.777Z"
   },
   {
    "duration": 65,
    "start_time": "2024-10-30T21:13:34.196Z"
   },
   {
    "duration": 59,
    "start_time": "2024-10-30T21:13:46.876Z"
   },
   {
    "duration": 59,
    "start_time": "2024-10-30T21:15:29.198Z"
   },
   {
    "duration": 5,
    "start_time": "2024-10-30T21:15:40.844Z"
   },
   {
    "duration": 3,
    "start_time": "2024-10-30T21:15:56.181Z"
   },
   {
    "duration": 37,
    "start_time": "2024-10-30T21:15:56.882Z"
   },
   {
    "duration": 45,
    "start_time": "2024-10-30T21:15:57.475Z"
   },
   {
    "duration": 37,
    "start_time": "2024-10-30T21:15:57.762Z"
   },
   {
    "duration": 78,
    "start_time": "2024-10-30T21:16:30.511Z"
   },
   {
    "duration": 12,
    "start_time": "2024-10-30T21:17:42.566Z"
   },
   {
    "duration": 13,
    "start_time": "2024-10-30T21:17:52.116Z"
   },
   {
    "duration": 4,
    "start_time": "2024-10-30T21:19:54.818Z"
   },
   {
    "duration": 175,
    "start_time": "2024-10-30T21:20:28.930Z"
   },
   {
    "duration": 89,
    "start_time": "2024-10-30T21:20:35.815Z"
   },
   {
    "duration": 19,
    "start_time": "2024-10-30T21:20:43.669Z"
   },
   {
    "duration": 34,
    "start_time": "2024-10-30T21:20:58.940Z"
   },
   {
    "duration": 40,
    "start_time": "2024-10-30T21:21:24.175Z"
   },
   {
    "duration": 53,
    "start_time": "2024-10-30T21:21:38.957Z"
   },
   {
    "duration": 104,
    "start_time": "2024-10-30T21:22:34.398Z"
   },
   {
    "duration": 165,
    "start_time": "2024-10-30T21:22:53.134Z"
   },
   {
    "duration": 57,
    "start_time": "2024-10-30T21:25:07.756Z"
   },
   {
    "duration": 4,
    "start_time": "2024-10-30T21:25:33.970Z"
   },
   {
    "duration": 207,
    "start_time": "2024-10-30T21:25:36.095Z"
   },
   {
    "duration": 4,
    "start_time": "2024-10-30T21:26:37.122Z"
   },
   {
    "duration": 76,
    "start_time": "2024-10-30T21:26:37.432Z"
   },
   {
    "duration": 60,
    "start_time": "2024-10-30T21:26:44.747Z"
   },
   {
    "duration": 4,
    "start_time": "2024-10-30T21:27:17.513Z"
   },
   {
    "duration": 20,
    "start_time": "2024-10-30T21:27:25.741Z"
   },
   {
    "duration": 19,
    "start_time": "2024-10-30T21:27:26.966Z"
   },
   {
    "duration": 55,
    "start_time": "2024-10-30T21:27:27.543Z"
   },
   {
    "duration": 5,
    "start_time": "2024-10-30T21:28:45.035Z"
   },
   {
    "duration": 74,
    "start_time": "2024-10-30T21:28:45.625Z"
   },
   {
    "duration": 151,
    "start_time": "2024-10-30T21:28:47.858Z"
   },
   {
    "duration": 39,
    "start_time": "2024-10-30T21:28:49.865Z"
   },
   {
    "duration": 4,
    "start_time": "2024-10-30T21:28:53.570Z"
   },
   {
    "duration": 3,
    "start_time": "2024-10-30T21:28:53.851Z"
   },
   {
    "duration": 77,
    "start_time": "2024-10-30T21:28:54.133Z"
   },
   {
    "duration": 4,
    "start_time": "2024-10-30T21:28:54.550Z"
   },
   {
    "duration": 164,
    "start_time": "2024-10-30T21:28:54.850Z"
   },
   {
    "duration": 108,
    "start_time": "2024-10-30T21:28:55.198Z"
   },
   {
    "duration": 162,
    "start_time": "2024-10-30T21:28:56.736Z"
   },
   {
    "duration": 4,
    "start_time": "2024-10-30T21:29:16.501Z"
   },
   {
    "duration": 3,
    "start_time": "2024-10-30T21:29:35.312Z"
   },
   {
    "duration": 3,
    "start_time": "2024-10-30T21:29:35.666Z"
   },
   {
    "duration": 74,
    "start_time": "2024-10-30T21:29:36.143Z"
   },
   {
    "duration": 4,
    "start_time": "2024-10-30T21:30:02.476Z"
   },
   {
    "duration": 4,
    "start_time": "2024-10-30T21:30:09.065Z"
   },
   {
    "duration": 205,
    "start_time": "2024-10-30T21:30:10.803Z"
   },
   {
    "duration": 40,
    "start_time": "2024-10-30T21:30:11.867Z"
   },
   {
    "duration": 57,
    "start_time": "2024-10-30T21:30:12.150Z"
   },
   {
    "duration": 3,
    "start_time": "2024-10-30T21:30:12.788Z"
   },
   {
    "duration": 4,
    "start_time": "2024-10-30T21:31:45.789Z"
   },
   {
    "duration": 112,
    "start_time": "2024-10-30T21:31:46.591Z"
   },
   {
    "duration": 165,
    "start_time": "2024-10-30T21:31:47.234Z"
   },
   {
    "duration": 55,
    "start_time": "2024-10-30T21:31:47.852Z"
   },
   {
    "duration": 3,
    "start_time": "2024-10-30T21:31:48.322Z"
   },
   {
    "duration": 185,
    "start_time": "2024-10-30T21:32:47.617Z"
   },
   {
    "duration": 4,
    "start_time": "2024-10-30T21:33:16.627Z"
   },
   {
    "duration": 156,
    "start_time": "2024-10-30T21:33:28.142Z"
   },
   {
    "duration": 204,
    "start_time": "2024-10-30T21:33:34.195Z"
   },
   {
    "duration": 186,
    "start_time": "2024-10-30T21:33:38.119Z"
   },
   {
    "duration": 129,
    "start_time": "2024-10-30T21:33:42.275Z"
   },
   {
    "duration": 53,
    "start_time": "2024-10-30T21:34:47.379Z"
   },
   {
    "duration": 5,
    "start_time": "2024-10-30T21:34:53.429Z"
   },
   {
    "duration": 146,
    "start_time": "2024-10-30T21:34:53.752Z"
   },
   {
    "duration": 63,
    "start_time": "2024-10-30T21:34:54.943Z"
   },
   {
    "duration": 65,
    "start_time": "2024-10-30T21:34:55.447Z"
   },
   {
    "duration": 4,
    "start_time": "2024-10-30T21:36:38.236Z"
   },
   {
    "duration": 66,
    "start_time": "2024-10-30T21:36:38.693Z"
   },
   {
    "duration": 4,
    "start_time": "2024-10-30T21:36:44.494Z"
   },
   {
    "duration": 5,
    "start_time": "2024-10-30T21:36:44.934Z"
   },
   {
    "duration": 4,
    "start_time": "2024-10-30T21:36:56.750Z"
   },
   {
    "duration": 254,
    "start_time": "2024-10-30T21:36:57.145Z"
   },
   {
    "duration": 300,
    "start_time": "2024-10-30T21:36:57.498Z"
   },
   {
    "duration": 172,
    "start_time": "2024-10-30T21:36:57.929Z"
   },
   {
    "duration": 1786,
    "start_time": "2024-10-30T21:37:09.451Z"
   },
   {
    "duration": 6,
    "start_time": "2024-10-30T21:37:11.239Z"
   },
   {
    "duration": 697,
    "start_time": "2024-10-30T21:37:11.246Z"
   },
   {
    "duration": 405,
    "start_time": "2024-10-30T21:37:11.945Z"
   },
   {
    "duration": 25,
    "start_time": "2024-10-30T21:37:12.351Z"
   },
   {
    "duration": 141,
    "start_time": "2024-10-30T21:37:12.398Z"
   },
   {
    "duration": 121,
    "start_time": "2024-10-30T21:37:12.541Z"
   },
   {
    "duration": 2049,
    "start_time": "2024-10-30T21:37:12.664Z"
   },
   {
    "duration": 999,
    "start_time": "2024-10-30T21:37:14.714Z"
   },
   {
    "duration": 4,
    "start_time": "2024-10-30T21:37:15.715Z"
   },
   {
    "duration": 16,
    "start_time": "2024-10-30T21:37:15.721Z"
   },
   {
    "duration": 136,
    "start_time": "2024-10-30T21:37:15.739Z"
   },
   {
    "duration": 5,
    "start_time": "2024-10-30T21:37:15.877Z"
   },
   {
    "duration": 317,
    "start_time": "2024-10-30T21:37:15.884Z"
   },
   {
    "duration": 197,
    "start_time": "2024-10-30T21:37:16.203Z"
   },
   {
    "duration": 23624,
    "start_time": "2024-11-05T10:34:53.384Z"
   },
   {
    "duration": 1887,
    "start_time": "2024-11-05T10:35:29.644Z"
   },
   {
    "duration": 4,
    "start_time": "2024-11-05T10:35:34.048Z"
   },
   {
    "duration": 1754,
    "start_time": "2024-11-05T10:35:34.550Z"
   },
   {
    "duration": 346,
    "start_time": "2024-11-05T10:35:36.306Z"
   },
   {
    "duration": 24,
    "start_time": "2024-11-05T10:35:36.731Z"
   },
   {
    "duration": 125,
    "start_time": "2024-11-05T10:35:38.035Z"
   },
   {
    "duration": 104,
    "start_time": "2024-11-05T10:35:38.949Z"
   },
   {
    "duration": 2030,
    "start_time": "2024-11-05T10:35:39.394Z"
   },
   {
    "duration": 1010,
    "start_time": "2024-11-05T10:35:41.426Z"
   },
   {
    "duration": 3,
    "start_time": "2024-11-05T10:35:42.438Z"
   },
   {
    "duration": 4,
    "start_time": "2024-11-05T10:35:42.442Z"
   },
   {
    "duration": 115,
    "start_time": "2024-11-05T10:35:42.477Z"
   },
   {
    "duration": 4,
    "start_time": "2024-11-05T10:35:54.949Z"
   },
   {
    "duration": 130,
    "start_time": "2024-11-05T10:35:59.755Z"
   },
   {
    "duration": 219,
    "start_time": "2024-11-05T10:36:00.159Z"
   },
   {
    "duration": 279,
    "start_time": "2024-11-05T10:36:00.602Z"
   },
   {
    "duration": 110,
    "start_time": "2024-11-05T10:48:13.394Z"
   },
   {
    "duration": 20,
    "start_time": "2024-11-05T10:48:21.451Z"
   },
   {
    "duration": 21,
    "start_time": "2024-11-05T10:48:38.065Z"
   },
   {
    "duration": 21,
    "start_time": "2024-11-05T10:48:45.123Z"
   },
   {
    "duration": 20,
    "start_time": "2024-11-05T10:51:03.020Z"
   },
   {
    "duration": 52,
    "start_time": "2024-11-05T10:51:28.370Z"
   },
   {
    "duration": 4,
    "start_time": "2024-11-05T10:57:46.738Z"
   },
   {
    "duration": 151,
    "start_time": "2024-11-05T10:57:47.731Z"
   },
   {
    "duration": 4,
    "start_time": "2024-11-05T10:57:59.145Z"
   },
   {
    "duration": 18,
    "start_time": "2024-11-05T10:57:59.661Z"
   },
   {
    "duration": 19,
    "start_time": "2024-11-05T10:58:01.955Z"
   },
   {
    "duration": 18,
    "start_time": "2024-11-05T10:58:03.251Z"
   },
   {
    "duration": 4,
    "start_time": "2024-11-05T10:58:31.226Z"
   },
   {
    "duration": 16,
    "start_time": "2024-11-05T10:58:31.612Z"
   },
   {
    "duration": 15,
    "start_time": "2024-11-05T10:58:33.501Z"
   },
   {
    "duration": 15,
    "start_time": "2024-11-05T10:58:37.786Z"
   },
   {
    "duration": 4,
    "start_time": "2024-11-05T11:00:22.701Z"
   },
   {
    "duration": 15,
    "start_time": "2024-11-05T11:00:29.241Z"
   },
   {
    "duration": 15,
    "start_time": "2024-11-05T11:00:32.282Z"
   },
   {
    "duration": 15,
    "start_time": "2024-11-05T11:00:37.400Z"
   },
   {
    "duration": 3,
    "start_time": "2024-11-05T11:01:17.346Z"
   },
   {
    "duration": 4,
    "start_time": "2024-11-05T11:12:44.881Z"
   },
   {
    "duration": 4,
    "start_time": "2024-11-05T11:12:49.468Z"
   },
   {
    "duration": 3,
    "start_time": "2024-11-05T11:12:57.749Z"
   },
   {
    "duration": 4,
    "start_time": "2024-11-05T11:13:13.375Z"
   },
   {
    "duration": 4,
    "start_time": "2024-11-05T11:14:08.821Z"
   },
   {
    "duration": 4,
    "start_time": "2024-11-05T11:14:40.990Z"
   },
   {
    "duration": 4,
    "start_time": "2024-11-05T11:14:53.775Z"
   },
   {
    "duration": 9,
    "start_time": "2024-11-05T11:15:40.704Z"
   },
   {
    "duration": 6,
    "start_time": "2024-11-05T11:15:50.583Z"
   },
   {
    "duration": 5,
    "start_time": "2024-11-05T11:15:56.876Z"
   },
   {
    "duration": 5,
    "start_time": "2024-11-05T11:16:18.436Z"
   },
   {
    "duration": 5,
    "start_time": "2024-11-05T11:16:27.036Z"
   },
   {
    "duration": 5,
    "start_time": "2024-11-05T11:16:30.423Z"
   },
   {
    "duration": 3,
    "start_time": "2024-11-05T11:19:41.941Z"
   },
   {
    "duration": 3,
    "start_time": "2024-11-05T11:19:48.774Z"
   },
   {
    "duration": 3,
    "start_time": "2024-11-05T11:21:59.933Z"
   },
   {
    "duration": 12,
    "start_time": "2024-11-05T11:22:20.208Z"
   },
   {
    "duration": 3,
    "start_time": "2024-11-05T11:22:32.887Z"
   },
   {
    "duration": 10,
    "start_time": "2024-11-05T11:22:33.284Z"
   },
   {
    "duration": 9,
    "start_time": "2024-11-05T11:24:37.732Z"
   },
   {
    "duration": 3,
    "start_time": "2024-11-05T11:24:52.665Z"
   },
   {
    "duration": 9,
    "start_time": "2024-11-05T11:24:52.922Z"
   },
   {
    "duration": 3,
    "start_time": "2024-11-05T11:25:18.771Z"
   },
   {
    "duration": 13,
    "start_time": "2024-11-05T11:25:23.977Z"
   },
   {
    "duration": 18,
    "start_time": "2024-11-05T11:25:40.917Z"
   },
   {
    "duration": 3,
    "start_time": "2024-11-05T11:26:48.476Z"
   },
   {
    "duration": 18,
    "start_time": "2024-11-05T11:26:48.860Z"
   },
   {
    "duration": 3,
    "start_time": "2024-11-05T11:27:52.854Z"
   },
   {
    "duration": 19,
    "start_time": "2024-11-05T11:27:53.601Z"
   },
   {
    "duration": 3,
    "start_time": "2024-11-05T11:27:58.309Z"
   },
   {
    "duration": 18,
    "start_time": "2024-11-05T11:27:58.542Z"
   },
   {
    "duration": 4,
    "start_time": "2024-11-05T11:28:09.830Z"
   },
   {
    "duration": 61,
    "start_time": "2024-11-05T12:17:01.764Z"
   },
   {
    "duration": 3,
    "start_time": "2024-11-05T12:17:11.077Z"
   },
   {
    "duration": 4,
    "start_time": "2024-11-05T12:17:14.956Z"
   },
   {
    "duration": 181,
    "start_time": "2024-11-05T12:18:26.043Z"
   },
   {
    "duration": 4310,
    "start_time": "2024-11-05T12:18:29.820Z"
   },
   {
    "duration": 1662,
    "start_time": "2024-11-05T12:22:13.855Z"
   },
   {
    "duration": 6,
    "start_time": "2024-11-05T12:22:15.519Z"
   },
   {
    "duration": 497,
    "start_time": "2024-11-05T12:22:15.526Z"
   },
   {
    "duration": 373,
    "start_time": "2024-11-05T12:22:16.025Z"
   },
   {
    "duration": 24,
    "start_time": "2024-11-05T12:22:16.399Z"
   },
   {
    "duration": 92,
    "start_time": "2024-11-05T12:22:16.425Z"
   },
   {
    "duration": 104,
    "start_time": "2024-11-05T12:22:16.758Z"
   },
   {
    "duration": 2046,
    "start_time": "2024-11-05T12:22:16.994Z"
   },
   {
    "duration": 933,
    "start_time": "2024-11-05T12:22:19.042Z"
   },
   {
    "duration": 3,
    "start_time": "2024-11-05T12:22:19.977Z"
   },
   {
    "duration": 18,
    "start_time": "2024-11-05T12:22:19.982Z"
   },
   {
    "duration": 141,
    "start_time": "2024-11-05T12:22:20.002Z"
   },
   {
    "duration": 4,
    "start_time": "2024-11-05T12:22:20.147Z"
   },
   {
    "duration": 124,
    "start_time": "2024-11-05T12:22:20.153Z"
   },
   {
    "duration": 197,
    "start_time": "2024-11-05T12:22:20.282Z"
   },
   {
    "duration": 197,
    "start_time": "2024-11-05T12:22:20.483Z"
   },
   {
    "duration": 4,
    "start_time": "2024-11-05T12:22:21.452Z"
   },
   {
    "duration": 4,
    "start_time": "2024-11-05T12:22:21.684Z"
   },
   {
    "duration": 5,
    "start_time": "2024-11-05T12:22:21.947Z"
   },
   {
    "duration": 4,
    "start_time": "2024-11-05T12:22:22.387Z"
   },
   {
    "duration": 4,
    "start_time": "2024-11-05T12:22:22.617Z"
   },
   {
    "duration": 3,
    "start_time": "2024-11-05T12:22:23.563Z"
   },
   {
    "duration": 113,
    "start_time": "2024-11-05T12:22:24.130Z"
   },
   {
    "duration": 19,
    "start_time": "2024-11-05T12:22:43.004Z"
   },
   {
    "duration": 4,
    "start_time": "2024-11-05T12:22:46.751Z"
   },
   {
    "duration": 16,
    "start_time": "2024-11-05T12:24:17.868Z"
   },
   {
    "duration": 11,
    "start_time": "2024-11-05T12:25:05.447Z"
   },
   {
    "duration": 608,
    "start_time": "2024-11-05T12:25:13.246Z"
   },
   {
    "duration": 14,
    "start_time": "2024-11-05T12:25:21.399Z"
   },
   {
    "duration": 9,
    "start_time": "2024-11-05T12:25:30.775Z"
   },
   {
    "duration": 607,
    "start_time": "2024-11-05T12:26:59.175Z"
   },
   {
    "duration": 13,
    "start_time": "2024-11-05T12:28:02.419Z"
   },
   {
    "duration": 11,
    "start_time": "2024-11-05T12:28:23.904Z"
   },
   {
    "duration": 622,
    "start_time": "2024-11-05T12:28:32.441Z"
   },
   {
    "duration": 654,
    "start_time": "2024-11-05T12:28:47.659Z"
   },
   {
    "duration": 9,
    "start_time": "2024-11-05T12:28:50.891Z"
   },
   {
    "duration": 10,
    "start_time": "2024-11-05T12:29:01.693Z"
   },
   {
    "duration": 62,
    "start_time": "2024-11-05T12:29:07.599Z"
   },
   {
    "duration": 12,
    "start_time": "2024-11-05T12:29:50.439Z"
   },
   {
    "duration": 13,
    "start_time": "2024-11-05T12:30:14.033Z"
   },
   {
    "duration": 603,
    "start_time": "2024-11-05T12:30:46.329Z"
   },
   {
    "duration": 603,
    "start_time": "2024-11-05T12:30:51.826Z"
   },
   {
    "duration": 6,
    "start_time": "2024-11-05T12:30:56.931Z"
   },
   {
    "duration": 3,
    "start_time": "2024-11-05T12:31:06.098Z"
   },
   {
    "duration": 4,
    "start_time": "2024-11-05T12:31:23.100Z"
   },
   {
    "duration": 4,
    "start_time": "2024-11-05T12:31:44.401Z"
   },
   {
    "duration": 4,
    "start_time": "2024-11-05T12:31:49.561Z"
   },
   {
    "duration": 4,
    "start_time": "2024-11-05T12:32:01.432Z"
   },
   {
    "duration": 4,
    "start_time": "2024-11-05T12:32:21.634Z"
   },
   {
    "duration": 3,
    "start_time": "2024-11-05T12:32:24.755Z"
   },
   {
    "duration": 259,
    "start_time": "2024-11-05T12:32:30.333Z"
   },
   {
    "duration": 62,
    "start_time": "2024-11-05T12:45:43.869Z"
   },
   {
    "duration": 134,
    "start_time": "2024-11-05T12:46:09.997Z"
   },
   {
    "duration": 4,
    "start_time": "2024-11-05T12:59:13.910Z"
   },
   {
    "duration": 5,
    "start_time": "2024-11-05T13:05:56.989Z"
   },
   {
    "duration": 242,
    "start_time": "2024-11-05T13:06:14.921Z"
   },
   {
    "duration": 5,
    "start_time": "2024-11-05T13:07:31.172Z"
   },
   {
    "duration": 267,
    "start_time": "2024-11-05T13:07:31.594Z"
   },
   {
    "duration": 3,
    "start_time": "2024-11-05T13:07:52.613Z"
   },
   {
    "duration": 75,
    "start_time": "2024-11-05T13:07:52.923Z"
   },
   {
    "duration": 5,
    "start_time": "2024-11-05T13:07:53.736Z"
   },
   {
    "duration": 294,
    "start_time": "2024-11-05T13:07:54.583Z"
   },
   {
    "duration": 6,
    "start_time": "2024-11-05T13:08:40.096Z"
   },
   {
    "duration": 245,
    "start_time": "2024-11-05T13:08:41.868Z"
   },
   {
    "duration": 4,
    "start_time": "2024-11-05T13:09:13.126Z"
   },
   {
    "duration": 242,
    "start_time": "2024-11-05T13:09:13.621Z"
   },
   {
    "duration": 4,
    "start_time": "2024-11-05T13:09:26.803Z"
   },
   {
    "duration": 238,
    "start_time": "2024-11-05T13:09:27.095Z"
   },
   {
    "duration": 36,
    "start_time": "2024-11-05T13:09:53.461Z"
   },
   {
    "duration": 242,
    "start_time": "2024-11-05T13:10:18.457Z"
   },
   {
    "duration": 13,
    "start_time": "2024-11-05T13:11:21.320Z"
   },
   {
    "duration": 245,
    "start_time": "2024-11-05T13:11:21.943Z"
   },
   {
    "duration": 4,
    "start_time": "2024-11-05T13:11:50.565Z"
   },
   {
    "duration": 221,
    "start_time": "2024-11-05T13:11:51.578Z"
   },
   {
    "duration": 5,
    "start_time": "2024-11-05T13:11:57.987Z"
   },
   {
    "duration": 234,
    "start_time": "2024-11-05T13:11:58.545Z"
   },
   {
    "duration": 4,
    "start_time": "2024-11-05T13:12:12.892Z"
   },
   {
    "duration": 226,
    "start_time": "2024-11-05T13:12:13.687Z"
   },
   {
    "duration": 5,
    "start_time": "2024-11-05T13:12:54.724Z"
   },
   {
    "duration": 224,
    "start_time": "2024-11-05T13:12:56.268Z"
   },
   {
    "duration": 3,
    "start_time": "2024-11-05T13:13:34.003Z"
   },
   {
    "duration": 68,
    "start_time": "2024-11-05T13:13:34.285Z"
   },
   {
    "duration": 4,
    "start_time": "2024-11-05T13:13:34.667Z"
   },
   {
    "duration": 258,
    "start_time": "2024-11-05T13:13:35.254Z"
   },
   {
    "duration": 3,
    "start_time": "2024-11-05T13:13:44.749Z"
   },
   {
    "duration": 222,
    "start_time": "2024-11-05T13:13:45.408Z"
   },
   {
    "duration": 7,
    "start_time": "2024-11-05T13:13:58.103Z"
   },
   {
    "duration": 212,
    "start_time": "2024-11-05T13:13:58.805Z"
   },
   {
    "duration": 181,
    "start_time": "2024-11-05T13:14:31.453Z"
   },
   {
    "duration": 198,
    "start_time": "2024-11-05T13:14:42.227Z"
   },
   {
    "duration": 190,
    "start_time": "2024-11-05T13:14:49.113Z"
   },
   {
    "duration": 195,
    "start_time": "2024-11-05T13:15:00.382Z"
   },
   {
    "duration": 194,
    "start_time": "2024-11-05T13:15:13.825Z"
   },
   {
    "duration": 180,
    "start_time": "2024-11-05T13:15:29.641Z"
   },
   {
    "duration": 211,
    "start_time": "2024-11-05T13:15:33.800Z"
   },
   {
    "duration": 180,
    "start_time": "2024-11-05T13:16:26.838Z"
   },
   {
    "duration": 128,
    "start_time": "2024-11-05T13:17:29.349Z"
   },
   {
    "duration": 181,
    "start_time": "2024-11-05T13:17:31.456Z"
   },
   {
    "duration": 61,
    "start_time": "2024-11-05T13:17:38.532Z"
   },
   {
    "duration": 169,
    "start_time": "2024-11-05T13:17:40.998Z"
   },
   {
    "duration": 8,
    "start_time": "2024-11-05T13:17:55.603Z"
   },
   {
    "duration": 51,
    "start_time": "2024-11-05T13:18:04.441Z"
   },
   {
    "duration": 179,
    "start_time": "2024-11-05T13:18:06.480Z"
   },
   {
    "duration": 65,
    "start_time": "2024-11-05T13:18:38.595Z"
   },
   {
    "duration": 37,
    "start_time": "2024-11-05T13:18:50.389Z"
   },
   {
    "duration": 47,
    "start_time": "2024-11-05T13:18:59.243Z"
   },
   {
    "duration": 27,
    "start_time": "2024-11-05T13:19:17.066Z"
   },
   {
    "duration": 27,
    "start_time": "2024-11-05T13:19:27.021Z"
   },
   {
    "duration": 60,
    "start_time": "2024-11-05T13:20:39.149Z"
   },
   {
    "duration": 172,
    "start_time": "2024-11-05T13:20:41.058Z"
   },
   {
    "duration": 73,
    "start_time": "2024-11-05T13:21:00.943Z"
   },
   {
    "duration": 4,
    "start_time": "2024-11-05T13:21:12.483Z"
   },
   {
    "duration": 9,
    "start_time": "2024-11-05T13:21:42.581Z"
   },
   {
    "duration": 9,
    "start_time": "2024-11-05T13:21:52.427Z"
   },
   {
    "duration": 4,
    "start_time": "2024-11-05T13:22:23.782Z"
   },
   {
    "duration": 441,
    "start_time": "2024-11-05T13:22:24.814Z"
   },
   {
    "duration": 9,
    "start_time": "2024-11-05T13:22:26.040Z"
   },
   {
    "duration": 4,
    "start_time": "2024-11-05T13:22:29.769Z"
   },
   {
    "duration": 785,
    "start_time": "2024-11-05T13:22:30.110Z"
   },
   {
    "duration": 9,
    "start_time": "2024-11-05T13:22:30.897Z"
   },
   {
    "duration": 25,
    "start_time": "2024-11-05T13:22:52.747Z"
   },
   {
    "duration": 207,
    "start_time": "2024-11-05T13:22:57.159Z"
   },
   {
    "duration": 65,
    "start_time": "2024-11-05T13:23:05.542Z"
   },
   {
    "duration": 4,
    "start_time": "2024-11-05T13:23:07.066Z"
   },
   {
    "duration": 64,
    "start_time": "2024-11-05T13:23:15.478Z"
   },
   {
    "duration": 4,
    "start_time": "2024-11-05T13:23:16.272Z"
   },
   {
    "duration": 59,
    "start_time": "2024-11-05T13:23:26.068Z"
   },
   {
    "duration": 62,
    "start_time": "2024-11-05T13:23:36.535Z"
   },
   {
    "duration": 7,
    "start_time": "2024-11-05T13:23:38.179Z"
   },
   {
    "duration": 22,
    "start_time": "2024-11-05T13:24:13.042Z"
   },
   {
    "duration": 3,
    "start_time": "2024-11-05T13:24:14.523Z"
   },
   {
    "duration": 74,
    "start_time": "2024-11-05T13:24:37.846Z"
   },
   {
    "duration": 177,
    "start_time": "2024-11-05T13:24:43.061Z"
   },
   {
    "duration": 5,
    "start_time": "2024-11-05T13:24:56.903Z"
   },
   {
    "duration": 134,
    "start_time": "2024-11-05T13:25:00.557Z"
   },
   {
    "duration": 1869,
    "start_time": "2024-11-05T13:25:02.507Z"
   },
   {
    "duration": 1396,
    "start_time": "2024-11-05T13:25:07.509Z"
   },
   {
    "duration": 3,
    "start_time": "2024-11-05T13:25:11.532Z"
   },
   {
    "duration": 4,
    "start_time": "2024-11-05T13:25:12.795Z"
   },
   {
    "duration": 73,
    "start_time": "2024-11-05T13:25:13.320Z"
   },
   {
    "duration": 4,
    "start_time": "2024-11-05T13:25:14.554Z"
   },
   {
    "duration": 41,
    "start_time": "2024-11-05T13:25:15.644Z"
   },
   {
    "duration": 27,
    "start_time": "2024-11-05T13:25:18.415Z"
   },
   {
    "duration": 5,
    "start_time": "2024-11-05T13:25:25.176Z"
   },
   {
    "duration": 17,
    "start_time": "2024-11-05T13:25:25.574Z"
   },
   {
    "duration": 42,
    "start_time": "2024-11-05T13:25:25.965Z"
   },
   {
    "duration": 5,
    "start_time": "2024-11-05T13:25:35.435Z"
   },
   {
    "duration": 17,
    "start_time": "2024-11-05T13:25:35.804Z"
   },
   {
    "duration": 43,
    "start_time": "2024-11-05T13:25:36.250Z"
   },
   {
    "duration": 35,
    "start_time": "2024-11-05T13:25:51.704Z"
   },
   {
    "duration": 3,
    "start_time": "2024-11-05T13:25:55.785Z"
   },
   {
    "duration": 20,
    "start_time": "2024-11-05T13:25:56.147Z"
   },
   {
    "duration": 23,
    "start_time": "2024-11-05T13:27:33.082Z"
   },
   {
    "duration": 5,
    "start_time": "2024-11-05T13:27:35.194Z"
   },
   {
    "duration": 18,
    "start_time": "2024-11-05T13:27:35.485Z"
   },
   {
    "duration": 4,
    "start_time": "2024-11-05T13:27:38.305Z"
   },
   {
    "duration": 17,
    "start_time": "2024-11-05T13:27:39.727Z"
   },
   {
    "duration": 63,
    "start_time": "2024-11-05T13:29:04.217Z"
   },
   {
    "duration": 89,
    "start_time": "2024-11-05T13:29:05.091Z"
   },
   {
    "duration": 9,
    "start_time": "2024-11-05T13:29:52.185Z"
   },
   {
    "duration": 54,
    "start_time": "2024-11-05T13:30:32.346Z"
   },
   {
    "duration": 48,
    "start_time": "2024-11-05T13:30:38.706Z"
   },
   {
    "duration": 13,
    "start_time": "2024-11-05T13:30:43.883Z"
   },
   {
    "duration": 4,
    "start_time": "2024-11-05T13:30:52.618Z"
   },
   {
    "duration": 18,
    "start_time": "2024-11-05T13:30:52.942Z"
   },
   {
    "duration": 4,
    "start_time": "2024-11-05T13:30:53.773Z"
   },
   {
    "duration": 9,
    "start_time": "2024-11-05T13:30:54.193Z"
   },
   {
    "duration": 4,
    "start_time": "2024-11-05T13:31:02.808Z"
   },
   {
    "duration": 21,
    "start_time": "2024-11-05T13:31:03.076Z"
   },
   {
    "duration": 14,
    "start_time": "2024-11-05T13:31:04.243Z"
   },
   {
    "duration": 16,
    "start_time": "2024-11-05T13:31:18.428Z"
   },
   {
    "duration": 8,
    "start_time": "2024-11-05T13:31:54.505Z"
   },
   {
    "duration": 6,
    "start_time": "2024-11-05T13:32:02.415Z"
   },
   {
    "duration": 5,
    "start_time": "2024-11-05T13:32:10.810Z"
   },
   {
    "duration": 4,
    "start_time": "2024-11-05T13:36:56.773Z"
   },
   {
    "duration": 16,
    "start_time": "2024-11-05T13:36:57.535Z"
   },
   {
    "duration": 5,
    "start_time": "2024-11-05T13:37:09.037Z"
   },
   {
    "duration": 24,
    "start_time": "2024-11-05T13:37:09.661Z"
   },
   {
    "duration": 3,
    "start_time": "2024-11-05T13:37:23.479Z"
   },
   {
    "duration": 5,
    "start_time": "2024-11-05T13:37:33.548Z"
   },
   {
    "duration": 24,
    "start_time": "2024-11-05T13:37:34.116Z"
   },
   {
    "duration": 5,
    "start_time": "2024-11-05T13:38:05.992Z"
   },
   {
    "duration": 23,
    "start_time": "2024-11-05T13:38:06.759Z"
   },
   {
    "duration": 4,
    "start_time": "2024-11-05T13:38:29.832Z"
   },
   {
    "duration": 4,
    "start_time": "2024-11-05T13:38:39.933Z"
   },
   {
    "duration": 4,
    "start_time": "2024-11-05T13:38:48.608Z"
   },
   {
    "duration": 4,
    "start_time": "2024-11-05T13:39:09.846Z"
   },
   {
    "duration": 5,
    "start_time": "2024-11-05T13:39:47.821Z"
   },
   {
    "duration": 4,
    "start_time": "2024-11-05T13:40:07.749Z"
   },
   {
    "duration": 95,
    "start_time": "2024-11-05T13:40:08.143Z"
   },
   {
    "duration": 5,
    "start_time": "2024-11-05T13:40:08.838Z"
   },
   {
    "duration": 5,
    "start_time": "2024-11-05T13:40:09.254Z"
   },
   {
    "duration": 24,
    "start_time": "2024-11-05T13:40:09.980Z"
   },
   {
    "duration": 5,
    "start_time": "2024-11-05T13:40:23.645Z"
   },
   {
    "duration": 27,
    "start_time": "2024-11-05T13:40:24.201Z"
   },
   {
    "duration": 5,
    "start_time": "2024-11-05T13:40:32.978Z"
   },
   {
    "duration": 27,
    "start_time": "2024-11-05T13:40:33.295Z"
   },
   {
    "duration": 5,
    "start_time": "2024-11-05T13:40:43.418Z"
   },
   {
    "duration": 24,
    "start_time": "2024-11-05T13:40:44.905Z"
   },
   {
    "duration": 9,
    "start_time": "2024-11-05T13:40:54.243Z"
   },
   {
    "duration": 5,
    "start_time": "2024-11-05T13:41:05.503Z"
   },
   {
    "duration": 16,
    "start_time": "2024-11-05T13:41:06.004Z"
   },
   {
    "duration": 4,
    "start_time": "2024-11-05T13:41:10.721Z"
   },
   {
    "duration": 66,
    "start_time": "2024-11-05T13:41:11.013Z"
   },
   {
    "duration": 9,
    "start_time": "2024-11-05T13:41:33.645Z"
   },
   {
    "duration": 16,
    "start_time": "2024-11-05T13:41:43.282Z"
   },
   {
    "duration": 57,
    "start_time": "2024-11-05T13:41:57.119Z"
   },
   {
    "duration": 5,
    "start_time": "2024-11-05T13:42:26.433Z"
   },
   {
    "duration": 24,
    "start_time": "2024-11-05T13:42:26.705Z"
   },
   {
    "duration": 4,
    "start_time": "2024-11-05T13:43:59.284Z"
   },
   {
    "duration": 22,
    "start_time": "2024-11-05T13:43:59.774Z"
   },
   {
    "duration": 4,
    "start_time": "2024-11-05T13:44:20.681Z"
   },
   {
    "duration": 24,
    "start_time": "2024-11-05T13:44:21.200Z"
   },
   {
    "duration": 4,
    "start_time": "2024-11-05T13:44:41.301Z"
   },
   {
    "duration": 24,
    "start_time": "2024-11-05T13:44:41.563Z"
   },
   {
    "duration": 3,
    "start_time": "2024-11-05T13:45:10.978Z"
   },
   {
    "duration": 61,
    "start_time": "2024-11-05T13:45:11.387Z"
   },
   {
    "duration": 5,
    "start_time": "2024-11-05T13:45:12.431Z"
   },
   {
    "duration": 5,
    "start_time": "2024-11-05T13:45:13.427Z"
   },
   {
    "duration": 4,
    "start_time": "2024-11-05T13:45:31.155Z"
   },
   {
    "duration": 11,
    "start_time": "2024-11-05T13:45:36.271Z"
   },
   {
    "duration": 4,
    "start_time": "2024-11-05T13:45:48.405Z"
   },
   {
    "duration": 32,
    "start_time": "2024-11-05T13:45:48.705Z"
   },
   {
    "duration": 5,
    "start_time": "2024-11-05T13:45:59.690Z"
   },
   {
    "duration": 5,
    "start_time": "2024-11-05T13:46:27.124Z"
   },
   {
    "duration": 24,
    "start_time": "2024-11-05T13:46:27.577Z"
   },
   {
    "duration": 1530,
    "start_time": "2024-11-05T13:47:05.489Z"
   },
   {
    "duration": 5,
    "start_time": "2024-11-05T13:47:11.577Z"
   },
   {
    "duration": 4,
    "start_time": "2024-11-05T13:47:14.538Z"
   },
   {
    "duration": 869,
    "start_time": "2024-11-05T13:47:14.825Z"
   },
   {
    "duration": 5,
    "start_time": "2024-11-05T13:47:41.537Z"
   },
   {
    "duration": 16,
    "start_time": "2024-11-05T13:47:41.969Z"
   },
   {
    "duration": 102,
    "start_time": "2024-11-05T13:48:13.930Z"
   },
   {
    "duration": 15,
    "start_time": "2024-11-05T13:48:14.232Z"
   },
   {
    "duration": 5,
    "start_time": "2024-11-05T13:48:19.564Z"
   },
   {
    "duration": 24,
    "start_time": "2024-11-05T13:48:19.821Z"
   },
   {
    "duration": 4,
    "start_time": "2024-11-05T13:48:31.859Z"
   },
   {
    "duration": 22,
    "start_time": "2024-11-05T13:48:32.251Z"
   },
   {
    "duration": 6,
    "start_time": "2024-11-05T13:48:41.187Z"
   },
   {
    "duration": 24,
    "start_time": "2024-11-05T13:48:41.864Z"
   },
   {
    "duration": 4,
    "start_time": "2024-11-05T13:49:50.707Z"
   },
   {
    "duration": 29,
    "start_time": "2024-11-05T13:49:51.047Z"
   },
   {
    "duration": 4,
    "start_time": "2024-11-05T13:50:02.147Z"
   },
   {
    "duration": 15,
    "start_time": "2024-11-05T13:50:02.592Z"
   },
   {
    "duration": 8,
    "start_time": "2024-11-05T13:50:22.767Z"
   },
   {
    "duration": 4,
    "start_time": "2024-11-05T13:50:39.529Z"
   },
   {
    "duration": 15,
    "start_time": "2024-11-05T13:50:39.885Z"
   },
   {
    "duration": 4,
    "start_time": "2024-11-05T13:50:47.996Z"
   },
   {
    "duration": 18,
    "start_time": "2024-11-05T13:50:48.247Z"
   },
   {
    "duration": 8,
    "start_time": "2024-11-05T13:50:48.499Z"
   },
   {
    "duration": 5,
    "start_time": "2024-11-05T13:50:59.956Z"
   },
   {
    "duration": 26,
    "start_time": "2024-11-05T13:51:00.267Z"
   },
   {
    "duration": 10,
    "start_time": "2024-11-05T13:51:00.981Z"
   },
   {
    "duration": 4,
    "start_time": "2024-11-05T13:51:12.662Z"
   },
   {
    "duration": 17,
    "start_time": "2024-11-05T13:51:13.166Z"
   },
   {
    "duration": 9,
    "start_time": "2024-11-05T13:51:15.039Z"
   },
   {
    "duration": 5,
    "start_time": "2024-11-05T13:51:32.347Z"
   },
   {
    "duration": 16,
    "start_time": "2024-11-05T13:51:32.670Z"
   },
   {
    "duration": 10,
    "start_time": "2024-11-05T13:51:33.100Z"
   },
   {
    "duration": 48,
    "start_time": "2024-11-05T13:52:33.092Z"
   },
   {
    "duration": 18,
    "start_time": "2024-11-05T13:52:36.206Z"
   },
   {
    "duration": 4,
    "start_time": "2024-11-05T13:52:39.522Z"
   },
   {
    "duration": 833,
    "start_time": "2024-11-05T13:52:40.121Z"
   },
   {
    "duration": 19,
    "start_time": "2024-11-05T13:52:49.894Z"
   },
   {
    "duration": 8,
    "start_time": "2024-11-05T13:52:51.995Z"
   },
   {
    "duration": 11,
    "start_time": "2024-11-05T13:53:26.452Z"
   },
   {
    "duration": 8,
    "start_time": "2024-11-05T13:53:43.618Z"
   },
   {
    "duration": 7,
    "start_time": "2024-11-05T13:53:51.607Z"
   },
   {
    "duration": 6,
    "start_time": "2024-11-05T13:54:19.803Z"
   },
   {
    "duration": 8,
    "start_time": "2024-11-05T13:55:46.818Z"
   },
   {
    "duration": 6,
    "start_time": "2024-11-05T13:55:51.920Z"
   },
   {
    "duration": 8,
    "start_time": "2024-11-05T13:56:00.582Z"
   },
   {
    "duration": 6,
    "start_time": "2024-11-05T13:56:35.469Z"
   },
   {
    "duration": 54,
    "start_time": "2024-11-05T13:56:35.895Z"
   },
   {
    "duration": 31,
    "start_time": "2024-11-05T13:56:43.861Z"
   },
   {
    "duration": 4,
    "start_time": "2024-11-05T13:57:59.045Z"
   },
   {
    "duration": 3,
    "start_time": "2024-11-05T13:58:36.065Z"
   },
   {
    "duration": 25,
    "start_time": "2024-11-05T13:58:36.970Z"
   },
   {
    "duration": 12,
    "start_time": "2024-11-05T13:58:58.956Z"
   },
   {
    "duration": 32,
    "start_time": "2024-11-05T13:59:12.935Z"
   },
   {
    "duration": 20,
    "start_time": "2024-11-05T14:00:16.912Z"
   },
   {
    "duration": 4,
    "start_time": "2024-11-05T14:00:41.428Z"
   },
   {
    "duration": 20,
    "start_time": "2024-11-05T14:00:42.837Z"
   },
   {
    "duration": 4,
    "start_time": "2024-11-05T14:01:20.078Z"
   },
   {
    "duration": 25,
    "start_time": "2024-11-05T14:01:20.413Z"
   },
   {
    "duration": 17,
    "start_time": "2024-11-05T14:01:20.730Z"
   },
   {
    "duration": 4,
    "start_time": "2024-11-05T14:01:26.087Z"
   },
   {
    "duration": 23,
    "start_time": "2024-11-05T14:01:27.125Z"
   },
   {
    "duration": 4,
    "start_time": "2024-11-05T14:01:33.280Z"
   },
   {
    "duration": 19,
    "start_time": "2024-11-05T14:01:33.723Z"
   },
   {
    "duration": 6,
    "start_time": "2024-11-05T14:01:36.649Z"
   },
   {
    "duration": 4,
    "start_time": "2024-11-05T14:01:43.293Z"
   },
   {
    "duration": 8,
    "start_time": "2024-11-05T14:02:12.370Z"
   },
   {
    "duration": 4,
    "start_time": "2024-11-05T14:02:41.348Z"
   },
   {
    "duration": 25,
    "start_time": "2024-11-05T14:02:44.870Z"
   },
   {
    "duration": 18,
    "start_time": "2024-11-05T14:02:54.860Z"
   },
   {
    "duration": 6,
    "start_time": "2024-11-05T14:02:55.554Z"
   },
   {
    "duration": 4,
    "start_time": "2024-11-05T14:02:58.036Z"
   },
   {
    "duration": 22,
    "start_time": "2024-11-05T14:03:06.707Z"
   },
   {
    "duration": 95,
    "start_time": "2024-11-05T14:03:16.681Z"
   },
   {
    "duration": 49,
    "start_time": "2024-11-05T14:03:17.426Z"
   },
   {
    "duration": 12,
    "start_time": "2024-11-05T14:06:54.555Z"
   },
   {
    "duration": 51,
    "start_time": "2024-11-05T14:08:18.287Z"
   },
   {
    "duration": 36,
    "start_time": "2024-11-05T14:08:23.768Z"
   },
   {
    "duration": 21722,
    "start_time": "2024-11-12T05:56:58.052Z"
   },
   {
    "duration": 1895,
    "start_time": "2024-11-12T05:57:19.776Z"
   },
   {
    "duration": 5,
    "start_time": "2024-11-12T05:57:21.673Z"
   },
   {
    "duration": 1432,
    "start_time": "2024-11-12T05:57:21.680Z"
   },
   {
    "duration": 32,
    "start_time": "2024-11-12T05:57:23.113Z"
   },
   {
    "duration": 23,
    "start_time": "2024-11-12T05:57:23.147Z"
   },
   {
    "duration": 268,
    "start_time": "2024-11-12T05:57:23.172Z"
   },
   {
    "duration": 84,
    "start_time": "2024-11-12T05:57:23.442Z"
   },
   {
    "duration": 60,
    "start_time": "2024-11-12T05:57:23.528Z"
   },
   {
    "duration": 132,
    "start_time": "2024-11-12T05:57:23.590Z"
   },
   {
    "duration": 2166,
    "start_time": "2024-11-12T05:57:23.723Z"
   },
   {
    "duration": 962,
    "start_time": "2024-11-12T05:57:25.890Z"
   },
   {
    "duration": 3,
    "start_time": "2024-11-12T05:57:26.854Z"
   },
   {
    "duration": 6,
    "start_time": "2024-11-12T05:57:26.859Z"
   },
   {
    "duration": 91,
    "start_time": "2024-11-12T05:57:26.867Z"
   },
   {
    "duration": 3,
    "start_time": "2024-11-12T05:57:26.960Z"
   },
   {
    "duration": 38,
    "start_time": "2024-11-12T05:57:26.965Z"
   },
   {
    "duration": 34,
    "start_time": "2024-11-12T05:57:27.005Z"
   },
   {
    "duration": 23,
    "start_time": "2024-11-12T05:57:27.041Z"
   },
   {
    "duration": 18,
    "start_time": "2024-11-12T05:57:27.066Z"
   },
   {
    "duration": 5,
    "start_time": "2024-11-12T05:57:27.085Z"
   },
   {
    "duration": 130,
    "start_time": "2024-11-12T05:57:27.092Z"
   },
   {
    "duration": 215,
    "start_time": "2024-11-12T05:57:27.224Z"
   },
   {
    "duration": 0,
    "start_time": "2024-11-12T05:57:27.441Z"
   },
   {
    "duration": 0,
    "start_time": "2024-11-12T05:57:27.442Z"
   },
   {
    "duration": 1,
    "start_time": "2024-11-12T05:57:27.443Z"
   },
   {
    "duration": 0,
    "start_time": "2024-11-12T05:57:27.445Z"
   },
   {
    "duration": 0,
    "start_time": "2024-11-12T05:57:27.446Z"
   },
   {
    "duration": 0,
    "start_time": "2024-11-12T05:57:27.447Z"
   },
   {
    "duration": 0,
    "start_time": "2024-11-12T05:57:27.448Z"
   },
   {
    "duration": 0,
    "start_time": "2024-11-12T05:57:27.449Z"
   },
   {
    "duration": 0,
    "start_time": "2024-11-12T05:57:27.450Z"
   },
   {
    "duration": 0,
    "start_time": "2024-11-12T05:57:27.451Z"
   },
   {
    "duration": 0,
    "start_time": "2024-11-12T05:57:27.452Z"
   },
   {
    "duration": 0,
    "start_time": "2024-11-12T05:57:27.453Z"
   },
   {
    "duration": 0,
    "start_time": "2024-11-12T05:57:27.454Z"
   },
   {
    "duration": 5,
    "start_time": "2024-11-12T05:58:09.440Z"
   },
   {
    "duration": 108,
    "start_time": "2024-11-12T05:58:11.019Z"
   },
   {
    "duration": 116,
    "start_time": "2024-11-12T05:58:12.405Z"
   },
   {
    "duration": 5,
    "start_time": "2024-11-12T05:58:19.021Z"
   },
   {
    "duration": 5,
    "start_time": "2024-11-12T05:58:19.343Z"
   },
   {
    "duration": 4,
    "start_time": "2024-11-12T05:58:19.656Z"
   },
   {
    "duration": 6,
    "start_time": "2024-11-12T05:58:19.979Z"
   },
   {
    "duration": 3,
    "start_time": "2024-11-12T05:58:24.048Z"
   },
   {
    "duration": 19,
    "start_time": "2024-11-12T05:58:24.261Z"
   },
   {
    "duration": 4,
    "start_time": "2024-11-12T05:58:24.657Z"
   },
   {
    "duration": 630,
    "start_time": "2024-11-12T05:58:24.866Z"
   },
   {
    "duration": 293,
    "start_time": "2024-11-12T05:58:25.498Z"
   },
   {
    "duration": 5,
    "start_time": "2024-11-12T05:58:25.793Z"
   },
   {
    "duration": 4,
    "start_time": "2024-11-12T06:01:38.163Z"
   },
   {
    "duration": 23,
    "start_time": "2024-11-12T06:01:55.371Z"
   },
   {
    "duration": 19,
    "start_time": "2024-11-12T06:02:08.286Z"
   },
   {
    "duration": 23,
    "start_time": "2024-11-12T06:02:27.083Z"
   },
   {
    "duration": 10,
    "start_time": "2024-11-12T06:02:51.859Z"
   },
   {
    "duration": 22,
    "start_time": "2024-11-12T06:03:43.089Z"
   },
   {
    "duration": 20,
    "start_time": "2024-11-12T06:03:43.335Z"
   },
   {
    "duration": 10,
    "start_time": "2024-11-12T06:03:46.169Z"
   },
   {
    "duration": 9,
    "start_time": "2024-11-12T06:04:15.425Z"
   },
   {
    "duration": 4,
    "start_time": "2024-11-12T06:04:54.803Z"
   },
   {
    "duration": 106,
    "start_time": "2024-11-12T06:04:58.020Z"
   },
   {
    "duration": 16,
    "start_time": "2024-11-12T06:05:22.214Z"
   },
   {
    "duration": 16,
    "start_time": "2024-11-12T06:05:34.713Z"
   },
   {
    "duration": 17,
    "start_time": "2024-11-12T06:05:36.366Z"
   },
   {
    "duration": 9,
    "start_time": "2024-11-12T06:07:26.932Z"
   },
   {
    "duration": 7,
    "start_time": "2024-11-12T06:08:01.541Z"
   },
   {
    "duration": 5,
    "start_time": "2024-11-12T06:08:25.156Z"
   },
   {
    "duration": 5,
    "start_time": "2024-11-12T06:08:52.629Z"
   },
   {
    "duration": 3,
    "start_time": "2024-11-12T06:08:56.095Z"
   },
   {
    "duration": 4,
    "start_time": "2024-11-12T06:10:10.608Z"
   },
   {
    "duration": 8,
    "start_time": "2024-11-12T06:10:27.730Z"
   },
   {
    "duration": 13,
    "start_time": "2024-11-12T06:10:42.853Z"
   },
   {
    "duration": 10,
    "start_time": "2024-11-12T06:10:48.417Z"
   },
   {
    "duration": 11,
    "start_time": "2024-11-12T06:10:48.429Z"
   },
   {
    "duration": 11,
    "start_time": "2024-11-12T06:11:07.712Z"
   },
   {
    "duration": 24,
    "start_time": "2024-11-12T06:11:11.184Z"
   },
   {
    "duration": 8,
    "start_time": "2024-11-12T06:11:13.408Z"
   },
   {
    "duration": 15,
    "start_time": "2024-11-12T06:11:17.757Z"
   },
   {
    "duration": 6877,
    "start_time": "2024-11-12T06:11:30.338Z"
   },
   {
    "duration": 1737,
    "start_time": "2024-11-12T06:11:37.218Z"
   },
   {
    "duration": 6,
    "start_time": "2024-11-12T06:11:38.956Z"
   },
   {
    "duration": 833,
    "start_time": "2024-11-12T06:11:38.964Z"
   },
   {
    "duration": 35,
    "start_time": "2024-11-12T06:11:39.800Z"
   },
   {
    "duration": 26,
    "start_time": "2024-11-12T06:11:39.837Z"
   },
   {
    "duration": 264,
    "start_time": "2024-11-12T06:11:39.865Z"
   },
   {
    "duration": 72,
    "start_time": "2024-11-12T06:11:40.131Z"
   },
   {
    "duration": 67,
    "start_time": "2024-11-12T06:11:40.205Z"
   },
   {
    "duration": 124,
    "start_time": "2024-11-12T06:11:40.273Z"
   },
   {
    "duration": 2103,
    "start_time": "2024-11-12T06:11:40.398Z"
   },
   {
    "duration": 969,
    "start_time": "2024-11-12T06:11:42.503Z"
   },
   {
    "duration": 3,
    "start_time": "2024-11-12T06:11:43.473Z"
   },
   {
    "duration": 24,
    "start_time": "2024-11-12T06:11:43.479Z"
   },
   {
    "duration": 78,
    "start_time": "2024-11-12T06:11:43.505Z"
   },
   {
    "duration": 4,
    "start_time": "2024-11-12T06:11:43.585Z"
   },
   {
    "duration": 36,
    "start_time": "2024-11-12T06:11:43.591Z"
   },
   {
    "duration": 25,
    "start_time": "2024-11-12T06:11:43.628Z"
   },
   {
    "duration": 12,
    "start_time": "2024-11-12T06:11:43.654Z"
   },
   {
    "duration": 8,
    "start_time": "2024-11-12T06:11:43.669Z"
   },
   {
    "duration": 5,
    "start_time": "2024-11-12T06:11:43.679Z"
   },
   {
    "duration": 137,
    "start_time": "2024-11-12T06:11:43.685Z"
   },
   {
    "duration": 6,
    "start_time": "2024-11-12T06:11:43.825Z"
   },
   {
    "duration": 189,
    "start_time": "2024-11-12T06:11:43.833Z"
   },
   {
    "duration": 203,
    "start_time": "2024-11-12T06:11:44.024Z"
   },
   {
    "duration": 91,
    "start_time": "2024-11-12T06:11:44.231Z"
   },
   {
    "duration": 5,
    "start_time": "2024-11-12T06:11:44.324Z"
   },
   {
    "duration": 5,
    "start_time": "2024-11-12T06:11:44.330Z"
   },
   {
    "duration": 5,
    "start_time": "2024-11-12T06:11:44.336Z"
   },
   {
    "duration": 3,
    "start_time": "2024-11-12T06:11:44.342Z"
   },
   {
    "duration": 24,
    "start_time": "2024-11-12T06:11:44.347Z"
   },
   {
    "duration": 4,
    "start_time": "2024-11-12T06:11:44.372Z"
   },
   {
    "duration": 691,
    "start_time": "2024-11-12T06:11:44.378Z"
   },
   {
    "duration": 285,
    "start_time": "2024-11-12T06:11:45.070Z"
   },
   {
    "duration": 4,
    "start_time": "2024-11-12T06:11:45.357Z"
   },
   {
    "duration": 81,
    "start_time": "2024-11-12T06:12:13.917Z"
   },
   {
    "duration": 12,
    "start_time": "2024-11-12T06:12:17.942Z"
   },
   {
    "duration": 24,
    "start_time": "2024-11-12T06:13:44.485Z"
   },
   {
    "duration": 28,
    "start_time": "2024-11-12T06:13:45.011Z"
   },
   {
    "duration": 11,
    "start_time": "2024-11-12T06:13:48.121Z"
   },
   {
    "duration": 11,
    "start_time": "2024-11-12T06:14:02.536Z"
   },
   {
    "duration": 7,
    "start_time": "2024-11-12T06:14:11.887Z"
   },
   {
    "duration": 8,
    "start_time": "2024-11-12T06:14:49.045Z"
   },
   {
    "duration": 9,
    "start_time": "2024-11-12T06:15:03.549Z"
   },
   {
    "duration": 9,
    "start_time": "2024-11-12T06:15:08.822Z"
   },
   {
    "duration": 118,
    "start_time": "2024-11-12T06:15:18.384Z"
   },
   {
    "duration": 7,
    "start_time": "2024-11-12T06:15:23.319Z"
   },
   {
    "duration": 7,
    "start_time": "2024-11-12T06:15:29.361Z"
   },
   {
    "duration": 1109,
    "start_time": "2024-11-12T06:18:57.503Z"
   },
   {
    "duration": 0,
    "start_time": "2024-11-12T06:18:58.613Z"
   },
   {
    "duration": 0,
    "start_time": "2024-11-12T06:18:58.615Z"
   },
   {
    "duration": 1400,
    "start_time": "2024-11-12T06:18:58.774Z"
   },
   {
    "duration": 108,
    "start_time": "2024-11-12T06:19:15.614Z"
   },
   {
    "duration": 4,
    "start_time": "2024-11-12T06:19:20.102Z"
   },
   {
    "duration": 111,
    "start_time": "2024-11-12T06:19:23.616Z"
   },
   {
    "duration": 106,
    "start_time": "2024-11-12T06:19:26.920Z"
   },
   {
    "duration": 7,
    "start_time": "2024-11-12T06:21:13.732Z"
   },
   {
    "duration": 5,
    "start_time": "2024-11-12T06:21:19.183Z"
   },
   {
    "duration": 6,
    "start_time": "2024-11-12T06:21:33.286Z"
   },
   {
    "duration": 22,
    "start_time": "2024-11-12T06:22:29.096Z"
   },
   {
    "duration": 12,
    "start_time": "2024-11-12T06:22:44.746Z"
   },
   {
    "duration": 6,
    "start_time": "2024-11-12T06:23:05.145Z"
   },
   {
    "duration": 7,
    "start_time": "2024-11-12T06:23:20.542Z"
   },
   {
    "duration": 12,
    "start_time": "2024-11-12T06:24:04.095Z"
   },
   {
    "duration": 11,
    "start_time": "2024-11-12T06:24:20.194Z"
   },
   {
    "duration": 12,
    "start_time": "2024-11-12T06:24:47.451Z"
   },
   {
    "duration": 10,
    "start_time": "2024-11-12T06:24:55.296Z"
   },
   {
    "duration": 11,
    "start_time": "2024-11-12T06:25:03.585Z"
   },
   {
    "duration": 11,
    "start_time": "2024-11-12T06:25:17.496Z"
   },
   {
    "duration": 11,
    "start_time": "2024-11-12T06:25:23.719Z"
   },
   {
    "duration": 11,
    "start_time": "2024-11-12T06:25:35.953Z"
   },
   {
    "duration": 10,
    "start_time": "2024-11-12T06:25:39.935Z"
   },
   {
    "duration": 8,
    "start_time": "2024-11-12T06:26:22.406Z"
   },
   {
    "duration": 28,
    "start_time": "2024-11-12T06:27:30.140Z"
   },
   {
    "duration": 18,
    "start_time": "2024-11-12T06:27:38.269Z"
   },
   {
    "duration": 92,
    "start_time": "2024-11-12T06:27:49.328Z"
   },
   {
    "duration": 7,
    "start_time": "2024-11-12T06:27:59.511Z"
   },
   {
    "duration": 65,
    "start_time": "2024-11-12T06:28:58.871Z"
   },
   {
    "duration": 8,
    "start_time": "2024-11-12T06:29:02.078Z"
   },
   {
    "duration": 20,
    "start_time": "2024-11-12T06:29:08.771Z"
   },
   {
    "duration": 16,
    "start_time": "2024-11-12T06:29:10.842Z"
   },
   {
    "duration": 5,
    "start_time": "2024-11-12T06:31:37.476Z"
   },
   {
    "duration": 10,
    "start_time": "2024-11-12T06:31:39.315Z"
   },
   {
    "duration": 4,
    "start_time": "2024-11-12T06:31:44.901Z"
   },
   {
    "duration": 62,
    "start_time": "2024-11-12T06:31:45.258Z"
   },
   {
    "duration": 5,
    "start_time": "2024-11-12T06:32:05.335Z"
   },
   {
    "duration": 21,
    "start_time": "2024-11-12T06:32:05.559Z"
   },
   {
    "duration": 4,
    "start_time": "2024-11-12T06:33:41.199Z"
   },
   {
    "duration": 10,
    "start_time": "2024-11-12T06:33:41.641Z"
   },
   {
    "duration": 134,
    "start_time": "2024-11-12T06:33:51.296Z"
   },
   {
    "duration": 4,
    "start_time": "2024-11-12T06:34:06.658Z"
   },
   {
    "duration": 156,
    "start_time": "2024-11-12T06:34:07.172Z"
   },
   {
    "duration": 4,
    "start_time": "2024-11-12T06:34:35.170Z"
   },
   {
    "duration": 173,
    "start_time": "2024-11-12T06:34:35.449Z"
   },
   {
    "duration": 156,
    "start_time": "2024-11-12T06:34:58.670Z"
   },
   {
    "duration": 4,
    "start_time": "2024-11-12T06:35:26.261Z"
   },
   {
    "duration": 10,
    "start_time": "2024-11-12T06:35:26.813Z"
   },
   {
    "duration": 15,
    "start_time": "2024-11-12T06:35:31.143Z"
   },
   {
    "duration": 3,
    "start_time": "2024-11-12T06:36:33.382Z"
   },
   {
    "duration": 74,
    "start_time": "2024-11-12T06:36:37.653Z"
   },
   {
    "duration": 5,
    "start_time": "2024-11-12T06:36:57.884Z"
   },
   {
    "duration": 112,
    "start_time": "2024-11-12T06:36:58.114Z"
   },
   {
    "duration": 5,
    "start_time": "2024-11-12T06:37:07.750Z"
   },
   {
    "duration": 46,
    "start_time": "2024-11-12T06:37:08.279Z"
   },
   {
    "duration": 5,
    "start_time": "2024-11-12T06:38:04.610Z"
   },
   {
    "duration": 5,
    "start_time": "2024-11-12T06:38:18.090Z"
   },
   {
    "duration": 194,
    "start_time": "2024-11-12T06:38:18.328Z"
   },
   {
    "duration": 4,
    "start_time": "2024-11-12T06:38:27.701Z"
   },
   {
    "duration": 150,
    "start_time": "2024-11-12T06:38:27.973Z"
   },
   {
    "duration": 5,
    "start_time": "2024-11-12T06:38:36.890Z"
   },
   {
    "duration": 186,
    "start_time": "2024-11-12T06:38:37.339Z"
   },
   {
    "duration": 5,
    "start_time": "2024-11-12T06:38:58.123Z"
   },
   {
    "duration": 18,
    "start_time": "2024-11-12T06:39:05.461Z"
   },
   {
    "duration": 5,
    "start_time": "2024-11-12T06:39:18.871Z"
   },
   {
    "duration": 14,
    "start_time": "2024-11-12T06:39:45.076Z"
   },
   {
    "duration": 4,
    "start_time": "2024-11-12T06:40:07.006Z"
   },
   {
    "duration": 21,
    "start_time": "2024-11-12T06:40:09.469Z"
   },
   {
    "duration": 8,
    "start_time": "2024-11-12T06:40:10.053Z"
   },
   {
    "duration": 6,
    "start_time": "2024-11-12T06:40:12.247Z"
   },
   {
    "duration": 5,
    "start_time": "2024-11-12T06:40:37.886Z"
   },
   {
    "duration": 9,
    "start_time": "2024-11-12T06:40:38.295Z"
   },
   {
    "duration": 71,
    "start_time": "2024-11-12T06:40:48.053Z"
   },
   {
    "duration": 8,
    "start_time": "2024-11-12T06:40:52.373Z"
   },
   {
    "duration": 5,
    "start_time": "2024-11-12T06:41:05.088Z"
   },
   {
    "duration": 118,
    "start_time": "2024-11-12T06:41:05.405Z"
   },
   {
    "duration": 11,
    "start_time": "2024-11-12T06:41:07.799Z"
   },
   {
    "duration": 4,
    "start_time": "2024-11-12T06:41:12.380Z"
   },
   {
    "duration": 6,
    "start_time": "2024-11-12T06:41:33.788Z"
   },
   {
    "duration": 42,
    "start_time": "2024-11-12T06:41:34.288Z"
   },
   {
    "duration": 9,
    "start_time": "2024-11-12T06:41:34.940Z"
   },
   {
    "duration": 8,
    "start_time": "2024-11-12T06:41:36.170Z"
   },
   {
    "duration": 6,
    "start_time": "2024-11-12T06:41:39.867Z"
   },
   {
    "duration": 5,
    "start_time": "2024-11-12T06:42:23.458Z"
   },
   {
    "duration": 139,
    "start_time": "2024-11-12T06:42:23.782Z"
   },
   {
    "duration": 5,
    "start_time": "2024-11-12T06:42:46.661Z"
   },
   {
    "duration": 22,
    "start_time": "2024-11-12T06:42:47.458Z"
   },
   {
    "duration": 7,
    "start_time": "2024-11-12T06:42:48.865Z"
   },
   {
    "duration": 7,
    "start_time": "2024-11-12T06:42:49.608Z"
   },
   {
    "duration": 36,
    "start_time": "2024-11-12T06:43:13.687Z"
   },
   {
    "duration": 92,
    "start_time": "2024-11-12T06:43:34.628Z"
   },
   {
    "duration": 4,
    "start_time": "2024-11-12T06:44:27.200Z"
   },
   {
    "duration": 106,
    "start_time": "2024-11-12T06:44:27.416Z"
   },
   {
    "duration": 5,
    "start_time": "2024-11-12T06:44:48.731Z"
   },
   {
    "duration": 47,
    "start_time": "2024-11-12T06:44:49.975Z"
   },
   {
    "duration": 5,
    "start_time": "2024-11-12T06:45:06.283Z"
   },
   {
    "duration": 185,
    "start_time": "2024-11-12T06:45:06.538Z"
   },
   {
    "duration": 5,
    "start_time": "2024-11-12T06:45:09.568Z"
   },
   {
    "duration": 100,
    "start_time": "2024-11-12T06:45:10.126Z"
   },
   {
    "duration": 6,
    "start_time": "2024-11-12T06:45:16.883Z"
   },
   {
    "duration": 4,
    "start_time": "2024-11-12T06:45:23.364Z"
   },
   {
    "duration": 58,
    "start_time": "2024-11-12T06:45:23.868Z"
   },
   {
    "duration": 5,
    "start_time": "2024-11-12T06:45:30.166Z"
   },
   {
    "duration": 87,
    "start_time": "2024-11-12T06:45:31.035Z"
   },
   {
    "duration": 4,
    "start_time": "2024-11-12T06:45:56.068Z"
   },
   {
    "duration": 81,
    "start_time": "2024-11-12T06:45:56.541Z"
   },
   {
    "duration": 23,
    "start_time": "2024-11-12T06:45:57.105Z"
   },
   {
    "duration": 63,
    "start_time": "2024-11-12T06:46:10.060Z"
   },
   {
    "duration": 1751,
    "start_time": "2024-11-12T07:08:42.481Z"
   },
   {
    "duration": 6,
    "start_time": "2024-11-12T07:08:48.900Z"
   },
   {
    "duration": 871,
    "start_time": "2024-11-12T07:08:49.280Z"
   },
   {
    "duration": 30,
    "start_time": "2024-11-12T07:08:50.339Z"
   },
   {
    "duration": 28,
    "start_time": "2024-11-12T07:08:51.447Z"
   },
   {
    "duration": 214,
    "start_time": "2024-11-12T07:08:59.506Z"
   },
   {
    "duration": 75,
    "start_time": "2024-11-12T07:08:59.930Z"
   },
   {
    "duration": 54,
    "start_time": "2024-11-12T07:09:00.695Z"
   },
   {
    "duration": 4,
    "start_time": "2024-11-12T07:11:38.563Z"
   },
   {
    "duration": 4,
    "start_time": "2024-11-12T07:11:58.247Z"
   },
   {
    "duration": 1791,
    "start_time": "2024-11-12T07:12:08.999Z"
   },
   {
    "duration": 5,
    "start_time": "2024-11-12T07:12:11.143Z"
   },
   {
    "duration": 816,
    "start_time": "2024-11-12T07:12:11.797Z"
   },
   {
    "duration": 31,
    "start_time": "2024-11-12T07:12:12.615Z"
   },
   {
    "duration": 24,
    "start_time": "2024-11-12T07:12:12.648Z"
   },
   {
    "duration": 228,
    "start_time": "2024-11-12T07:12:13.079Z"
   },
   {
    "duration": 71,
    "start_time": "2024-11-12T07:12:13.309Z"
   },
   {
    "duration": 67,
    "start_time": "2024-11-12T07:12:13.579Z"
   },
   {
    "duration": 110,
    "start_time": "2024-11-12T07:12:14.286Z"
   },
   {
    "duration": 2097,
    "start_time": "2024-11-12T07:12:14.948Z"
   },
   {
    "duration": 1012,
    "start_time": "2024-11-12T07:12:17.047Z"
   },
   {
    "duration": 3,
    "start_time": "2024-11-12T07:12:52.452Z"
   },
   {
    "duration": 3,
    "start_time": "2024-11-12T07:12:53.242Z"
   },
   {
    "duration": 75,
    "start_time": "2024-11-12T07:12:54.398Z"
   },
   {
    "duration": 5,
    "start_time": "2024-11-12T07:12:56.903Z"
   },
   {
    "duration": 26,
    "start_time": "2024-11-12T07:12:58.476Z"
   },
   {
    "duration": 26,
    "start_time": "2024-11-12T07:13:01.038Z"
   },
   {
    "duration": 4,
    "start_time": "2024-11-12T07:13:07.209Z"
   },
   {
    "duration": 37,
    "start_time": "2024-11-12T07:13:07.692Z"
   },
   {
    "duration": 47,
    "start_time": "2024-11-12T07:13:10.380Z"
   },
   {
    "duration": 48,
    "start_time": "2024-11-12T07:13:15.282Z"
   },
   {
    "duration": 94,
    "start_time": "2024-11-12T07:14:52.624Z"
   },
   {
    "duration": 5,
    "start_time": "2024-11-12T07:15:05.691Z"
   },
   {
    "duration": 1330,
    "start_time": "2024-11-12T07:15:06.448Z"
   },
   {
    "duration": 5,
    "start_time": "2024-11-12T07:16:22.607Z"
   },
   {
    "duration": 62,
    "start_time": "2024-11-12T07:16:23.260Z"
   },
   {
    "duration": 3,
    "start_time": "2024-11-12T07:16:32.536Z"
   },
   {
    "duration": 4,
    "start_time": "2024-11-12T07:16:32.984Z"
   },
   {
    "duration": 5,
    "start_time": "2024-11-12T07:16:33.992Z"
   },
   {
    "duration": 6,
    "start_time": "2024-11-12T07:16:34.356Z"
   },
   {
    "duration": 5,
    "start_time": "2024-11-12T07:16:35.145Z"
   },
   {
    "duration": 65,
    "start_time": "2024-11-12T07:18:09.473Z"
   },
   {
    "duration": 75,
    "start_time": "2024-11-12T07:18:13.823Z"
   },
   {
    "duration": 6,
    "start_time": "2024-11-12T07:18:28.525Z"
   },
   {
    "duration": 64,
    "start_time": "2024-11-12T07:18:29.363Z"
   },
   {
    "duration": 5,
    "start_time": "2024-11-12T07:18:40.175Z"
   },
   {
    "duration": 30,
    "start_time": "2024-11-12T07:18:40.497Z"
   },
   {
    "duration": 24,
    "start_time": "2024-11-12T07:18:42.289Z"
   },
   {
    "duration": 21,
    "start_time": "2024-11-12T07:18:42.783Z"
   },
   {
    "duration": 5,
    "start_time": "2024-11-12T07:21:00.323Z"
   },
   {
    "duration": 177,
    "start_time": "2024-11-12T07:21:01.060Z"
   },
   {
    "duration": 8,
    "start_time": "2024-11-12T07:21:56.847Z"
   },
   {
    "duration": 13,
    "start_time": "2024-11-12T07:22:22.066Z"
   },
   {
    "duration": 6,
    "start_time": "2024-11-12T07:23:16.240Z"
   },
   {
    "duration": 1440,
    "start_time": "2024-11-12T07:23:16.734Z"
   },
   {
    "duration": 5,
    "start_time": "2024-11-12T07:23:23.924Z"
   },
   {
    "duration": 112,
    "start_time": "2024-11-12T07:23:24.215Z"
   },
   {
    "duration": 165,
    "start_time": "2024-11-12T07:23:45.857Z"
   },
   {
    "duration": 9,
    "start_time": "2024-11-12T07:24:10.660Z"
   },
   {
    "duration": 5,
    "start_time": "2024-11-12T07:24:19.711Z"
   },
   {
    "duration": 36,
    "start_time": "2024-11-12T07:24:20.193Z"
   },
   {
    "duration": 62,
    "start_time": "2024-11-12T07:24:22.070Z"
   },
   {
    "duration": 108,
    "start_time": "2024-11-12T07:24:22.418Z"
   },
   {
    "duration": 81,
    "start_time": "2024-11-12T07:24:30.846Z"
   },
   {
    "duration": 125,
    "start_time": "2024-11-12T07:24:36.595Z"
   },
   {
    "duration": 4,
    "start_time": "2024-11-12T07:25:42.393Z"
   },
   {
    "duration": 86,
    "start_time": "2024-11-12T07:25:42.735Z"
   },
   {
    "duration": 106,
    "start_time": "2024-11-12T07:25:43.515Z"
   },
   {
    "duration": 96,
    "start_time": "2024-11-12T07:25:44.425Z"
   },
   {
    "duration": 6,
    "start_time": "2024-11-12T07:25:57.000Z"
   },
   {
    "duration": 56,
    "start_time": "2024-11-12T07:25:57.266Z"
   },
   {
    "duration": 5,
    "start_time": "2024-11-12T07:26:00.973Z"
   },
   {
    "duration": 30,
    "start_time": "2024-11-12T07:26:01.291Z"
   },
   {
    "duration": 5,
    "start_time": "2024-11-12T07:26:16.037Z"
   },
   {
    "duration": 42,
    "start_time": "2024-11-12T07:26:16.379Z"
   },
   {
    "duration": 5,
    "start_time": "2024-11-12T07:26:22.131Z"
   },
   {
    "duration": 33,
    "start_time": "2024-11-12T07:26:22.488Z"
   },
   {
    "duration": 4,
    "start_time": "2024-11-12T07:26:26.425Z"
   },
   {
    "duration": 54,
    "start_time": "2024-11-12T07:26:27.167Z"
   },
   {
    "duration": 5,
    "start_time": "2024-11-12T07:26:32.923Z"
   },
   {
    "duration": 71,
    "start_time": "2024-11-12T07:26:33.250Z"
   },
   {
    "duration": 5,
    "start_time": "2024-11-12T07:26:38.788Z"
   },
   {
    "duration": 95,
    "start_time": "2024-11-12T07:26:39.226Z"
   },
   {
    "duration": 5,
    "start_time": "2024-11-12T07:26:42.612Z"
   },
   {
    "duration": 92,
    "start_time": "2024-11-12T07:26:43.029Z"
   },
   {
    "duration": 5,
    "start_time": "2024-11-12T07:26:55.376Z"
   },
   {
    "duration": 37,
    "start_time": "2024-11-12T07:26:55.791Z"
   },
   {
    "duration": 28,
    "start_time": "2024-11-12T07:26:58.295Z"
   },
   {
    "duration": 47,
    "start_time": "2024-11-12T07:26:59.474Z"
   },
   {
    "duration": 5,
    "start_time": "2024-11-12T07:27:06.169Z"
   },
   {
    "duration": 111,
    "start_time": "2024-11-12T07:27:06.410Z"
   },
   {
    "duration": 22,
    "start_time": "2024-11-12T07:27:07.699Z"
   },
   {
    "duration": 30,
    "start_time": "2024-11-12T07:27:09.191Z"
   },
   {
    "duration": 4,
    "start_time": "2024-11-12T07:27:15.913Z"
   },
   {
    "duration": 50,
    "start_time": "2024-11-12T07:27:16.271Z"
   },
   {
    "duration": 21,
    "start_time": "2024-11-12T07:27:17.584Z"
   },
   {
    "duration": 43,
    "start_time": "2024-11-12T07:27:18.377Z"
   },
   {
    "duration": 6,
    "start_time": "2024-11-12T07:28:46.925Z"
   },
   {
    "duration": 48,
    "start_time": "2024-11-12T07:28:47.273Z"
   },
   {
    "duration": 5,
    "start_time": "2024-11-12T07:29:12.954Z"
   },
   {
    "duration": 23,
    "start_time": "2024-11-12T07:29:13.316Z"
   },
   {
    "duration": 35,
    "start_time": "2024-11-12T07:29:18.598Z"
   },
   {
    "duration": 5,
    "start_time": "2024-11-12T07:30:05.027Z"
   },
   {
    "duration": 23,
    "start_time": "2024-11-12T07:30:05.433Z"
   },
   {
    "duration": 22,
    "start_time": "2024-11-12T07:30:08.127Z"
   },
   {
    "duration": 23,
    "start_time": "2024-11-12T07:30:08.553Z"
   },
   {
    "duration": 3,
    "start_time": "2024-11-12T07:32:16.681Z"
   },
   {
    "duration": 1805,
    "start_time": "2024-11-12T07:34:19.377Z"
   },
   {
    "duration": 6,
    "start_time": "2024-11-12T07:34:21.184Z"
   },
   {
    "duration": 860,
    "start_time": "2024-11-12T07:34:21.191Z"
   },
   {
    "duration": 33,
    "start_time": "2024-11-12T07:34:22.054Z"
   },
   {
    "duration": 48,
    "start_time": "2024-11-12T07:34:22.089Z"
   },
   {
    "duration": 252,
    "start_time": "2024-11-12T07:34:22.139Z"
   },
   {
    "duration": 90,
    "start_time": "2024-11-12T07:34:22.393Z"
   },
   {
    "duration": 70,
    "start_time": "2024-11-12T07:34:22.485Z"
   },
   {
    "duration": 127,
    "start_time": "2024-11-12T07:34:22.556Z"
   },
   {
    "duration": 2002,
    "start_time": "2024-11-12T07:34:22.685Z"
   },
   {
    "duration": 995,
    "start_time": "2024-11-12T07:34:24.689Z"
   },
   {
    "duration": 3,
    "start_time": "2024-11-12T07:34:25.687Z"
   },
   {
    "duration": 11,
    "start_time": "2024-11-12T07:34:25.692Z"
   },
   {
    "duration": 96,
    "start_time": "2024-11-12T07:34:25.704Z"
   },
   {
    "duration": 5,
    "start_time": "2024-11-12T07:34:25.802Z"
   },
   {
    "duration": 60,
    "start_time": "2024-11-12T07:34:25.809Z"
   },
   {
    "duration": 6,
    "start_time": "2024-11-12T07:34:25.872Z"
   },
   {
    "duration": 50,
    "start_time": "2024-11-12T07:34:25.880Z"
   },
   {
    "duration": 288,
    "start_time": "2024-11-12T07:34:25.932Z"
   },
   {
    "duration": 101,
    "start_time": "2024-11-12T07:34:26.321Z"
   },
   {
    "duration": 64,
    "start_time": "2024-11-12T07:35:19.979Z"
   },
   {
    "duration": 3,
    "start_time": "2024-11-12T07:35:33.172Z"
   },
   {
    "duration": 3,
    "start_time": "2024-11-12T07:36:24.197Z"
   },
   {
    "duration": 5,
    "start_time": "2024-11-12T07:36:46.283Z"
   },
   {
    "duration": 3,
    "start_time": "2024-11-12T07:36:55.143Z"
   },
   {
    "duration": 117,
    "start_time": "2024-11-12T07:37:06.498Z"
   },
   {
    "duration": 4,
    "start_time": "2024-11-12T07:37:16.805Z"
   },
   {
    "duration": 5,
    "start_time": "2024-11-12T07:38:26.320Z"
   },
   {
    "duration": 25,
    "start_time": "2024-11-12T07:38:26.626Z"
   },
   {
    "duration": 54,
    "start_time": "2024-11-12T07:38:26.967Z"
   },
   {
    "duration": 23,
    "start_time": "2024-11-12T07:38:27.623Z"
   },
   {
    "duration": 4,
    "start_time": "2024-11-12T07:38:38.069Z"
   },
   {
    "duration": 23,
    "start_time": "2024-11-12T07:38:39.090Z"
   },
   {
    "duration": 23,
    "start_time": "2024-11-12T07:38:39.727Z"
   },
   {
    "duration": 5,
    "start_time": "2024-11-12T07:38:43.645Z"
   },
   {
    "duration": 22,
    "start_time": "2024-11-12T07:38:43.864Z"
   },
   {
    "duration": 23,
    "start_time": "2024-11-12T07:38:44.399Z"
   },
   {
    "duration": 21,
    "start_time": "2024-11-12T07:38:44.698Z"
   },
   {
    "duration": 29,
    "start_time": "2024-11-12T07:39:26.199Z"
   },
   {
    "duration": 4,
    "start_time": "2024-11-12T07:40:48.406Z"
   },
   {
    "duration": 4,
    "start_time": "2024-11-12T07:41:13.970Z"
   },
   {
    "duration": 11,
    "start_time": "2024-11-12T07:41:20.776Z"
   },
   {
    "duration": 3,
    "start_time": "2024-11-12T07:41:23.543Z"
   },
   {
    "duration": 5,
    "start_time": "2024-11-12T07:41:33.210Z"
   },
   {
    "duration": 22,
    "start_time": "2024-11-12T07:41:33.419Z"
   },
   {
    "duration": 21,
    "start_time": "2024-11-12T07:41:34.265Z"
   },
   {
    "duration": 23,
    "start_time": "2024-11-12T07:41:34.704Z"
   },
   {
    "duration": 3,
    "start_time": "2024-11-12T07:41:36.367Z"
   },
   {
    "duration": 3,
    "start_time": "2024-11-12T07:41:36.657Z"
   },
   {
    "duration": 5,
    "start_time": "2024-11-12T07:41:37.684Z"
   },
   {
    "duration": 5,
    "start_time": "2024-11-12T07:41:38.838Z"
   },
   {
    "duration": 6,
    "start_time": "2024-11-12T07:43:49.016Z"
   },
   {
    "duration": 9,
    "start_time": "2024-11-12T07:44:01.962Z"
   },
   {
    "duration": 3,
    "start_time": "2024-11-12T07:44:51.577Z"
   },
   {
    "duration": 11,
    "start_time": "2024-11-12T07:44:51.877Z"
   },
   {
    "duration": 22,
    "start_time": "2024-11-12T07:45:02.452Z"
   },
   {
    "duration": 22,
    "start_time": "2024-11-12T07:45:11.080Z"
   },
   {
    "duration": 18,
    "start_time": "2024-11-12T07:45:16.104Z"
   },
   {
    "duration": 25,
    "start_time": "2024-11-12T07:46:54.620Z"
   },
   {
    "duration": 21,
    "start_time": "2024-11-12T07:47:05.495Z"
   },
   {
    "duration": 31,
    "start_time": "2024-11-12T07:47:09.586Z"
   },
   {
    "duration": 21,
    "start_time": "2024-11-12T07:47:29.373Z"
   },
   {
    "duration": 22,
    "start_time": "2024-11-12T07:48:09.690Z"
   },
   {
    "duration": 34,
    "start_time": "2024-11-12T07:48:37.277Z"
   },
   {
    "duration": 35,
    "start_time": "2024-11-12T07:48:56.448Z"
   },
   {
    "duration": 31,
    "start_time": "2024-11-12T07:49:29.645Z"
   },
   {
    "duration": 22,
    "start_time": "2024-11-12T07:49:39.037Z"
   },
   {
    "duration": 4,
    "start_time": "2024-11-12T07:50:01.868Z"
   },
   {
    "duration": 25,
    "start_time": "2024-11-12T07:50:02.185Z"
   },
   {
    "duration": 11,
    "start_time": "2024-11-12T07:50:41.224Z"
   },
   {
    "duration": 13,
    "start_time": "2024-11-12T07:50:48.906Z"
   },
   {
    "duration": 12,
    "start_time": "2024-11-12T07:50:55.807Z"
   },
   {
    "duration": 10,
    "start_time": "2024-11-12T07:51:06.240Z"
   },
   {
    "duration": 10,
    "start_time": "2024-11-12T07:51:26.117Z"
   },
   {
    "duration": 11,
    "start_time": "2024-11-12T07:51:36.191Z"
   },
   {
    "duration": 11,
    "start_time": "2024-11-12T07:51:42.493Z"
   },
   {
    "duration": 10,
    "start_time": "2024-11-12T07:51:46.431Z"
   },
   {
    "duration": 21,
    "start_time": "2024-11-12T07:52:16.237Z"
   },
   {
    "duration": 3,
    "start_time": "2024-11-12T07:52:19.439Z"
   },
   {
    "duration": 20,
    "start_time": "2024-11-12T07:52:19.691Z"
   },
   {
    "duration": 4,
    "start_time": "2024-11-12T07:55:43.350Z"
   },
   {
    "duration": 13,
    "start_time": "2024-11-12T07:55:43.773Z"
   },
   {
    "duration": 41,
    "start_time": "2024-11-12T07:56:15.809Z"
   },
   {
    "duration": 3,
    "start_time": "2024-11-12T07:56:29.253Z"
   },
   {
    "duration": 24,
    "start_time": "2024-11-12T07:56:29.591Z"
   },
   {
    "duration": 11,
    "start_time": "2024-11-12T07:56:44.626Z"
   },
   {
    "duration": 10,
    "start_time": "2024-11-12T07:56:54.686Z"
   },
   {
    "duration": 12,
    "start_time": "2024-11-12T07:57:04.620Z"
   },
   {
    "duration": 12,
    "start_time": "2024-11-12T07:57:07.114Z"
   },
   {
    "duration": 20,
    "start_time": "2024-11-12T07:57:16.183Z"
   },
   {
    "duration": 18,
    "start_time": "2024-11-12T07:57:20.245Z"
   },
   {
    "duration": 289,
    "start_time": "2024-11-12T07:57:22.556Z"
   },
   {
    "duration": 12,
    "start_time": "2024-11-12T07:57:30.365Z"
   },
   {
    "duration": 10,
    "start_time": "2024-11-12T07:57:53.423Z"
   },
   {
    "duration": 1198,
    "start_time": "2024-11-12T07:58:02.579Z"
   },
   {
    "duration": 1094,
    "start_time": "2024-11-12T07:58:07.566Z"
   },
   {
    "duration": 22,
    "start_time": "2024-11-12T07:58:11.530Z"
   },
   {
    "duration": 15,
    "start_time": "2024-11-12T07:59:10.467Z"
   },
   {
    "duration": 17,
    "start_time": "2024-11-12T07:59:15.614Z"
   },
   {
    "duration": 18,
    "start_time": "2024-11-12T07:59:21.500Z"
   },
   {
    "duration": 16,
    "start_time": "2024-11-12T07:59:26.424Z"
   },
   {
    "duration": 17,
    "start_time": "2024-11-12T07:59:30.385Z"
   },
   {
    "duration": 18,
    "start_time": "2024-11-12T07:59:39.595Z"
   },
   {
    "duration": 4,
    "start_time": "2024-11-12T08:00:47.526Z"
   },
   {
    "duration": 8,
    "start_time": "2024-11-12T08:02:32.424Z"
   },
   {
    "duration": 8,
    "start_time": "2024-11-12T08:02:46.755Z"
   },
   {
    "duration": 20,
    "start_time": "2024-11-12T08:04:34.082Z"
   },
   {
    "duration": 30,
    "start_time": "2024-11-12T08:04:43.663Z"
   },
   {
    "duration": 29,
    "start_time": "2024-11-12T08:04:47.789Z"
   },
   {
    "duration": 23,
    "start_time": "2024-11-12T08:04:54.013Z"
   },
   {
    "duration": 93,
    "start_time": "2024-11-12T08:05:05.179Z"
   },
   {
    "duration": 64,
    "start_time": "2024-11-12T08:05:08.569Z"
   },
   {
    "duration": 30,
    "start_time": "2024-11-12T08:05:18.132Z"
   },
   {
    "duration": 28,
    "start_time": "2024-11-12T08:05:43.600Z"
   },
   {
    "duration": 29,
    "start_time": "2024-11-12T08:05:49.196Z"
   },
   {
    "duration": 3,
    "start_time": "2024-11-12T08:12:19.612Z"
   },
   {
    "duration": 47,
    "start_time": "2024-11-12T08:12:20.310Z"
   },
   {
    "duration": 15,
    "start_time": "2024-11-12T08:13:26.648Z"
   },
   {
    "duration": 13,
    "start_time": "2024-11-12T08:13:47.471Z"
   },
   {
    "duration": 14,
    "start_time": "2024-11-12T08:13:54.713Z"
   },
   {
    "duration": 41,
    "start_time": "2024-11-12T08:14:00.593Z"
   },
   {
    "duration": 36,
    "start_time": "2024-11-12T08:14:18.564Z"
   },
   {
    "duration": 6,
    "start_time": "2024-11-12T08:14:40.427Z"
   },
   {
    "duration": 11,
    "start_time": "2024-11-12T08:14:47.977Z"
   },
   {
    "duration": 982,
    "start_time": "2024-11-12T08:14:54.283Z"
   },
   {
    "duration": 13,
    "start_time": "2024-11-12T08:15:18.958Z"
   },
   {
    "duration": 4,
    "start_time": "2024-11-12T08:15:44.621Z"
   },
   {
    "duration": 29,
    "start_time": "2024-11-12T08:15:56.490Z"
   },
   {
    "duration": 55,
    "start_time": "2024-11-12T08:16:09.368Z"
   },
   {
    "duration": 1050,
    "start_time": "2024-11-12T08:16:27.522Z"
   },
   {
    "duration": 19,
    "start_time": "2024-11-12T08:16:38.978Z"
   },
   {
    "duration": 1548,
    "start_time": "2024-11-12T08:17:19.460Z"
   },
   {
    "duration": 23,
    "start_time": "2024-11-12T08:17:59.747Z"
   },
   {
    "duration": 10,
    "start_time": "2024-11-12T08:18:07.795Z"
   },
   {
    "duration": 18,
    "start_time": "2024-11-12T08:18:12.924Z"
   },
   {
    "duration": 554,
    "start_time": "2024-11-12T08:19:41.547Z"
   },
   {
    "duration": 537,
    "start_time": "2024-11-12T08:19:47.767Z"
   },
   {
    "duration": 12,
    "start_time": "2024-11-12T08:20:52.984Z"
   },
   {
    "duration": 10,
    "start_time": "2024-11-12T08:21:15.396Z"
   },
   {
    "duration": 113,
    "start_time": "2024-11-12T08:21:38.511Z"
   },
   {
    "duration": 22,
    "start_time": "2024-11-12T08:21:38.903Z"
   },
   {
    "duration": 23,
    "start_time": "2024-11-12T08:21:39.304Z"
   },
   {
    "duration": 4,
    "start_time": "2024-11-12T08:21:42.237Z"
   },
   {
    "duration": 6,
    "start_time": "2024-11-12T08:21:42.783Z"
   },
   {
    "duration": 8,
    "start_time": "2024-11-12T08:21:47.188Z"
   },
   {
    "duration": 12,
    "start_time": "2024-11-12T08:22:03.278Z"
   },
   {
    "duration": 8,
    "start_time": "2024-11-12T08:22:10.174Z"
   },
   {
    "duration": 9,
    "start_time": "2024-11-12T08:22:16.008Z"
   },
   {
    "duration": 9,
    "start_time": "2024-11-12T08:22:18.958Z"
   },
   {
    "duration": 26,
    "start_time": "2024-11-12T08:23:35.669Z"
   },
   {
    "duration": 11,
    "start_time": "2024-11-12T08:24:15.296Z"
   },
   {
    "duration": 5,
    "start_time": "2024-11-12T08:25:43.815Z"
   },
   {
    "duration": 107,
    "start_time": "2024-11-12T08:25:45.016Z"
   },
   {
    "duration": 37,
    "start_time": "2024-11-12T08:25:45.893Z"
   },
   {
    "duration": 29,
    "start_time": "2024-11-12T08:25:47.296Z"
   },
   {
    "duration": 12,
    "start_time": "2024-11-12T08:26:03.700Z"
   },
   {
    "duration": 23,
    "start_time": "2024-11-12T08:27:05.682Z"
   },
   {
    "duration": 12,
    "start_time": "2024-11-12T08:27:17.838Z"
   },
   {
    "duration": 13,
    "start_time": "2024-11-12T08:27:25.204Z"
   },
   {
    "duration": 26,
    "start_time": "2024-11-12T08:27:44.179Z"
   },
   {
    "duration": 25,
    "start_time": "2024-11-12T08:27:57.371Z"
   },
   {
    "duration": 21,
    "start_time": "2024-11-12T08:28:02.337Z"
   },
   {
    "duration": 19,
    "start_time": "2024-11-12T08:30:11.608Z"
   },
   {
    "duration": 19,
    "start_time": "2024-11-12T08:30:21.948Z"
   },
   {
    "duration": 27,
    "start_time": "2024-11-12T08:30:26.266Z"
   },
   {
    "duration": 31,
    "start_time": "2024-11-12T08:31:03.882Z"
   },
   {
    "duration": 30,
    "start_time": "2024-11-12T08:31:09.869Z"
   },
   {
    "duration": 38,
    "start_time": "2024-11-12T08:31:20.246Z"
   },
   {
    "duration": 31,
    "start_time": "2024-11-12T08:31:28.940Z"
   },
   {
    "duration": 1097,
    "start_time": "2024-11-12T08:35:00.976Z"
   },
   {
    "duration": 16,
    "start_time": "2024-11-12T08:35:08.151Z"
   },
   {
    "duration": 18,
    "start_time": "2024-11-12T08:35:30.359Z"
   },
   {
    "duration": 22,
    "start_time": "2024-11-12T08:36:10.799Z"
   },
   {
    "duration": 15,
    "start_time": "2024-11-12T08:36:28.014Z"
   },
   {
    "duration": 23,
    "start_time": "2024-11-12T08:36:47.290Z"
   },
   {
    "duration": 21,
    "start_time": "2024-11-12T08:37:12.598Z"
   },
   {
    "duration": 24,
    "start_time": "2024-11-12T08:37:32.057Z"
   },
   {
    "duration": 5,
    "start_time": "2024-11-12T08:38:32.880Z"
   },
   {
    "duration": 27,
    "start_time": "2024-11-12T08:38:33.426Z"
   },
   {
    "duration": 5,
    "start_time": "2024-11-12T08:39:38.864Z"
   },
   {
    "duration": 32,
    "start_time": "2024-11-12T08:39:39.397Z"
   },
   {
    "duration": 7,
    "start_time": "2024-11-12T08:39:57.200Z"
   },
   {
    "duration": 5,
    "start_time": "2024-11-12T08:41:15.793Z"
   },
   {
    "duration": 12,
    "start_time": "2024-11-12T08:41:18.962Z"
   },
   {
    "duration": 4,
    "start_time": "2024-11-12T08:42:06.495Z"
   },
   {
    "duration": 14,
    "start_time": "2024-11-12T08:42:07.177Z"
   },
   {
    "duration": 21,
    "start_time": "2024-11-12T08:42:08.055Z"
   },
   {
    "duration": 4,
    "start_time": "2024-11-12T08:42:31.259Z"
   },
   {
    "duration": 22,
    "start_time": "2024-11-12T08:42:31.660Z"
   },
   {
    "duration": 6,
    "start_time": "2024-11-12T08:42:49.552Z"
   },
   {
    "duration": 24,
    "start_time": "2024-11-12T08:42:50.012Z"
   },
   {
    "duration": 6,
    "start_time": "2024-11-12T08:42:55.560Z"
   },
   {
    "duration": 37,
    "start_time": "2024-11-12T08:42:56.529Z"
   },
   {
    "duration": 4,
    "start_time": "2024-11-12T08:43:12.072Z"
   },
   {
    "duration": 36,
    "start_time": "2024-11-12T08:43:12.558Z"
   },
   {
    "duration": 4,
    "start_time": "2024-11-12T08:44:35.273Z"
   },
   {
    "duration": 30,
    "start_time": "2024-11-12T08:44:35.774Z"
   },
   {
    "duration": 6,
    "start_time": "2024-11-12T08:45:12.042Z"
   },
   {
    "duration": 30,
    "start_time": "2024-11-12T08:45:12.345Z"
   },
   {
    "duration": 4,
    "start_time": "2024-11-12T08:45:33.969Z"
   },
   {
    "duration": 23,
    "start_time": "2024-11-12T08:45:34.340Z"
   },
   {
    "duration": 5,
    "start_time": "2024-11-12T08:45:43.977Z"
   },
   {
    "duration": 1133,
    "start_time": "2024-11-12T08:45:44.278Z"
   },
   {
    "duration": 3,
    "start_time": "2024-11-12T08:45:50.745Z"
   },
   {
    "duration": 26,
    "start_time": "2024-11-12T08:45:51.041Z"
   },
   {
    "duration": 4,
    "start_time": "2024-11-12T08:46:21.534Z"
   },
   {
    "duration": 43,
    "start_time": "2024-11-12T08:46:21.842Z"
   },
   {
    "duration": 4,
    "start_time": "2024-11-12T08:46:37.681Z"
   },
   {
    "duration": 32,
    "start_time": "2024-11-12T08:46:37.989Z"
   },
   {
    "duration": 6,
    "start_time": "2024-11-12T08:46:49.786Z"
   },
   {
    "duration": 32,
    "start_time": "2024-11-12T08:46:50.047Z"
   },
   {
    "duration": 19,
    "start_time": "2024-11-12T08:46:52.676Z"
   },
   {
    "duration": 17,
    "start_time": "2024-11-12T08:47:45.887Z"
   },
   {
    "duration": 15,
    "start_time": "2024-11-12T08:48:07.600Z"
   },
   {
    "duration": 5,
    "start_time": "2024-11-12T08:54:18.591Z"
   },
   {
    "duration": 26,
    "start_time": "2024-11-12T08:54:18.928Z"
   },
   {
    "duration": 33,
    "start_time": "2024-11-12T08:54:19.513Z"
   },
   {
    "duration": 28,
    "start_time": "2024-11-12T08:54:26.516Z"
   },
   {
    "duration": 14,
    "start_time": "2024-11-12T08:54:41.276Z"
   },
   {
    "duration": 11,
    "start_time": "2024-11-12T08:54:50.211Z"
   },
   {
    "duration": 65,
    "start_time": "2024-11-12T08:55:45.948Z"
   },
   {
    "duration": 107,
    "start_time": "2024-11-12T08:55:52.816Z"
   },
   {
    "duration": 25,
    "start_time": "2024-11-12T08:56:17.028Z"
   },
   {
    "duration": 8,
    "start_time": "2024-11-12T08:56:17.856Z"
   },
   {
    "duration": 5,
    "start_time": "2024-11-12T08:56:46.354Z"
   },
   {
    "duration": 108,
    "start_time": "2024-11-12T08:57:06.316Z"
   },
   {
    "duration": 4,
    "start_time": "2024-11-12T08:57:49.975Z"
   },
   {
    "duration": 10,
    "start_time": "2024-11-12T08:57:56.541Z"
   },
   {
    "duration": 73,
    "start_time": "2024-11-12T08:58:15.350Z"
   },
   {
    "duration": 8,
    "start_time": "2024-11-12T08:58:29.212Z"
   },
   {
    "duration": 32,
    "start_time": "2024-11-12T08:58:33.590Z"
   },
   {
    "duration": 10,
    "start_time": "2024-11-12T08:58:40.526Z"
   },
   {
    "duration": 16,
    "start_time": "2024-11-12T09:00:02.460Z"
   },
   {
    "duration": 3568,
    "start_time": "2024-11-12T09:00:06.291Z"
   },
   {
    "duration": 290,
    "start_time": "2024-11-12T09:00:09.861Z"
   },
   {
    "duration": 5,
    "start_time": "2024-11-12T09:01:00.237Z"
   },
   {
    "duration": 6,
    "start_time": "2024-11-12T09:01:15.841Z"
   },
   {
    "duration": 3192,
    "start_time": "2024-11-12T09:13:59.323Z"
   },
   {
    "duration": 3323,
    "start_time": "2024-11-12T09:14:55.907Z"
   },
   {
    "duration": 7,
    "start_time": "2024-11-12T09:15:00.376Z"
   },
   {
    "duration": 35,
    "start_time": "2024-11-12T09:18:22.316Z"
   },
   {
    "duration": 3152,
    "start_time": "2024-11-12T09:18:43.291Z"
   },
   {
    "duration": 6,
    "start_time": "2024-11-12T09:18:46.445Z"
   },
   {
    "duration": 5,
    "start_time": "2024-11-12T09:18:54.578Z"
   },
   {
    "duration": 82,
    "start_time": "2024-11-12T09:20:51.375Z"
   },
   {
    "duration": 5,
    "start_time": "2024-11-12T09:21:04.067Z"
   },
   {
    "duration": 5,
    "start_time": "2024-11-12T09:21:05.299Z"
   },
   {
    "duration": 16,
    "start_time": "2024-11-12T09:21:31.252Z"
   },
   {
    "duration": 4,
    "start_time": "2024-11-12T09:22:05.063Z"
   },
   {
    "duration": 17,
    "start_time": "2024-11-12T09:22:05.439Z"
   },
   {
    "duration": 5,
    "start_time": "2024-11-12T09:22:20.807Z"
   },
   {
    "duration": 5,
    "start_time": "2024-11-12T09:23:11.937Z"
   },
   {
    "duration": 23,
    "start_time": "2024-11-12T09:23:32.248Z"
   },
   {
    "duration": 4,
    "start_time": "2024-11-12T09:23:43.094Z"
   },
   {
    "duration": 3517,
    "start_time": "2024-11-12T09:23:51.596Z"
   },
   {
    "duration": 3519,
    "start_time": "2024-11-12T09:24:48.127Z"
   },
   {
    "duration": 1775,
    "start_time": "2024-11-12T09:25:08.312Z"
   },
   {
    "duration": 5,
    "start_time": "2024-11-12T09:25:10.089Z"
   },
   {
    "duration": 879,
    "start_time": "2024-11-12T09:25:10.095Z"
   },
   {
    "duration": 49,
    "start_time": "2024-11-12T09:25:10.976Z"
   },
   {
    "duration": 26,
    "start_time": "2024-11-12T09:25:11.027Z"
   },
   {
    "duration": 286,
    "start_time": "2024-11-12T09:25:11.055Z"
   },
   {
    "duration": 91,
    "start_time": "2024-11-12T09:25:11.343Z"
   },
   {
    "duration": 62,
    "start_time": "2024-11-12T09:25:11.436Z"
   },
   {
    "duration": 146,
    "start_time": "2024-11-12T09:25:11.500Z"
   },
   {
    "duration": 2264,
    "start_time": "2024-11-12T09:25:11.649Z"
   },
   {
    "duration": 1850,
    "start_time": "2024-11-12T09:25:13.914Z"
   },
   {
    "duration": 56,
    "start_time": "2024-11-12T09:25:15.767Z"
   },
   {
    "duration": 57,
    "start_time": "2024-11-12T09:25:15.825Z"
   },
   {
    "duration": 91,
    "start_time": "2024-11-12T09:25:15.885Z"
   },
   {
    "duration": 4,
    "start_time": "2024-11-12T09:25:15.978Z"
   },
   {
    "duration": 65,
    "start_time": "2024-11-12T09:25:15.984Z"
   },
   {
    "duration": 4,
    "start_time": "2024-11-12T09:25:16.051Z"
   },
   {
    "duration": 79,
    "start_time": "2024-11-12T09:25:16.057Z"
   },
   {
    "duration": 197,
    "start_time": "2024-11-12T09:25:16.138Z"
   },
   {
    "duration": 119,
    "start_time": "2024-11-12T09:25:16.420Z"
   },
   {
    "duration": 3,
    "start_time": "2024-11-12T09:25:16.622Z"
   },
   {
    "duration": 97,
    "start_time": "2024-11-12T09:25:16.628Z"
   },
   {
    "duration": 10,
    "start_time": "2024-11-12T09:25:16.727Z"
   },
   {
    "duration": 73,
    "start_time": "2024-11-12T09:25:16.739Z"
   },
   {
    "duration": 4,
    "start_time": "2024-11-12T09:25:16.814Z"
   },
   {
    "duration": 4290,
    "start_time": "2024-11-12T09:25:16.820Z"
   },
   {
    "duration": 135,
    "start_time": "2024-11-12T09:25:21.111Z"
   },
   {
    "duration": 7,
    "start_time": "2024-11-12T09:26:52.731Z"
   },
   {
    "duration": 3472,
    "start_time": "2024-11-12T09:26:52.955Z"
   },
   {
    "duration": 4,
    "start_time": "2024-11-12T09:30:16.472Z"
   },
   {
    "duration": 3457,
    "start_time": "2024-11-12T09:30:19.890Z"
   },
   {
    "duration": 3434,
    "start_time": "2024-11-12T09:32:18.664Z"
   },
   {
    "duration": 4,
    "start_time": "2024-11-12T09:32:26.025Z"
   },
   {
    "duration": 3435,
    "start_time": "2024-11-12T09:32:27.361Z"
   },
   {
    "duration": 3392,
    "start_time": "2024-11-12T09:32:38.199Z"
   },
   {
    "duration": 3634,
    "start_time": "2024-11-12T09:33:04.989Z"
   },
   {
    "duration": 4,
    "start_time": "2024-11-12T09:33:11.176Z"
   },
   {
    "duration": 3563,
    "start_time": "2024-11-12T09:33:11.468Z"
   },
   {
    "duration": 6,
    "start_time": "2024-11-12T09:33:23.112Z"
   },
   {
    "duration": 8,
    "start_time": "2024-11-12T09:33:32.544Z"
   },
   {
    "duration": 6,
    "start_time": "2024-11-12T09:33:41.734Z"
   },
   {
    "duration": 5,
    "start_time": "2024-11-12T09:33:44.717Z"
   },
   {
    "duration": 5,
    "start_time": "2024-11-12T09:33:51.754Z"
   },
   {
    "duration": 4,
    "start_time": "2024-11-12T09:34:44.385Z"
   },
   {
    "duration": 32,
    "start_time": "2024-11-12T09:34:46.246Z"
   },
   {
    "duration": 5,
    "start_time": "2024-11-12T09:35:13.113Z"
   },
   {
    "duration": 3479,
    "start_time": "2024-11-12T09:35:15.186Z"
   },
   {
    "duration": 4,
    "start_time": "2024-11-12T09:35:18.667Z"
   },
   {
    "duration": 5,
    "start_time": "2024-11-12T09:35:53.393Z"
   },
   {
    "duration": 3532,
    "start_time": "2024-11-12T09:35:53.763Z"
   },
   {
    "duration": 5,
    "start_time": "2024-11-12T09:36:05.546Z"
   },
   {
    "duration": 3542,
    "start_time": "2024-11-12T09:36:14.314Z"
   },
   {
    "duration": 4,
    "start_time": "2024-11-12T09:36:21.570Z"
   },
   {
    "duration": 3779,
    "start_time": "2024-11-12T09:37:04.992Z"
   },
   {
    "duration": 3693,
    "start_time": "2024-11-12T09:37:13.579Z"
   },
   {
    "duration": 3552,
    "start_time": "2024-11-12T09:43:18.858Z"
   },
   {
    "duration": 5,
    "start_time": "2024-11-12T09:43:23.980Z"
   },
   {
    "duration": 3584,
    "start_time": "2024-11-12T09:43:25.021Z"
   },
   {
    "duration": 6,
    "start_time": "2024-11-12T09:43:38.121Z"
   },
   {
    "duration": 3426,
    "start_time": "2024-11-12T09:43:38.832Z"
   },
   {
    "duration": 5,
    "start_time": "2024-11-12T09:44:02.955Z"
   },
   {
    "duration": 3522,
    "start_time": "2024-11-12T09:44:03.259Z"
   },
   {
    "duration": 6,
    "start_time": "2024-11-12T09:45:29.618Z"
   },
   {
    "duration": 111,
    "start_time": "2024-11-12T09:45:30.013Z"
   },
   {
    "duration": 22,
    "start_time": "2024-11-12T09:45:31.721Z"
   },
   {
    "duration": 22,
    "start_time": "2024-11-12T09:45:32.545Z"
   },
   {
    "duration": 3,
    "start_time": "2024-11-12T09:45:41.964Z"
   },
   {
    "duration": 7,
    "start_time": "2024-11-12T09:45:42.327Z"
   },
   {
    "duration": 5,
    "start_time": "2024-11-12T09:45:48.615Z"
   },
   {
    "duration": 33,
    "start_time": "2024-11-12T09:45:51.509Z"
   },
   {
    "duration": 5,
    "start_time": "2024-11-12T09:46:01.900Z"
   },
   {
    "duration": 3558,
    "start_time": "2024-11-12T09:46:04.552Z"
   },
   {
    "duration": 5,
    "start_time": "2024-11-12T09:46:26.178Z"
   },
   {
    "duration": 3566,
    "start_time": "2024-11-12T09:46:26.857Z"
   },
   {
    "duration": 5,
    "start_time": "2024-11-12T09:47:01.360Z"
   },
   {
    "duration": 3614,
    "start_time": "2024-11-12T09:47:01.769Z"
   },
   {
    "duration": 13,
    "start_time": "2024-11-12T09:47:39.445Z"
   },
   {
    "duration": 3397,
    "start_time": "2024-11-12T09:47:39.761Z"
   },
   {
    "duration": 5,
    "start_time": "2024-11-12T09:47:59.846Z"
   },
   {
    "duration": 3475,
    "start_time": "2024-11-12T09:48:00.514Z"
   },
   {
    "duration": 3551,
    "start_time": "2024-11-12T09:48:19.758Z"
   },
   {
    "duration": 3529,
    "start_time": "2024-11-12T09:48:28.961Z"
   },
   {
    "duration": 3442,
    "start_time": "2024-11-12T09:48:46.243Z"
   },
   {
    "duration": 3396,
    "start_time": "2024-11-12T09:48:49.687Z"
   },
   {
    "duration": 6,
    "start_time": "2024-11-12T09:49:25.998Z"
   },
   {
    "duration": 3513,
    "start_time": "2024-11-12T09:49:26.321Z"
   },
   {
    "duration": 3626,
    "start_time": "2024-11-12T09:49:29.836Z"
   },
   {
    "duration": 3566,
    "start_time": "2024-11-12T09:49:33.464Z"
   },
   {
    "duration": 6,
    "start_time": "2024-11-12T09:50:52.099Z"
   },
   {
    "duration": 1810,
    "start_time": "2024-11-12T09:52:12.302Z"
   },
   {
    "duration": 8,
    "start_time": "2024-11-12T09:52:14.114Z"
   },
   {
    "duration": 933,
    "start_time": "2024-11-12T09:52:14.124Z"
   },
   {
    "duration": 33,
    "start_time": "2024-11-12T09:52:15.060Z"
   },
   {
    "duration": 97,
    "start_time": "2024-11-12T09:52:15.095Z"
   },
   {
    "duration": 262,
    "start_time": "2024-11-12T09:52:15.194Z"
   },
   {
    "duration": 94,
    "start_time": "2024-11-12T09:52:15.457Z"
   },
   {
    "duration": 88,
    "start_time": "2024-11-12T09:52:15.553Z"
   },
   {
    "duration": 136,
    "start_time": "2024-11-12T09:52:15.644Z"
   },
   {
    "duration": 2130,
    "start_time": "2024-11-12T09:52:15.784Z"
   },
   {
    "duration": 1034,
    "start_time": "2024-11-12T09:52:17.920Z"
   },
   {
    "duration": 4,
    "start_time": "2024-11-12T09:52:18.955Z"
   },
   {
    "duration": 11,
    "start_time": "2024-11-12T09:52:18.960Z"
   },
   {
    "duration": 88,
    "start_time": "2024-11-12T09:52:18.972Z"
   },
   {
    "duration": 4,
    "start_time": "2024-11-12T09:52:19.061Z"
   },
   {
    "duration": 57,
    "start_time": "2024-11-12T09:52:19.066Z"
   },
   {
    "duration": 8,
    "start_time": "2024-11-12T09:52:19.125Z"
   },
   {
    "duration": 90,
    "start_time": "2024-11-12T09:52:19.136Z"
   },
   {
    "duration": 111,
    "start_time": "2024-11-12T09:52:19.228Z"
   },
   {
    "duration": 190,
    "start_time": "2024-11-12T09:52:19.341Z"
   },
   {
    "duration": 20,
    "start_time": "2024-11-12T09:52:19.621Z"
   },
   {
    "duration": 14,
    "start_time": "2024-11-12T09:52:19.724Z"
   },
   {
    "duration": 4,
    "start_time": "2024-11-12T09:52:19.739Z"
   },
   {
    "duration": 34,
    "start_time": "2024-11-12T09:52:19.744Z"
   },
   {
    "duration": 5,
    "start_time": "2024-11-12T09:52:19.780Z"
   },
   {
    "duration": 3702,
    "start_time": "2024-11-12T09:52:19.786Z"
   },
   {
    "duration": 3632,
    "start_time": "2024-11-12T09:52:23.490Z"
   },
   {
    "duration": 3577,
    "start_time": "2024-11-12T09:52:27.126Z"
   },
   {
    "duration": 1822,
    "start_time": "2024-11-12T09:53:03.796Z"
   },
   {
    "duration": 5,
    "start_time": "2024-11-12T09:53:06.503Z"
   },
   {
    "duration": 900,
    "start_time": "2024-11-12T09:53:07.468Z"
   },
   {
    "duration": 33,
    "start_time": "2024-11-12T09:53:08.796Z"
   },
   {
    "duration": 28,
    "start_time": "2024-11-12T09:53:43.202Z"
   },
   {
    "duration": 1797,
    "start_time": "2024-11-12T09:54:04.884Z"
   },
   {
    "duration": 5,
    "start_time": "2024-11-12T09:54:06.683Z"
   },
   {
    "duration": 906,
    "start_time": "2024-11-12T09:54:06.790Z"
   },
   {
    "duration": 39,
    "start_time": "2024-11-12T09:54:10.122Z"
   },
   {
    "duration": 23,
    "start_time": "2024-11-12T09:54:16.191Z"
   },
   {
    "duration": 226,
    "start_time": "2024-11-12T09:54:20.853Z"
   },
   {
    "duration": 57,
    "start_time": "2024-11-12T09:54:32.628Z"
   },
   {
    "duration": 117,
    "start_time": "2024-11-12T09:54:43.492Z"
   },
   {
    "duration": 2212,
    "start_time": "2024-11-12T09:55:14.982Z"
   },
   {
    "duration": 1025,
    "start_time": "2024-11-12T09:55:24.968Z"
   },
   {
    "duration": 3,
    "start_time": "2024-11-12T09:55:28.457Z"
   },
   {
    "duration": 5,
    "start_time": "2024-11-12T09:56:34.987Z"
   },
   {
    "duration": 90,
    "start_time": "2024-11-12T09:56:35.750Z"
   },
   {
    "duration": 4,
    "start_time": "2024-11-12T09:57:09.083Z"
   },
   {
    "duration": 46,
    "start_time": "2024-11-12T09:57:09.955Z"
   },
   {
    "duration": 5,
    "start_time": "2024-11-12T09:57:20.695Z"
   },
   {
    "duration": 27,
    "start_time": "2024-11-12T09:57:21.285Z"
   },
   {
    "duration": 22,
    "start_time": "2024-11-12T09:57:23.377Z"
   },
   {
    "duration": 25,
    "start_time": "2024-11-12T09:57:25.091Z"
   },
   {
    "duration": 3,
    "start_time": "2024-11-12T09:57:28.409Z"
   },
   {
    "duration": 7,
    "start_time": "2024-11-12T09:58:54.553Z"
   },
   {
    "duration": 4,
    "start_time": "2024-11-12T09:58:57.272Z"
   },
   {
    "duration": 45,
    "start_time": "2024-11-12T09:59:05.539Z"
   },
   {
    "duration": 42,
    "start_time": "2024-11-12T10:00:01.071Z"
   },
   {
    "duration": 40,
    "start_time": "2024-11-12T10:00:28.116Z"
   },
   {
    "duration": 31,
    "start_time": "2024-11-12T10:00:45.280Z"
   },
   {
    "duration": 5,
    "start_time": "2024-11-12T10:00:55.507Z"
   },
   {
    "duration": 5938,
    "start_time": "2024-11-12T10:00:56.305Z"
   },
   {
    "duration": 6065,
    "start_time": "2024-11-12T10:01:43.072Z"
   },
   {
    "duration": 12044,
    "start_time": "2024-11-12T10:02:41.846Z"
   },
   {
    "duration": 1674,
    "start_time": "2024-11-12T10:03:25.774Z"
   },
   {
    "duration": 5,
    "start_time": "2024-11-12T10:03:27.450Z"
   },
   {
    "duration": 872,
    "start_time": "2024-11-12T10:03:27.457Z"
   },
   {
    "duration": 30,
    "start_time": "2024-11-12T10:03:28.331Z"
   },
   {
    "duration": 24,
    "start_time": "2024-11-12T10:03:28.363Z"
   },
   {
    "duration": 263,
    "start_time": "2024-11-12T10:03:28.389Z"
   },
   {
    "duration": 82,
    "start_time": "2024-11-12T10:03:28.654Z"
   },
   {
    "duration": 62,
    "start_time": "2024-11-12T10:03:28.738Z"
   },
   {
    "duration": 135,
    "start_time": "2024-11-12T10:03:28.801Z"
   },
   {
    "duration": 2071,
    "start_time": "2024-11-12T10:03:28.939Z"
   },
   {
    "duration": 1011,
    "start_time": "2024-11-12T10:03:31.012Z"
   },
   {
    "duration": 3,
    "start_time": "2024-11-12T10:03:32.026Z"
   },
   {
    "duration": 23,
    "start_time": "2024-11-12T10:03:32.030Z"
   },
   {
    "duration": 84,
    "start_time": "2024-11-12T10:03:32.055Z"
   },
   {
    "duration": 5,
    "start_time": "2024-11-12T10:03:32.140Z"
   },
   {
    "duration": 64,
    "start_time": "2024-11-12T10:03:32.146Z"
   },
   {
    "duration": 4,
    "start_time": "2024-11-12T10:03:32.212Z"
   },
   {
    "duration": 152,
    "start_time": "2024-11-12T10:03:32.218Z"
   },
   {
    "duration": 160,
    "start_time": "2024-11-12T10:03:32.372Z"
   },
   {
    "duration": 201,
    "start_time": "2024-11-12T10:03:32.534Z"
   },
   {
    "duration": 88,
    "start_time": "2024-11-12T10:03:32.736Z"
   },
   {
    "duration": 98,
    "start_time": "2024-11-12T10:03:32.827Z"
   },
   {
    "duration": 13,
    "start_time": "2024-11-12T10:03:32.926Z"
   },
   {
    "duration": 50,
    "start_time": "2024-11-12T10:03:32.940Z"
   },
   {
    "duration": 5,
    "start_time": "2024-11-12T10:03:32.992Z"
   },
   {
    "duration": 10060,
    "start_time": "2024-11-12T10:03:32.999Z"
   },
   {
    "duration": 23,
    "start_time": "2024-11-12T10:04:28.259Z"
   },
   {
    "duration": 24,
    "start_time": "2024-11-12T10:04:37.506Z"
   },
   {
    "duration": 24,
    "start_time": "2024-11-12T10:05:01.515Z"
   },
   {
    "duration": 130,
    "start_time": "2024-11-12T10:05:13.843Z"
   },
   {
    "duration": 5,
    "start_time": "2024-11-12T10:05:26.117Z"
   },
   {
    "duration": 107,
    "start_time": "2024-11-12T10:05:38.551Z"
   },
   {
    "duration": 308,
    "start_time": "2024-11-12T10:06:58.832Z"
   },
   {
    "duration": 6,
    "start_time": "2024-11-12T10:08:31.241Z"
   },
   {
    "duration": 8,
    "start_time": "2024-11-12T10:08:40.108Z"
   },
   {
    "duration": 1723,
    "start_time": "2024-11-12T10:09:03.130Z"
   },
   {
    "duration": 5,
    "start_time": "2024-11-12T10:09:04.855Z"
   },
   {
    "duration": 871,
    "start_time": "2024-11-12T10:09:05.043Z"
   },
   {
    "duration": 42,
    "start_time": "2024-11-12T10:09:06.215Z"
   },
   {
    "duration": 27,
    "start_time": "2024-11-12T10:09:07.664Z"
   },
   {
    "duration": 226,
    "start_time": "2024-11-12T10:09:27.213Z"
   },
   {
    "duration": 71,
    "start_time": "2024-11-12T10:09:28.591Z"
   },
   {
    "duration": 62,
    "start_time": "2024-11-12T10:09:29.075Z"
   },
   {
    "duration": 112,
    "start_time": "2024-11-12T10:09:32.141Z"
   },
   {
    "duration": 2112,
    "start_time": "2024-11-12T10:09:34.044Z"
   },
   {
    "duration": 1006,
    "start_time": "2024-11-12T10:09:36.158Z"
   },
   {
    "duration": 4,
    "start_time": "2024-11-12T10:09:41.984Z"
   },
   {
    "duration": 5,
    "start_time": "2024-11-12T10:09:42.722Z"
   },
   {
    "duration": 77,
    "start_time": "2024-11-12T10:09:47.134Z"
   },
   {
    "duration": 73,
    "start_time": "2024-11-12T10:10:51.523Z"
   },
   {
    "duration": 3,
    "start_time": "2024-11-12T10:11:18.239Z"
   },
   {
    "duration": 67,
    "start_time": "2024-11-12T10:11:18.615Z"
   },
   {
    "duration": 4,
    "start_time": "2024-11-12T10:11:23.509Z"
   },
   {
    "duration": 78,
    "start_time": "2024-11-12T10:11:23.898Z"
   },
   {
    "duration": 4,
    "start_time": "2024-11-12T10:11:32.311Z"
   },
   {
    "duration": 45,
    "start_time": "2024-11-12T10:11:34.794Z"
   },
   {
    "duration": 4,
    "start_time": "2024-11-12T10:11:40.314Z"
   },
   {
    "duration": 353,
    "start_time": "2024-11-12T10:11:47.969Z"
   },
   {
    "duration": 3,
    "start_time": "2024-11-12T10:11:55.778Z"
   },
   {
    "duration": 6,
    "start_time": "2024-11-12T10:11:56.389Z"
   },
   {
    "duration": 7,
    "start_time": "2024-11-12T10:12:54.437Z"
   },
   {
    "duration": 7,
    "start_time": "2024-11-12T10:13:27.575Z"
   },
   {
    "duration": 7,
    "start_time": "2024-11-12T10:13:39.126Z"
   },
   {
    "duration": 6,
    "start_time": "2024-11-12T10:14:14.836Z"
   },
   {
    "duration": 7,
    "start_time": "2024-11-12T10:14:31.971Z"
   },
   {
    "duration": 5,
    "start_time": "2024-11-12T10:15:54.880Z"
   },
   {
    "duration": 94,
    "start_time": "2024-11-12T10:16:14.529Z"
   },
   {
    "duration": 5,
    "start_time": "2024-11-12T10:16:17.048Z"
   },
   {
    "duration": 5,
    "start_time": "2024-11-12T10:16:33.181Z"
   },
   {
    "duration": 5,
    "start_time": "2024-11-12T10:16:39.840Z"
   },
   {
    "duration": 5,
    "start_time": "2024-11-12T10:16:49.130Z"
   },
   {
    "duration": 5,
    "start_time": "2024-11-12T10:16:54.193Z"
   },
   {
    "duration": 5,
    "start_time": "2024-11-12T10:16:58.047Z"
   },
   {
    "duration": 5,
    "start_time": "2024-11-12T10:17:10.779Z"
   },
   {
    "duration": 5,
    "start_time": "2024-11-12T10:17:15.987Z"
   },
   {
    "duration": 24,
    "start_time": "2024-11-12T10:17:40.959Z"
   },
   {
    "duration": 32,
    "start_time": "2024-11-12T10:17:48.475Z"
   },
   {
    "duration": 23,
    "start_time": "2024-11-12T10:17:49.226Z"
   },
   {
    "duration": 22,
    "start_time": "2024-11-12T10:17:58.771Z"
   },
   {
    "duration": 7,
    "start_time": "2024-11-12T10:19:24.325Z"
   },
   {
    "duration": 7,
    "start_time": "2024-11-12T10:19:28.752Z"
   },
   {
    "duration": 111,
    "start_time": "2024-11-12T10:20:48.133Z"
   },
   {
    "duration": 4,
    "start_time": "2024-11-12T10:20:53.396Z"
   },
   {
    "duration": 32,
    "start_time": "2024-11-12T10:20:53.723Z"
   },
   {
    "duration": 33,
    "start_time": "2024-11-12T10:21:00.946Z"
   },
   {
    "duration": 33,
    "start_time": "2024-11-12T10:21:13.560Z"
   },
   {
    "duration": 8,
    "start_time": "2024-11-12T10:21:36.331Z"
   },
   {
    "duration": 10445,
    "start_time": "2024-11-12T10:21:37.076Z"
   },
   {
    "duration": 10379,
    "start_time": "2024-11-12T10:22:39.169Z"
   },
   {
    "duration": 1921,
    "start_time": "2024-11-12T10:23:10.740Z"
   },
   {
    "duration": 5,
    "start_time": "2024-11-12T10:23:12.663Z"
   },
   {
    "duration": 1282,
    "start_time": "2024-11-12T10:23:12.669Z"
   },
   {
    "duration": 83,
    "start_time": "2024-11-12T10:23:13.953Z"
   },
   {
    "duration": 83,
    "start_time": "2024-11-12T10:23:14.038Z"
   },
   {
    "duration": 508,
    "start_time": "2024-11-12T10:23:14.123Z"
   },
   {
    "duration": 124,
    "start_time": "2024-11-12T10:23:14.634Z"
   },
   {
    "duration": 164,
    "start_time": "2024-11-12T10:23:14.760Z"
   },
   {
    "duration": 236,
    "start_time": "2024-11-12T10:23:14.926Z"
   },
   {
    "duration": 2693,
    "start_time": "2024-11-12T10:23:15.165Z"
   },
   {
    "duration": 977,
    "start_time": "2024-11-12T10:23:17.860Z"
   },
   {
    "duration": 2,
    "start_time": "2024-11-12T10:23:18.839Z"
   },
   {
    "duration": 13,
    "start_time": "2024-11-12T10:23:18.843Z"
   },
   {
    "duration": 78,
    "start_time": "2024-11-12T10:23:18.859Z"
   },
   {
    "duration": 4,
    "start_time": "2024-11-12T10:23:18.938Z"
   },
   {
    "duration": 51,
    "start_time": "2024-11-12T10:23:18.944Z"
   },
   {
    "duration": 5,
    "start_time": "2024-11-12T10:23:18.996Z"
   },
   {
    "duration": 408,
    "start_time": "2024-11-12T10:23:19.022Z"
   },
   {
    "duration": 3,
    "start_time": "2024-11-12T10:23:19.522Z"
   },
   {
    "duration": 12,
    "start_time": "2024-11-12T10:23:19.527Z"
   },
   {
    "duration": 6,
    "start_time": "2024-11-12T10:23:19.541Z"
   },
   {
    "duration": 91,
    "start_time": "2024-11-12T10:23:19.549Z"
   },
   {
    "duration": 5,
    "start_time": "2024-11-12T10:23:19.642Z"
   },
   {
    "duration": 10253,
    "start_time": "2024-11-12T10:23:19.649Z"
   },
   {
    "duration": 11,
    "start_time": "2024-11-12T10:24:32.171Z"
   },
   {
    "duration": 52,
    "start_time": "2024-11-12T10:24:35.782Z"
   },
   {
    "duration": 1696,
    "start_time": "2024-11-12T10:24:52.478Z"
   },
   {
    "duration": 6,
    "start_time": "2024-11-12T10:24:54.296Z"
   },
   {
    "duration": 906,
    "start_time": "2024-11-12T10:24:54.747Z"
   },
   {
    "duration": 32,
    "start_time": "2024-11-12T10:24:55.655Z"
   },
   {
    "duration": 27,
    "start_time": "2024-11-12T10:24:57.528Z"
   },
   {
    "duration": 231,
    "start_time": "2024-11-12T10:25:00.632Z"
   },
   {
    "duration": 60,
    "start_time": "2024-11-12T10:25:01.685Z"
   },
   {
    "duration": 74,
    "start_time": "2024-11-12T10:25:04.259Z"
   },
   {
    "duration": 40,
    "start_time": "2024-11-12T10:25:05.626Z"
   },
   {
    "duration": 57,
    "start_time": "2024-11-12T10:25:09.438Z"
   },
   {
    "duration": 126,
    "start_time": "2024-11-12T10:32:08.714Z"
   },
   {
    "duration": 2074,
    "start_time": "2024-11-12T10:32:14.256Z"
   },
   {
    "duration": 966,
    "start_time": "2024-11-12T10:32:16.505Z"
   },
   {
    "duration": 3,
    "start_time": "2024-11-12T10:32:18.849Z"
   },
   {
    "duration": 4,
    "start_time": "2024-11-12T10:33:09.988Z"
   },
   {
    "duration": 76,
    "start_time": "2024-11-12T10:33:10.581Z"
   },
   {
    "duration": 4,
    "start_time": "2024-11-12T10:33:21.958Z"
   },
   {
    "duration": 47,
    "start_time": "2024-11-12T10:33:22.557Z"
   },
   {
    "duration": 5,
    "start_time": "2024-11-12T10:33:30.006Z"
   },
   {
    "duration": 4,
    "start_time": "2024-11-12T10:33:48.591Z"
   },
   {
    "duration": 337,
    "start_time": "2024-11-12T10:34:09.398Z"
   },
   {
    "duration": 2,
    "start_time": "2024-11-12T10:34:14.499Z"
   },
   {
    "duration": 6,
    "start_time": "2024-11-12T10:34:16.105Z"
   },
   {
    "duration": 4,
    "start_time": "2024-11-12T10:34:28.198Z"
   },
   {
    "duration": 31,
    "start_time": "2024-11-12T10:34:28.826Z"
   },
   {
    "duration": 5,
    "start_time": "2024-11-12T10:34:32.484Z"
   },
   {
    "duration": 10398,
    "start_time": "2024-11-12T10:34:33.315Z"
   },
   {
    "duration": 1777,
    "start_time": "2024-11-12T10:54:12.222Z"
   },
   {
    "duration": 6,
    "start_time": "2024-11-12T10:54:17.160Z"
   },
   {
    "duration": 831,
    "start_time": "2024-11-12T10:54:18.208Z"
   },
   {
    "duration": 40,
    "start_time": "2024-11-12T10:54:19.226Z"
   },
   {
    "duration": 25,
    "start_time": "2024-11-12T10:54:21.125Z"
   },
   {
    "duration": 223,
    "start_time": "2024-11-12T10:54:22.764Z"
   },
   {
    "duration": 74,
    "start_time": "2024-11-12T10:54:30.008Z"
   },
   {
    "duration": 72,
    "start_time": "2024-11-12T10:54:30.471Z"
   },
   {
    "duration": 59,
    "start_time": "2024-11-12T10:54:31.388Z"
   },
   {
    "duration": 35,
    "start_time": "2024-11-12T10:54:32.331Z"
   },
   {
    "duration": 138,
    "start_time": "2024-11-12T10:56:55.022Z"
   },
   {
    "duration": 2075,
    "start_time": "2024-11-12T10:57:00.941Z"
   },
   {
    "duration": 1044,
    "start_time": "2024-11-12T10:57:03.018Z"
   },
   {
    "duration": 4,
    "start_time": "2024-11-12T10:57:04.523Z"
   },
   {
    "duration": 4,
    "start_time": "2024-11-12T10:57:05.323Z"
   },
   {
    "duration": 70,
    "start_time": "2024-11-12T10:58:13.669Z"
   },
   {
    "duration": 73,
    "start_time": "2024-11-12T10:58:18.338Z"
   },
   {
    "duration": 4,
    "start_time": "2024-11-12T10:58:22.872Z"
   },
   {
    "duration": 4,
    "start_time": "2024-11-12T10:59:24.309Z"
   },
   {
    "duration": 5,
    "start_time": "2024-11-12T11:02:19.939Z"
   },
   {
    "duration": 66,
    "start_time": "2024-11-12T11:03:01.244Z"
   },
   {
    "duration": 117,
    "start_time": "2024-11-12T11:03:01.585Z"
   },
   {
    "duration": 12,
    "start_time": "2024-11-12T11:03:05.969Z"
   },
   {
    "duration": 4,
    "start_time": "2024-11-12T11:03:39.904Z"
   },
   {
    "duration": 75,
    "start_time": "2024-11-12T11:03:43.816Z"
   },
   {
    "duration": 4,
    "start_time": "2024-11-12T11:03:47.144Z"
   },
   {
    "duration": 1721,
    "start_time": "2024-11-12T11:06:07.358Z"
   },
   {
    "duration": 5,
    "start_time": "2024-11-12T11:06:09.081Z"
   },
   {
    "duration": 854,
    "start_time": "2024-11-12T11:06:09.087Z"
   },
   {
    "duration": 30,
    "start_time": "2024-11-12T11:06:09.944Z"
   },
   {
    "duration": 46,
    "start_time": "2024-11-12T11:06:09.976Z"
   },
   {
    "duration": 237,
    "start_time": "2024-11-12T11:06:10.024Z"
   },
   {
    "duration": 58,
    "start_time": "2024-11-12T11:06:10.262Z"
   },
   {
    "duration": 65,
    "start_time": "2024-11-12T11:06:10.322Z"
   },
   {
    "duration": 61,
    "start_time": "2024-11-12T11:06:10.389Z"
   },
   {
    "duration": 28,
    "start_time": "2024-11-12T11:06:10.452Z"
   },
   {
    "duration": 112,
    "start_time": "2024-11-12T11:06:11.430Z"
   },
   {
    "duration": 2032,
    "start_time": "2024-11-12T11:06:12.257Z"
   },
   {
    "duration": 967,
    "start_time": "2024-11-12T11:06:14.291Z"
   },
   {
    "duration": 3,
    "start_time": "2024-11-12T11:06:15.260Z"
   },
   {
    "duration": 4,
    "start_time": "2024-11-12T11:06:19.256Z"
   },
   {
    "duration": 73,
    "start_time": "2024-11-12T11:06:20.887Z"
   },
   {
    "duration": 4,
    "start_time": "2024-11-12T11:06:36.159Z"
   },
   {
    "duration": 5,
    "start_time": "2024-11-12T11:07:23.434Z"
   },
   {
    "duration": 48,
    "start_time": "2024-11-12T11:07:26.059Z"
   },
   {
    "duration": 350,
    "start_time": "2024-11-12T11:08:49.687Z"
   },
   {
    "duration": 302,
    "start_time": "2024-11-12T11:09:02.836Z"
   },
   {
    "duration": 3,
    "start_time": "2024-11-12T11:09:10.076Z"
   },
   {
    "duration": 7,
    "start_time": "2024-11-12T11:09:13.104Z"
   },
   {
    "duration": 4,
    "start_time": "2024-11-12T11:10:20.314Z"
   },
   {
    "duration": 4,
    "start_time": "2024-11-12T11:10:27.497Z"
   },
   {
    "duration": 3,
    "start_time": "2024-11-12T11:11:04.137Z"
   },
   {
    "duration": 124,
    "start_time": "2024-11-12T11:11:07.274Z"
   },
   {
    "duration": 30,
    "start_time": "2024-11-12T11:11:16.866Z"
   },
   {
    "duration": 4,
    "start_time": "2024-11-12T11:11:21.362Z"
   },
   {
    "duration": 5,
    "start_time": "2024-11-12T11:11:28.968Z"
   },
   {
    "duration": 4,
    "start_time": "2024-11-12T11:11:36.164Z"
   },
   {
    "duration": 6,
    "start_time": "2024-11-12T11:12:07.238Z"
   },
   {
    "duration": 10221,
    "start_time": "2024-11-12T11:12:09.210Z"
   },
   {
    "duration": 1719,
    "start_time": "2024-11-12T11:16:28.578Z"
   },
   {
    "duration": 6,
    "start_time": "2024-11-12T11:16:30.298Z"
   },
   {
    "duration": 875,
    "start_time": "2024-11-12T11:16:30.305Z"
   },
   {
    "duration": 44,
    "start_time": "2024-11-12T11:16:31.183Z"
   },
   {
    "duration": 25,
    "start_time": "2024-11-12T11:16:31.228Z"
   },
   {
    "duration": 294,
    "start_time": "2024-11-12T11:16:31.255Z"
   },
   {
    "duration": 76,
    "start_time": "2024-11-12T11:16:31.551Z"
   },
   {
    "duration": 106,
    "start_time": "2024-11-12T11:16:31.629Z"
   },
   {
    "duration": 63,
    "start_time": "2024-11-12T11:16:31.737Z"
   },
   {
    "duration": 114,
    "start_time": "2024-11-12T11:16:31.803Z"
   },
   {
    "duration": 134,
    "start_time": "2024-11-12T11:16:31.919Z"
   },
   {
    "duration": 2072,
    "start_time": "2024-11-12T11:16:32.055Z"
   },
   {
    "duration": 1081,
    "start_time": "2024-11-12T11:16:34.129Z"
   },
   {
    "duration": 3,
    "start_time": "2024-11-12T11:16:35.213Z"
   },
   {
    "duration": 29,
    "start_time": "2024-11-12T11:16:35.218Z"
   },
   {
    "duration": 112,
    "start_time": "2024-11-12T11:16:35.249Z"
   },
   {
    "duration": 4,
    "start_time": "2024-11-12T11:16:35.364Z"
   },
   {
    "duration": 64,
    "start_time": "2024-11-12T11:16:35.370Z"
   },
   {
    "duration": 5,
    "start_time": "2024-11-12T11:16:35.435Z"
   },
   {
    "duration": 391,
    "start_time": "2024-11-12T11:16:35.442Z"
   },
   {
    "duration": 4,
    "start_time": "2024-11-12T11:16:35.922Z"
   },
   {
    "duration": 97,
    "start_time": "2024-11-12T11:16:35.928Z"
   },
   {
    "duration": 15,
    "start_time": "2024-11-12T11:16:36.027Z"
   },
   {
    "duration": 40,
    "start_time": "2024-11-12T11:16:36.044Z"
   },
   {
    "duration": 7,
    "start_time": "2024-11-12T11:16:36.086Z"
   },
   {
    "duration": 10621,
    "start_time": "2024-11-12T11:16:36.094Z"
   },
   {
    "duration": 2223,
    "start_time": "2024-11-12T11:35:23.586Z"
   },
   {
    "duration": 2436,
    "start_time": "2024-11-12T11:36:34.908Z"
   },
   {
    "duration": 2538,
    "start_time": "2024-11-12T11:36:45.045Z"
   },
   {
    "duration": 2172,
    "start_time": "2024-11-12T11:36:51.392Z"
   },
   {
    "duration": 2464,
    "start_time": "2024-11-12T11:36:58.053Z"
   },
   {
    "duration": 2367,
    "start_time": "2024-11-12T11:37:06.291Z"
   },
   {
    "duration": 4,
    "start_time": "2024-11-12T11:37:31.428Z"
   },
   {
    "duration": 2437,
    "start_time": "2024-11-12T11:37:31.891Z"
   },
   {
    "duration": 2091,
    "start_time": "2024-11-12T11:37:46.392Z"
   },
   {
    "duration": 2384,
    "start_time": "2024-11-12T11:38:09.692Z"
   },
   {
    "duration": 2019,
    "start_time": "2024-11-12T11:38:22.574Z"
   },
   {
    "duration": 4,
    "start_time": "2024-11-12T11:39:09.326Z"
   },
   {
    "duration": 3,
    "start_time": "2024-11-12T11:39:17.456Z"
   },
   {
    "duration": 2236,
    "start_time": "2024-11-12T11:39:18.444Z"
   },
   {
    "duration": 4,
    "start_time": "2024-11-12T11:40:08.901Z"
   },
   {
    "duration": 2024,
    "start_time": "2024-11-12T11:40:09.711Z"
   },
   {
    "duration": 1012,
    "start_time": "2024-11-12T11:40:22.391Z"
   },
   {
    "duration": 4,
    "start_time": "2024-11-12T11:41:05.982Z"
   },
   {
    "duration": 2463,
    "start_time": "2024-11-12T11:41:06.766Z"
   },
   {
    "duration": 1005,
    "start_time": "2024-11-12T11:41:09.922Z"
   },
   {
    "duration": 4,
    "start_time": "2024-11-12T11:41:28.055Z"
   },
   {
    "duration": 2439,
    "start_time": "2024-11-12T11:41:28.402Z"
   },
   {
    "duration": 1007,
    "start_time": "2024-11-12T11:41:37.405Z"
   },
   {
    "duration": 4,
    "start_time": "2024-11-12T11:42:32.076Z"
   },
   {
    "duration": 2103,
    "start_time": "2024-11-12T11:42:32.418Z"
   },
   {
    "duration": 4,
    "start_time": "2024-11-12T11:42:46.716Z"
   },
   {
    "duration": 2300,
    "start_time": "2024-11-12T11:42:48.508Z"
   },
   {
    "duration": 3,
    "start_time": "2024-11-12T11:44:15.050Z"
   },
   {
    "duration": 2006,
    "start_time": "2024-11-12T11:44:15.451Z"
   },
   {
    "duration": 1724,
    "start_time": "2024-11-12T11:44:26.280Z"
   },
   {
    "duration": 5,
    "start_time": "2024-11-12T11:44:28.007Z"
   },
   {
    "duration": 860,
    "start_time": "2024-11-12T11:44:28.014Z"
   },
   {
    "duration": 30,
    "start_time": "2024-11-12T11:44:28.876Z"
   },
   {
    "duration": 25,
    "start_time": "2024-11-12T11:44:28.921Z"
   },
   {
    "duration": 252,
    "start_time": "2024-11-12T11:44:28.947Z"
   },
   {
    "duration": 77,
    "start_time": "2024-11-12T11:44:29.200Z"
   },
   {
    "duration": 88,
    "start_time": "2024-11-12T11:44:29.279Z"
   },
   {
    "duration": 76,
    "start_time": "2024-11-12T11:44:29.369Z"
   },
   {
    "duration": 37,
    "start_time": "2024-11-12T11:44:29.448Z"
   },
   {
    "duration": 139,
    "start_time": "2024-11-12T11:44:29.487Z"
   },
   {
    "duration": 4,
    "start_time": "2024-11-12T11:44:29.627Z"
   },
   {
    "duration": 2346,
    "start_time": "2024-11-12T11:44:30.362Z"
   },
   {
    "duration": 3,
    "start_time": "2024-11-12T11:45:06.231Z"
   },
   {
    "duration": 2205,
    "start_time": "2024-11-12T11:45:06.984Z"
   },
   {
    "duration": 965,
    "start_time": "2024-11-12T11:45:15.554Z"
   },
   {
    "duration": 3,
    "start_time": "2024-11-12T11:45:33.864Z"
   },
   {
    "duration": 4,
    "start_time": "2024-11-12T11:45:34.192Z"
   },
   {
    "duration": 78,
    "start_time": "2024-11-12T11:45:34.496Z"
   },
   {
    "duration": 5,
    "start_time": "2024-11-12T11:45:34.881Z"
   },
   {
    "duration": 50,
    "start_time": "2024-11-12T11:45:35.311Z"
   },
   {
    "duration": 5,
    "start_time": "2024-11-12T11:45:36.053Z"
   },
   {
    "duration": 289,
    "start_time": "2024-11-12T11:45:36.246Z"
   },
   {
    "duration": 3,
    "start_time": "2024-11-12T11:45:36.831Z"
   },
   {
    "duration": 6,
    "start_time": "2024-11-12T11:45:37.049Z"
   },
   {
    "duration": 4,
    "start_time": "2024-11-12T11:45:38.171Z"
   },
   {
    "duration": 33,
    "start_time": "2024-11-12T11:45:38.358Z"
   },
   {
    "duration": 6,
    "start_time": "2024-11-12T11:45:38.721Z"
   },
   {
    "duration": 12929,
    "start_time": "2024-11-12T11:45:39.096Z"
   },
   {
    "duration": 12,
    "start_time": "2024-11-12T11:48:13.048Z"
   },
   {
    "duration": 19,
    "start_time": "2024-11-12T11:49:06.144Z"
   },
   {
    "duration": 112,
    "start_time": "2024-11-12T11:55:54.555Z"
   },
   {
    "duration": 4,
    "start_time": "2024-11-12T11:55:57.313Z"
   },
   {
    "duration": 47,
    "start_time": "2024-11-12T11:55:57.911Z"
   },
   {
    "duration": 9,
    "start_time": "2024-11-12T11:56:00.006Z"
   },
   {
    "duration": 6,
    "start_time": "2024-11-12T11:56:05.316Z"
   },
   {
    "duration": 284,
    "start_time": "2024-11-12T11:56:06.056Z"
   },
   {
    "duration": 2,
    "start_time": "2024-11-12T11:56:14.542Z"
   },
   {
    "duration": 6,
    "start_time": "2024-11-12T11:56:15.237Z"
   },
   {
    "duration": 4,
    "start_time": "2024-11-12T11:56:17.219Z"
   },
   {
    "duration": 33,
    "start_time": "2024-11-12T11:56:17.646Z"
   },
   {
    "duration": 6,
    "start_time": "2024-11-12T11:56:18.554Z"
   },
   {
    "duration": 10338,
    "start_time": "2024-11-12T11:56:19.384Z"
   },
   {
    "duration": 231,
    "start_time": "2024-11-12T12:08:10.802Z"
   },
   {
    "duration": 8,
    "start_time": "2024-11-12T12:15:18.671Z"
   },
   {
    "duration": 9,
    "start_time": "2024-11-12T12:15:25.860Z"
   },
   {
    "duration": 6,
    "start_time": "2024-11-12T12:15:53.314Z"
   },
   {
    "duration": 23,
    "start_time": "2024-11-12T12:16:11.553Z"
   },
   {
    "duration": 110,
    "start_time": "2024-11-12T12:16:18.228Z"
   },
   {
    "duration": 6,
    "start_time": "2024-11-12T12:17:31.844Z"
   },
   {
    "duration": 6,
    "start_time": "2024-11-12T12:17:48.664Z"
   },
   {
    "duration": 5,
    "start_time": "2024-11-12T12:18:08.201Z"
   },
   {
    "duration": 9,
    "start_time": "2024-11-12T12:27:43.373Z"
   },
   {
    "duration": 4,
    "start_time": "2024-11-12T12:27:51.666Z"
   },
   {
    "duration": 8,
    "start_time": "2024-11-12T12:33:03.449Z"
   },
   {
    "duration": 15,
    "start_time": "2024-11-12T12:34:24.340Z"
   },
   {
    "duration": 14,
    "start_time": "2024-11-12T12:34:41.842Z"
   },
   {
    "duration": 11,
    "start_time": "2024-11-12T12:34:46.542Z"
   },
   {
    "duration": 28,
    "start_time": "2024-11-12T12:35:09.525Z"
   },
   {
    "duration": 14,
    "start_time": "2024-11-12T12:35:22.391Z"
   },
   {
    "duration": 4,
    "start_time": "2024-11-12T12:35:29.093Z"
   },
   {
    "duration": 45,
    "start_time": "2024-11-12T12:35:29.485Z"
   },
   {
    "duration": 15,
    "start_time": "2024-11-12T12:35:30.625Z"
   },
   {
    "duration": 4,
    "start_time": "2024-11-12T12:35:35.861Z"
   },
   {
    "duration": 886,
    "start_time": "2024-11-12T12:35:36.098Z"
   },
   {
    "duration": 36,
    "start_time": "2024-11-12T12:35:36.986Z"
   },
   {
    "duration": 26,
    "start_time": "2024-11-12T12:35:37.024Z"
   },
   {
    "duration": 251,
    "start_time": "2024-11-12T12:35:37.290Z"
   },
   {
    "duration": 82,
    "start_time": "2024-11-12T12:35:37.543Z"
   },
   {
    "duration": 87,
    "start_time": "2024-11-12T12:35:37.791Z"
   },
   {
    "duration": 64,
    "start_time": "2024-11-12T12:35:37.941Z"
   },
   {
    "duration": 43,
    "start_time": "2024-11-12T12:35:38.142Z"
   },
   {
    "duration": 106,
    "start_time": "2024-11-12T12:35:38.936Z"
   },
   {
    "duration": 4,
    "start_time": "2024-11-12T12:35:39.406Z"
   },
   {
    "duration": 2010,
    "start_time": "2024-11-12T12:35:39.589Z"
   },
   {
    "duration": 1196,
    "start_time": "2024-11-12T12:35:41.601Z"
   },
   {
    "duration": 4,
    "start_time": "2024-11-12T12:35:42.799Z"
   },
   {
    "duration": 16,
    "start_time": "2024-11-12T12:35:42.805Z"
   },
   {
    "duration": 142,
    "start_time": "2024-11-12T12:35:42.834Z"
   },
   {
    "duration": 4,
    "start_time": "2024-11-12T12:35:43.383Z"
   },
   {
    "duration": 4,
    "start_time": "2024-11-12T12:35:44.533Z"
   },
   {
    "duration": 57,
    "start_time": "2024-11-12T12:35:45.142Z"
   },
   {
    "duration": 16,
    "start_time": "2024-11-12T12:35:46.024Z"
   },
   {
    "duration": 25,
    "start_time": "2024-11-12T12:35:49.918Z"
   },
   {
    "duration": 507,
    "start_time": "2024-11-12T12:35:55.146Z"
   },
   {
    "duration": 24,
    "start_time": "2024-11-12T12:36:07.912Z"
   },
   {
    "duration": 1320,
    "start_time": "2024-11-12T12:36:38.015Z"
   },
   {
    "duration": 10,
    "start_time": "2024-11-12T12:36:54.874Z"
   },
   {
    "duration": 9,
    "start_time": "2024-11-12T12:37:08.381Z"
   },
   {
    "duration": 11,
    "start_time": "2024-11-12T12:37:12.392Z"
   },
   {
    "duration": 73,
    "start_time": "2024-11-12T12:37:16.893Z"
   },
   {
    "duration": 10,
    "start_time": "2024-11-12T12:37:22.737Z"
   },
   {
    "duration": 11,
    "start_time": "2024-11-12T12:37:37.020Z"
   },
   {
    "duration": 24,
    "start_time": "2024-11-12T12:38:00.596Z"
   },
   {
    "duration": 146,
    "start_time": "2024-11-12T12:38:12.566Z"
   },
   {
    "duration": 4,
    "start_time": "2024-11-12T12:38:37.613Z"
   },
   {
    "duration": 67,
    "start_time": "2024-11-12T12:38:37.983Z"
   },
   {
    "duration": 10,
    "start_time": "2024-11-12T12:39:07.530Z"
   },
   {
    "duration": 18,
    "start_time": "2024-11-12T12:39:30.697Z"
   },
   {
    "duration": 17,
    "start_time": "2024-11-12T12:39:47.810Z"
   },
   {
    "duration": 22,
    "start_time": "2024-11-12T12:39:55.106Z"
   },
   {
    "duration": 16,
    "start_time": "2024-11-12T12:40:15.178Z"
   },
   {
    "duration": 18,
    "start_time": "2024-11-12T12:40:25.366Z"
   },
   {
    "duration": 10,
    "start_time": "2024-11-12T12:40:33.952Z"
   },
   {
    "duration": 6,
    "start_time": "2024-11-12T12:48:29.022Z"
   },
   {
    "duration": 9,
    "start_time": "2024-11-12T13:26:27.033Z"
   },
   {
    "duration": 9,
    "start_time": "2024-11-12T13:26:40.269Z"
   },
   {
    "duration": 8,
    "start_time": "2024-11-12T13:26:45.977Z"
   },
   {
    "duration": 4,
    "start_time": "2024-11-12T13:33:40.880Z"
   },
   {
    "duration": 52,
    "start_time": "2024-11-12T13:33:48.051Z"
   },
   {
    "duration": 4,
    "start_time": "2024-11-12T13:34:29.841Z"
   },
   {
    "duration": 15,
    "start_time": "2024-11-12T13:34:30.524Z"
   },
   {
    "duration": 21,
    "start_time": "2024-11-12T13:34:37.161Z"
   },
   {
    "duration": 4,
    "start_time": "2024-11-12T13:34:43.247Z"
   },
   {
    "duration": 35,
    "start_time": "2024-11-12T13:34:43.721Z"
   },
   {
    "duration": 49,
    "start_time": "2024-11-12T13:34:47.621Z"
   },
   {
    "duration": 4,
    "start_time": "2024-11-12T13:35:49.660Z"
   },
   {
    "duration": 33,
    "start_time": "2024-11-12T13:35:50.336Z"
   },
   {
    "duration": 4,
    "start_time": "2024-11-12T13:37:51.633Z"
   },
   {
    "duration": 26,
    "start_time": "2024-11-12T13:37:52.044Z"
   },
   {
    "duration": 3,
    "start_time": "2024-11-12T13:38:29.187Z"
   },
   {
    "duration": 25,
    "start_time": "2024-11-12T13:38:32.174Z"
   },
   {
    "duration": 6,
    "start_time": "2024-11-12T13:38:35.162Z"
   },
   {
    "duration": 31,
    "start_time": "2024-11-12T13:38:35.947Z"
   },
   {
    "duration": 6,
    "start_time": "2024-11-12T13:39:34.846Z"
   },
   {
    "duration": 4858,
    "start_time": "2024-11-12T13:39:35.199Z"
   },
   {
    "duration": 6,
    "start_time": "2024-11-12T13:39:56.218Z"
   },
   {
    "duration": 5100,
    "start_time": "2024-11-12T13:40:06.497Z"
   },
   {
    "duration": 4,
    "start_time": "2024-11-12T13:40:44.000Z"
   },
   {
    "duration": 17,
    "start_time": "2024-11-12T13:40:44.552Z"
   },
   {
    "duration": 3,
    "start_time": "2024-11-12T13:41:04.281Z"
   },
   {
    "duration": 24,
    "start_time": "2024-11-12T13:41:04.851Z"
   },
   {
    "duration": 6,
    "start_time": "2024-11-12T13:41:07.769Z"
   },
   {
    "duration": 1803,
    "start_time": "2024-11-12T13:41:08.379Z"
   },
   {
    "duration": 6,
    "start_time": "2024-11-12T13:45:32.044Z"
   },
   {
    "duration": 1738,
    "start_time": "2024-11-12T13:45:32.423Z"
   },
   {
    "duration": 1802,
    "start_time": "2024-11-12T13:45:53.344Z"
   },
   {
    "duration": 5,
    "start_time": "2024-11-12T13:45:55.149Z"
   },
   {
    "duration": 1807,
    "start_time": "2024-11-12T13:45:55.157Z"
   },
   {
    "duration": 84,
    "start_time": "2024-11-12T13:45:56.966Z"
   },
   {
    "duration": 84,
    "start_time": "2024-11-12T13:45:57.052Z"
   },
   {
    "duration": 604,
    "start_time": "2024-11-12T13:45:57.138Z"
   },
   {
    "duration": 181,
    "start_time": "2024-11-12T13:45:57.744Z"
   },
   {
    "duration": 135,
    "start_time": "2024-11-12T13:45:57.926Z"
   },
   {
    "duration": 169,
    "start_time": "2024-11-12T13:45:58.063Z"
   },
   {
    "duration": 93,
    "start_time": "2024-11-12T13:45:58.234Z"
   },
   {
    "duration": 224,
    "start_time": "2024-11-12T13:45:58.329Z"
   },
   {
    "duration": 3,
    "start_time": "2024-11-12T13:45:58.555Z"
   },
   {
    "duration": 3103,
    "start_time": "2024-11-12T13:45:58.560Z"
   },
   {
    "duration": 1045,
    "start_time": "2024-11-12T13:46:01.665Z"
   },
   {
    "duration": 10,
    "start_time": "2024-11-12T13:46:02.712Z"
   },
   {
    "duration": 44,
    "start_time": "2024-11-12T13:46:02.723Z"
   },
   {
    "duration": 138,
    "start_time": "2024-11-12T13:46:02.769Z"
   },
   {
    "duration": 5,
    "start_time": "2024-11-12T13:46:02.909Z"
   },
   {
    "duration": 30,
    "start_time": "2024-11-12T13:46:02.921Z"
   },
   {
    "duration": 104,
    "start_time": "2024-11-12T13:46:02.953Z"
   },
   {
    "duration": 24,
    "start_time": "2024-11-12T13:46:03.059Z"
   },
   {
    "duration": 35,
    "start_time": "2024-11-12T13:46:03.084Z"
   },
   {
    "duration": 316,
    "start_time": "2024-11-12T13:46:03.121Z"
   },
   {
    "duration": 83,
    "start_time": "2024-11-12T13:46:03.439Z"
   },
   {
    "duration": 122,
    "start_time": "2024-11-12T13:46:03.524Z"
   },
   {
    "duration": 26,
    "start_time": "2024-11-12T13:46:03.648Z"
   },
   {
    "duration": 108,
    "start_time": "2024-11-12T13:46:03.676Z"
   },
   {
    "duration": 8,
    "start_time": "2024-11-12T13:46:03.788Z"
   },
   {
    "duration": 2027,
    "start_time": "2024-11-12T13:46:03.798Z"
   },
   {
    "duration": 5,
    "start_time": "2024-11-12T13:48:23.045Z"
   },
   {
    "duration": 4,
    "start_time": "2024-11-12T13:48:41.651Z"
   },
   {
    "duration": 331,
    "start_time": "2024-11-12T13:49:51.280Z"
   },
   {
    "duration": 4,
    "start_time": "2024-11-12T13:50:07.924Z"
   },
   {
    "duration": 45,
    "start_time": "2024-11-12T13:50:14.380Z"
   },
   {
    "duration": 4,
    "start_time": "2024-11-12T13:50:28.831Z"
   },
   {
    "duration": 412,
    "start_time": "2024-11-12T13:50:29.110Z"
   },
   {
    "duration": 5,
    "start_time": "2024-11-12T13:52:11.523Z"
   },
   {
    "duration": 1780,
    "start_time": "2024-11-12T13:52:11.795Z"
   },
   {
    "duration": 6,
    "start_time": "2024-11-12T13:52:23.019Z"
   },
   {
    "duration": 1796,
    "start_time": "2024-11-12T13:52:23.338Z"
   },
   {
    "duration": 1908,
    "start_time": "2024-11-12T13:54:15.329Z"
   },
   {
    "duration": 2539,
    "start_time": "2024-11-12T13:56:43.601Z"
   },
   {
    "duration": 4,
    "start_time": "2024-11-12T13:56:46.143Z"
   },
   {
    "duration": 849,
    "start_time": "2024-11-12T13:56:46.149Z"
   },
   {
    "duration": 31,
    "start_time": "2024-11-12T13:56:47.000Z"
   },
   {
    "duration": 23,
    "start_time": "2024-11-12T13:56:47.033Z"
   },
   {
    "duration": 281,
    "start_time": "2024-11-12T13:56:47.057Z"
   },
   {
    "duration": 64,
    "start_time": "2024-11-12T13:56:47.340Z"
   },
   {
    "duration": 125,
    "start_time": "2024-11-12T13:56:47.406Z"
   },
   {
    "duration": 69,
    "start_time": "2024-11-12T13:56:47.532Z"
   },
   {
    "duration": 44,
    "start_time": "2024-11-12T13:56:47.604Z"
   },
   {
    "duration": 134,
    "start_time": "2024-11-12T13:56:47.649Z"
   },
   {
    "duration": 4,
    "start_time": "2024-11-12T13:56:47.785Z"
   },
   {
    "duration": 2199,
    "start_time": "2024-11-12T13:56:47.792Z"
   },
   {
    "duration": 953,
    "start_time": "2024-11-12T13:56:49.993Z"
   },
   {
    "duration": 3,
    "start_time": "2024-11-12T13:56:50.948Z"
   },
   {
    "duration": 7,
    "start_time": "2024-11-12T13:56:50.952Z"
   },
   {
    "duration": 91,
    "start_time": "2024-11-12T13:56:50.960Z"
   },
   {
    "duration": 4,
    "start_time": "2024-11-12T13:56:51.052Z"
   },
   {
    "duration": 13,
    "start_time": "2024-11-12T13:56:51.058Z"
   },
   {
    "duration": 57,
    "start_time": "2024-11-12T13:56:51.073Z"
   },
   {
    "duration": 9,
    "start_time": "2024-11-12T13:56:51.132Z"
   },
   {
    "duration": 7,
    "start_time": "2024-11-12T13:56:51.142Z"
   },
   {
    "duration": 469,
    "start_time": "2024-11-12T13:56:51.151Z"
   },
   {
    "duration": 5,
    "start_time": "2024-11-12T13:56:51.622Z"
   },
   {
    "duration": 400,
    "start_time": "2024-11-12T13:56:51.629Z"
   },
   {
    "duration": 3,
    "start_time": "2024-11-12T13:56:52.121Z"
   },
   {
    "duration": 65,
    "start_time": "2024-11-12T13:56:52.125Z"
   },
   {
    "duration": 14,
    "start_time": "2024-11-12T13:56:52.193Z"
   },
   {
    "duration": 44,
    "start_time": "2024-11-12T13:56:52.208Z"
   },
   {
    "duration": 6,
    "start_time": "2024-11-12T13:56:52.253Z"
   },
   {
    "duration": 1688,
    "start_time": "2024-11-12T13:56:52.260Z"
   },
   {
    "duration": 1746,
    "start_time": "2024-11-12T13:57:09.641Z"
   },
   {
    "duration": 1754,
    "start_time": "2024-11-12T13:57:18.720Z"
   },
   {
    "duration": 1775,
    "start_time": "2024-11-12T13:57:26.696Z"
   },
   {
    "duration": 1763,
    "start_time": "2024-11-12T13:58:40.959Z"
   },
   {
    "duration": 1743,
    "start_time": "2024-11-12T13:58:47.513Z"
   },
   {
    "duration": 1776,
    "start_time": "2024-11-12T13:58:56.651Z"
   },
   {
    "duration": 2530,
    "start_time": "2024-11-12T13:59:30.514Z"
   },
   {
    "duration": 5,
    "start_time": "2024-11-12T13:59:33.046Z"
   },
   {
    "duration": 868,
    "start_time": "2024-11-12T13:59:33.053Z"
   },
   {
    "duration": 30,
    "start_time": "2024-11-12T13:59:33.924Z"
   },
   {
    "duration": 25,
    "start_time": "2024-11-12T13:59:33.955Z"
   },
   {
    "duration": 265,
    "start_time": "2024-11-12T13:59:33.982Z"
   },
   {
    "duration": 57,
    "start_time": "2024-11-12T13:59:34.248Z"
   },
   {
    "duration": 80,
    "start_time": "2024-11-12T13:59:34.307Z"
   },
   {
    "duration": 63,
    "start_time": "2024-11-12T13:59:34.389Z"
   },
   {
    "duration": 34,
    "start_time": "2024-11-12T13:59:34.455Z"
   },
   {
    "duration": 178,
    "start_time": "2024-11-12T13:59:34.491Z"
   },
   {
    "duration": 3,
    "start_time": "2024-11-12T13:59:34.671Z"
   },
   {
    "duration": 2179,
    "start_time": "2024-11-12T13:59:34.675Z"
   },
   {
    "duration": 1026,
    "start_time": "2024-11-12T13:59:36.856Z"
   },
   {
    "duration": 4,
    "start_time": "2024-11-12T13:59:37.883Z"
   },
   {
    "duration": 4,
    "start_time": "2024-11-12T13:59:37.888Z"
   },
   {
    "duration": 90,
    "start_time": "2024-11-12T13:59:37.894Z"
   },
   {
    "duration": 5,
    "start_time": "2024-11-12T13:59:37.987Z"
   },
   {
    "duration": 7,
    "start_time": "2024-11-12T13:59:37.994Z"
   },
   {
    "duration": 58,
    "start_time": "2024-11-12T13:59:38.002Z"
   },
   {
    "duration": 9,
    "start_time": "2024-11-12T13:59:38.062Z"
   },
   {
    "duration": 5,
    "start_time": "2024-11-12T13:59:38.073Z"
   },
   {
    "duration": 540,
    "start_time": "2024-11-12T13:59:38.080Z"
   },
   {
    "duration": 95,
    "start_time": "2024-11-12T13:59:38.626Z"
   },
   {
    "duration": 399,
    "start_time": "2024-11-12T13:59:38.722Z"
   },
   {
    "duration": 3,
    "start_time": "2024-11-12T13:59:39.124Z"
   },
   {
    "duration": 157,
    "start_time": "2024-11-12T13:59:39.129Z"
   },
   {
    "duration": 14,
    "start_time": "2024-11-12T13:59:39.289Z"
   },
   {
    "duration": 23,
    "start_time": "2024-11-12T13:59:39.305Z"
   },
   {
    "duration": 6,
    "start_time": "2024-11-12T13:59:39.329Z"
   },
   {
    "duration": 2505,
    "start_time": "2024-11-12T13:59:39.336Z"
   },
   {
    "duration": 2099,
    "start_time": "2024-11-12T14:28:28.667Z"
   },
   {
    "duration": 55,
    "start_time": "2024-11-12T14:28:30.768Z"
   },
   {
    "duration": 1439,
    "start_time": "2024-11-12T14:28:30.826Z"
   },
   {
    "duration": 39,
    "start_time": "2024-11-12T14:28:32.268Z"
   },
   {
    "duration": 42,
    "start_time": "2024-11-12T14:28:32.309Z"
   },
   {
    "duration": 285,
    "start_time": "2024-11-12T14:28:32.353Z"
   },
   {
    "duration": 58,
    "start_time": "2024-11-12T14:28:32.639Z"
   },
   {
    "duration": 88,
    "start_time": "2024-11-12T14:28:32.698Z"
   },
   {
    "duration": 74,
    "start_time": "2024-11-12T14:28:32.787Z"
   },
   {
    "duration": 52,
    "start_time": "2024-11-12T14:28:32.863Z"
   },
   {
    "duration": 128,
    "start_time": "2024-11-12T14:28:32.917Z"
   },
   {
    "duration": 3,
    "start_time": "2024-11-12T14:28:33.047Z"
   },
   {
    "duration": 2409,
    "start_time": "2024-11-12T14:28:33.051Z"
   },
   {
    "duration": 1022,
    "start_time": "2024-11-12T14:28:35.462Z"
   },
   {
    "duration": 3,
    "start_time": "2024-11-12T14:28:36.486Z"
   },
   {
    "duration": 25,
    "start_time": "2024-11-12T14:28:36.490Z"
   },
   {
    "duration": 99,
    "start_time": "2024-11-12T14:28:36.517Z"
   },
   {
    "duration": 17,
    "start_time": "2024-11-12T14:28:36.618Z"
   },
   {
    "duration": 42,
    "start_time": "2024-11-12T14:28:36.638Z"
   },
   {
    "duration": 60,
    "start_time": "2024-11-12T14:28:36.681Z"
   },
   {
    "duration": 8,
    "start_time": "2024-11-12T14:28:36.743Z"
   },
   {
    "duration": 5,
    "start_time": "2024-11-12T14:28:36.753Z"
   },
   {
    "duration": 369,
    "start_time": "2024-11-12T14:28:36.760Z"
   },
   {
    "duration": 82,
    "start_time": "2024-11-12T14:28:37.139Z"
   },
   {
    "duration": 407,
    "start_time": "2024-11-12T14:28:37.223Z"
   },
   {
    "duration": 4,
    "start_time": "2024-11-12T14:28:37.632Z"
   },
   {
    "duration": 86,
    "start_time": "2024-11-12T14:28:37.639Z"
   },
   {
    "duration": 3,
    "start_time": "2024-11-12T14:28:37.735Z"
   },
   {
    "duration": 29,
    "start_time": "2024-11-12T14:28:37.740Z"
   },
   {
    "duration": 6,
    "start_time": "2024-11-12T14:28:37.772Z"
   },
   {
    "duration": 1916,
    "start_time": "2024-11-12T14:28:37.780Z"
   },
   {
    "duration": 17830,
    "start_time": "2024-11-12T16:39:50.593Z"
   },
   {
    "duration": 1830,
    "start_time": "2024-11-12T16:40:08.426Z"
   },
   {
    "duration": 4,
    "start_time": "2024-11-12T16:40:10.258Z"
   },
   {
    "duration": 1371,
    "start_time": "2024-11-12T16:40:10.265Z"
   },
   {
    "duration": 33,
    "start_time": "2024-11-12T16:40:11.638Z"
   },
   {
    "duration": 41,
    "start_time": "2024-11-12T16:40:11.672Z"
   },
   {
    "duration": 240,
    "start_time": "2024-11-12T16:40:11.715Z"
   },
   {
    "duration": 59,
    "start_time": "2024-11-12T16:40:11.957Z"
   },
   {
    "duration": 75,
    "start_time": "2024-11-12T16:40:12.018Z"
   },
   {
    "duration": 71,
    "start_time": "2024-11-12T16:40:12.095Z"
   },
   {
    "duration": 52,
    "start_time": "2024-11-12T16:40:12.168Z"
   },
   {
    "duration": 103,
    "start_time": "2024-11-12T16:40:17.768Z"
   },
   {
    "duration": 3,
    "start_time": "2024-11-12T16:40:20.046Z"
   },
   {
    "duration": 2268,
    "start_time": "2024-11-12T16:40:20.801Z"
   },
   {
    "duration": 979,
    "start_time": "2024-11-12T16:40:23.421Z"
   },
   {
    "duration": 4,
    "start_time": "2024-11-12T16:45:14.483Z"
   },
   {
    "duration": 4,
    "start_time": "2024-11-12T16:45:15.193Z"
   },
   {
    "duration": 76,
    "start_time": "2024-11-12T16:45:21.878Z"
   },
   {
    "duration": 5,
    "start_time": "2024-11-12T16:45:44.657Z"
   },
   {
    "duration": 26,
    "start_time": "2024-11-12T16:45:51.762Z"
   },
   {
    "duration": 4,
    "start_time": "2024-11-12T16:47:35.620Z"
   },
   {
    "duration": 28,
    "start_time": "2024-11-12T16:47:40.269Z"
   },
   {
    "duration": 5,
    "start_time": "2024-11-12T16:48:06.123Z"
   },
   {
    "duration": 4,
    "start_time": "2024-11-12T16:48:34.026Z"
   },
   {
    "duration": 447,
    "start_time": "2024-11-12T16:48:34.553Z"
   },
   {
    "duration": 113,
    "start_time": "2024-11-12T16:48:53.479Z"
   },
   {
    "duration": 4,
    "start_time": "2024-11-12T16:48:55.402Z"
   },
   {
    "duration": 1581,
    "start_time": "2024-11-12T16:49:04.639Z"
   },
   {
    "duration": 5,
    "start_time": "2024-11-12T16:49:07.033Z"
   },
   {
    "duration": 785,
    "start_time": "2024-11-12T16:49:07.400Z"
   },
   {
    "duration": 45,
    "start_time": "2024-11-12T16:49:08.187Z"
   },
   {
    "duration": 26,
    "start_time": "2024-11-12T16:49:08.234Z"
   },
   {
    "duration": 221,
    "start_time": "2024-11-12T16:49:08.949Z"
   },
   {
    "duration": 52,
    "start_time": "2024-11-12T16:49:09.333Z"
   },
   {
    "duration": 66,
    "start_time": "2024-11-12T16:49:09.621Z"
   },
   {
    "duration": 57,
    "start_time": "2024-11-12T16:49:09.848Z"
   },
   {
    "duration": 32,
    "start_time": "2024-11-12T16:49:10.162Z"
   },
   {
    "duration": 119,
    "start_time": "2024-11-12T16:49:12.882Z"
   },
   {
    "duration": 3,
    "start_time": "2024-11-12T16:49:13.685Z"
   },
   {
    "duration": 2091,
    "start_time": "2024-11-12T16:49:14.034Z"
   },
   {
    "duration": 948,
    "start_time": "2024-11-12T16:49:16.127Z"
   },
   {
    "duration": 3,
    "start_time": "2024-11-12T16:49:20.256Z"
   },
   {
    "duration": 4,
    "start_time": "2024-11-12T16:49:20.649Z"
   },
   {
    "duration": 74,
    "start_time": "2024-11-12T16:49:21.129Z"
   },
   {
    "duration": 4,
    "start_time": "2024-11-12T16:49:26.609Z"
   },
   {
    "duration": 26,
    "start_time": "2024-11-12T16:49:27.704Z"
   },
   {
    "duration": 4,
    "start_time": "2024-11-12T16:49:36.620Z"
   },
   {
    "duration": 344,
    "start_time": "2024-11-12T16:49:38.357Z"
   },
   {
    "duration": 3,
    "start_time": "2024-11-12T16:54:14.850Z"
   },
   {
    "duration": 120,
    "start_time": "2024-11-12T16:56:12.090Z"
   },
   {
    "duration": 3,
    "start_time": "2024-11-12T16:56:14.389Z"
   },
   {
    "duration": 10,
    "start_time": "2024-11-12T16:56:15.429Z"
   },
   {
    "duration": 7,
    "start_time": "2024-11-12T16:56:22.228Z"
   },
   {
    "duration": 3,
    "start_time": "2024-11-12T16:56:43.040Z"
   },
   {
    "duration": 22,
    "start_time": "2024-11-12T16:56:45.201Z"
   },
   {
    "duration": 1609,
    "start_time": "2024-11-12T16:58:56.202Z"
   },
   {
    "duration": 4,
    "start_time": "2024-11-12T16:58:57.813Z"
   },
   {
    "duration": 833,
    "start_time": "2024-11-12T16:58:59.545Z"
   },
   {
    "duration": 4,
    "start_time": "2024-11-12T16:59:25.275Z"
   },
   {
    "duration": 5420,
    "start_time": "2024-11-12T16:59:29.934Z"
   },
   {
    "duration": 1595,
    "start_time": "2024-11-12T16:59:35.357Z"
   },
   {
    "duration": 5,
    "start_time": "2024-11-12T16:59:36.953Z"
   },
   {
    "duration": 1243,
    "start_time": "2024-11-12T16:59:36.960Z"
   },
   {
    "duration": 98,
    "start_time": "2024-11-12T16:59:38.205Z"
   },
   {
    "duration": 34,
    "start_time": "2024-11-12T16:59:38.305Z"
   },
   {
    "duration": 497,
    "start_time": "2024-11-12T16:59:38.341Z"
   },
   {
    "duration": 102,
    "start_time": "2024-11-12T16:59:38.840Z"
   },
   {
    "duration": 174,
    "start_time": "2024-11-12T16:59:38.943Z"
   },
   {
    "duration": 108,
    "start_time": "2024-11-12T16:59:39.120Z"
   },
   {
    "duration": 84,
    "start_time": "2024-11-12T16:59:39.229Z"
   },
   {
    "duration": 231,
    "start_time": "2024-11-12T16:59:39.314Z"
   },
   {
    "duration": 55,
    "start_time": "2024-11-12T16:59:39.546Z"
   },
   {
    "duration": 2699,
    "start_time": "2024-11-12T16:59:39.602Z"
   },
   {
    "duration": 989,
    "start_time": "2024-11-12T16:59:42.303Z"
   },
   {
    "duration": 6,
    "start_time": "2024-11-12T16:59:43.294Z"
   },
   {
    "duration": 5,
    "start_time": "2024-11-12T16:59:43.302Z"
   },
   {
    "duration": 77,
    "start_time": "2024-11-12T16:59:43.309Z"
   },
   {
    "duration": 4,
    "start_time": "2024-11-12T16:59:43.399Z"
   },
   {
    "duration": 28,
    "start_time": "2024-11-12T16:59:43.405Z"
   },
   {
    "duration": 4,
    "start_time": "2024-11-12T16:59:43.435Z"
   },
   {
    "duration": 461,
    "start_time": "2024-11-12T16:59:43.441Z"
   },
   {
    "duration": 3,
    "start_time": "2024-11-12T16:59:43.904Z"
   },
   {
    "duration": 156,
    "start_time": "2024-11-12T16:59:43.909Z"
   },
   {
    "duration": 4,
    "start_time": "2024-11-12T16:59:44.066Z"
   },
   {
    "duration": 136,
    "start_time": "2024-11-12T16:59:44.072Z"
   },
   {
    "duration": 0,
    "start_time": "2024-11-12T16:59:44.210Z"
   },
   {
    "duration": 0,
    "start_time": "2024-11-12T16:59:44.212Z"
   },
   {
    "duration": 18,
    "start_time": "2024-11-12T17:05:56.425Z"
   },
   {
    "duration": 6026,
    "start_time": "2024-11-12T17:06:05.958Z"
   },
   {
    "duration": 1622,
    "start_time": "2024-11-12T17:06:11.986Z"
   },
   {
    "duration": 4,
    "start_time": "2024-11-12T17:06:13.610Z"
   },
   {
    "duration": 834,
    "start_time": "2024-11-12T17:06:13.617Z"
   },
   {
    "duration": 46,
    "start_time": "2024-11-12T17:06:14.454Z"
   },
   {
    "duration": 71,
    "start_time": "2024-11-12T17:06:14.502Z"
   },
   {
    "duration": 225,
    "start_time": "2024-11-12T17:06:14.575Z"
   },
   {
    "duration": 52,
    "start_time": "2024-11-12T17:06:14.801Z"
   },
   {
    "duration": 87,
    "start_time": "2024-11-12T17:06:14.855Z"
   },
   {
    "duration": 66,
    "start_time": "2024-11-12T17:06:14.945Z"
   },
   {
    "duration": 31,
    "start_time": "2024-11-12T17:06:15.013Z"
   },
   {
    "duration": 162,
    "start_time": "2024-11-12T17:06:15.046Z"
   },
   {
    "duration": 3,
    "start_time": "2024-11-12T17:06:15.209Z"
   },
   {
    "duration": 2087,
    "start_time": "2024-11-12T17:06:15.214Z"
   },
   {
    "duration": 984,
    "start_time": "2024-11-12T17:06:17.303Z"
   },
   {
    "duration": 4,
    "start_time": "2024-11-12T17:06:18.289Z"
   },
   {
    "duration": 7,
    "start_time": "2024-11-12T17:06:18.300Z"
   },
   {
    "duration": 92,
    "start_time": "2024-11-12T17:06:18.309Z"
   },
   {
    "duration": 6,
    "start_time": "2024-11-12T17:06:18.404Z"
   },
   {
    "duration": 32,
    "start_time": "2024-11-12T17:06:18.412Z"
   },
   {
    "duration": 5,
    "start_time": "2024-11-12T17:06:18.447Z"
   },
   {
    "duration": 351,
    "start_time": "2024-11-12T17:06:18.454Z"
   },
   {
    "duration": 4,
    "start_time": "2024-11-12T17:06:18.807Z"
   },
   {
    "duration": 96,
    "start_time": "2024-11-12T17:06:18.813Z"
   },
   {
    "duration": 12,
    "start_time": "2024-11-12T17:06:18.911Z"
   },
   {
    "duration": 140,
    "start_time": "2024-11-12T17:06:18.925Z"
   },
   {
    "duration": 0,
    "start_time": "2024-11-12T17:06:19.066Z"
   },
   {
    "duration": 0,
    "start_time": "2024-11-12T17:06:19.068Z"
   },
   {
    "duration": 4,
    "start_time": "2024-11-12T17:08:56.852Z"
   },
   {
    "duration": 20,
    "start_time": "2024-11-12T17:08:58.441Z"
   },
   {
    "duration": 5,
    "start_time": "2024-11-12T17:09:05.214Z"
   },
   {
    "duration": 4,
    "start_time": "2024-11-12T17:11:29.663Z"
   },
   {
    "duration": 11,
    "start_time": "2024-11-12T17:11:30.758Z"
   },
   {
    "duration": 25,
    "start_time": "2024-11-12T17:11:53.692Z"
   },
   {
    "duration": 4,
    "start_time": "2024-11-12T17:12:09.024Z"
   },
   {
    "duration": 24,
    "start_time": "2024-11-12T17:12:10.435Z"
   },
   {
    "duration": 5,
    "start_time": "2024-11-12T17:12:14.863Z"
   },
   {
    "duration": 14,
    "start_time": "2024-11-12T17:12:16.348Z"
   },
   {
    "duration": 5,
    "start_time": "2024-11-12T17:14:23.691Z"
   },
   {
    "duration": 13,
    "start_time": "2024-11-12T17:14:33.981Z"
   },
   {
    "duration": 5,
    "start_time": "2024-11-12T17:14:53.471Z"
   },
   {
    "duration": 14,
    "start_time": "2024-11-12T17:14:54.491Z"
   },
   {
    "duration": 6,
    "start_time": "2024-11-12T17:15:09.247Z"
   },
   {
    "duration": 16,
    "start_time": "2024-11-12T17:15:10.686Z"
   },
   {
    "duration": 8,
    "start_time": "2024-11-12T17:15:24.420Z"
   },
   {
    "duration": 1757,
    "start_time": "2024-11-12T17:15:25.480Z"
   },
   {
    "duration": 6,
    "start_time": "2024-11-12T17:15:38.414Z"
   },
   {
    "duration": 1750,
    "start_time": "2024-11-12T17:15:41.274Z"
   },
   {
    "duration": 5188,
    "start_time": "2024-11-12T17:15:55.422Z"
   },
   {
    "duration": 170,
    "start_time": "2024-11-12T17:28:15.841Z"
   },
   {
    "duration": 6800,
    "start_time": "2024-11-12T17:28:35.109Z"
   },
   {
    "duration": 2327,
    "start_time": "2024-11-12T17:28:41.913Z"
   },
   {
    "duration": 7,
    "start_time": "2024-11-12T17:28:44.242Z"
   },
   {
    "duration": 1599,
    "start_time": "2024-11-12T17:28:44.301Z"
   },
   {
    "duration": 31,
    "start_time": "2024-11-12T17:28:45.901Z"
   },
   {
    "duration": 78,
    "start_time": "2024-11-12T17:28:45.934Z"
   },
   {
    "duration": 499,
    "start_time": "2024-11-12T17:28:46.013Z"
   },
   {
    "duration": 112,
    "start_time": "2024-11-12T17:28:46.514Z"
   },
   {
    "duration": 104,
    "start_time": "2024-11-12T17:28:46.628Z"
   },
   {
    "duration": 109,
    "start_time": "2024-11-12T17:28:46.734Z"
   },
   {
    "duration": 213,
    "start_time": "2024-11-12T17:28:46.899Z"
   },
   {
    "duration": 3,
    "start_time": "2024-11-12T17:28:47.114Z"
   },
   {
    "duration": 4242,
    "start_time": "2024-11-12T17:28:47.119Z"
   },
   {
    "duration": 1753,
    "start_time": "2024-11-12T17:28:51.363Z"
   },
   {
    "duration": 2,
    "start_time": "2024-11-12T17:28:53.118Z"
   },
   {
    "duration": 9,
    "start_time": "2024-11-12T17:28:53.122Z"
   },
   {
    "duration": 184,
    "start_time": "2024-11-12T17:28:53.133Z"
   },
   {
    "duration": 4,
    "start_time": "2024-11-12T17:28:53.319Z"
   },
   {
    "duration": 87,
    "start_time": "2024-11-12T17:28:53.325Z"
   },
   {
    "duration": 4,
    "start_time": "2024-11-12T17:28:53.414Z"
   },
   {
    "duration": 592,
    "start_time": "2024-11-12T17:28:53.419Z"
   },
   {
    "duration": 3,
    "start_time": "2024-11-12T17:28:54.101Z"
   },
   {
    "duration": 7,
    "start_time": "2024-11-12T17:28:54.106Z"
   },
   {
    "duration": 15,
    "start_time": "2024-11-12T17:28:54.115Z"
   },
   {
    "duration": 88,
    "start_time": "2024-11-12T17:28:54.132Z"
   },
   {
    "duration": 7,
    "start_time": "2024-11-12T17:28:54.222Z"
   },
   {
    "duration": 8820,
    "start_time": "2024-11-12T17:28:54.230Z"
   },
   {
    "duration": 5135,
    "start_time": "2024-11-12T17:31:20.214Z"
   },
   {
    "duration": 1573,
    "start_time": "2024-11-12T17:31:25.352Z"
   },
   {
    "duration": 5,
    "start_time": "2024-11-12T17:31:26.926Z"
   },
   {
    "duration": 825,
    "start_time": "2024-11-12T17:31:26.933Z"
   },
   {
    "duration": 42,
    "start_time": "2024-11-12T17:31:27.759Z"
   },
   {
    "duration": 24,
    "start_time": "2024-11-12T17:31:27.803Z"
   },
   {
    "duration": 142,
    "start_time": "2024-11-12T17:31:27.828Z"
   },
   {
    "duration": 110,
    "start_time": "2024-11-12T17:31:27.972Z"
   },
   {
    "duration": 17,
    "start_time": "2024-11-12T17:31:28.083Z"
   },
   {
    "duration": 2142,
    "start_time": "2024-11-12T17:31:28.103Z"
   },
   {
    "duration": 937,
    "start_time": "2024-11-12T17:31:30.247Z"
   },
   {
    "duration": 3,
    "start_time": "2024-11-12T17:31:31.185Z"
   },
   {
    "duration": 70,
    "start_time": "2024-11-12T17:31:31.189Z"
   },
   {
    "duration": 121,
    "start_time": "2024-11-12T17:31:31.260Z"
   },
   {
    "duration": 4,
    "start_time": "2024-11-12T17:31:31.383Z"
   },
   {
    "duration": 46,
    "start_time": "2024-11-12T17:31:31.388Z"
   },
   {
    "duration": 4,
    "start_time": "2024-11-12T17:31:31.436Z"
   },
   {
    "duration": 459,
    "start_time": "2024-11-12T17:31:31.442Z"
   },
   {
    "duration": 3,
    "start_time": "2024-11-12T17:31:31.903Z"
   },
   {
    "duration": 31,
    "start_time": "2024-11-12T17:31:31.907Z"
   },
   {
    "duration": 19,
    "start_time": "2024-11-12T17:31:31.939Z"
   },
   {
    "duration": 54,
    "start_time": "2024-11-12T17:31:31.959Z"
   },
   {
    "duration": 6,
    "start_time": "2024-11-12T17:31:32.015Z"
   },
   {
    "duration": 6599,
    "start_time": "2024-11-12T17:31:32.022Z"
   },
   {
    "duration": 6,
    "start_time": "2024-11-12T17:39:31.785Z"
   },
   {
    "duration": 6761,
    "start_time": "2024-11-12T17:39:33.391Z"
   },
   {
    "duration": 5,
    "start_time": "2024-11-12T17:41:59.141Z"
   },
   {
    "duration": 4,
    "start_time": "2024-11-12T17:46:37.927Z"
   },
   {
    "duration": 7656,
    "start_time": "2024-11-12T17:48:08.211Z"
   },
   {
    "duration": 1839,
    "start_time": "2024-11-12T17:48:15.870Z"
   },
   {
    "duration": 8,
    "start_time": "2024-11-12T17:48:17.712Z"
   },
   {
    "duration": 875,
    "start_time": "2024-11-12T17:48:17.723Z"
   },
   {
    "duration": 39,
    "start_time": "2024-11-12T17:48:18.599Z"
   },
   {
    "duration": 61,
    "start_time": "2024-11-12T17:48:18.640Z"
   },
   {
    "duration": 137,
    "start_time": "2024-11-12T17:48:18.703Z"
   },
   {
    "duration": 134,
    "start_time": "2024-11-12T17:48:18.842Z"
   },
   {
    "duration": 4,
    "start_time": "2024-11-12T17:48:18.978Z"
   },
   {
    "duration": 2340,
    "start_time": "2024-11-12T17:48:19.001Z"
   },
   {
    "duration": 1068,
    "start_time": "2024-11-12T17:48:21.343Z"
   },
   {
    "duration": 6,
    "start_time": "2024-11-12T17:48:22.415Z"
   },
   {
    "duration": 4,
    "start_time": "2024-11-12T17:48:22.423Z"
   },
   {
    "duration": 159,
    "start_time": "2024-11-12T17:48:22.429Z"
   },
   {
    "duration": 16,
    "start_time": "2024-11-12T17:48:22.590Z"
   },
   {
    "duration": 50,
    "start_time": "2024-11-12T17:48:22.609Z"
   },
   {
    "duration": 5,
    "start_time": "2024-11-12T17:48:22.661Z"
   },
   {
    "duration": 540,
    "start_time": "2024-11-12T17:48:22.667Z"
   },
   {
    "duration": 4,
    "start_time": "2024-11-12T17:48:23.209Z"
   },
   {
    "duration": 92,
    "start_time": "2024-11-12T17:48:23.215Z"
   },
   {
    "duration": 14,
    "start_time": "2024-11-12T17:48:23.310Z"
   },
   {
    "duration": 34,
    "start_time": "2024-11-12T17:48:23.325Z"
   },
   {
    "duration": 5,
    "start_time": "2024-11-12T17:48:23.361Z"
   },
   {
    "duration": 6679,
    "start_time": "2024-11-12T17:48:23.368Z"
   },
   {
    "duration": 21,
    "start_time": "2024-11-12T18:06:36.445Z"
   },
   {
    "duration": 19666,
    "start_time": "2024-11-12T20:30:22.632Z"
   },
   {
    "duration": 1829,
    "start_time": "2024-11-12T20:30:42.300Z"
   },
   {
    "duration": 4,
    "start_time": "2024-11-12T20:30:44.131Z"
   },
   {
    "duration": 1324,
    "start_time": "2024-11-12T20:30:44.137Z"
   },
   {
    "duration": 45,
    "start_time": "2024-11-12T20:30:45.463Z"
   },
   {
    "duration": 27,
    "start_time": "2024-11-12T20:30:45.510Z"
   },
   {
    "duration": 177,
    "start_time": "2024-11-12T20:30:45.540Z"
   },
   {
    "duration": 115,
    "start_time": "2024-11-12T20:30:45.718Z"
   },
   {
    "duration": 4,
    "start_time": "2024-11-12T20:30:45.834Z"
   },
   {
    "duration": 2245,
    "start_time": "2024-11-12T20:30:45.840Z"
   },
   {
    "duration": 974,
    "start_time": "2024-11-12T20:30:48.087Z"
   },
   {
    "duration": 3,
    "start_time": "2024-11-12T20:30:49.063Z"
   },
   {
    "duration": 17,
    "start_time": "2024-11-12T20:30:49.067Z"
   },
   {
    "duration": 128,
    "start_time": "2024-11-12T20:30:49.086Z"
   },
   {
    "duration": 4,
    "start_time": "2024-11-12T20:30:49.216Z"
   },
   {
    "duration": 50,
    "start_time": "2024-11-12T20:30:49.222Z"
   },
   {
    "duration": 5,
    "start_time": "2024-11-12T20:30:49.275Z"
   },
   {
    "duration": 331,
    "start_time": "2024-11-12T20:30:49.282Z"
   },
   {
    "duration": 4,
    "start_time": "2024-11-12T20:30:49.701Z"
   },
   {
    "duration": 52,
    "start_time": "2024-11-12T20:30:49.706Z"
   },
   {
    "duration": 41,
    "start_time": "2024-11-12T20:30:49.760Z"
   },
   {
    "duration": 30,
    "start_time": "2024-11-12T20:30:49.803Z"
   },
   {
    "duration": 6,
    "start_time": "2024-11-12T20:30:49.834Z"
   },
   {
    "duration": 6649,
    "start_time": "2024-11-12T20:30:49.841Z"
   },
   {
    "duration": 5,
    "start_time": "2024-11-12T20:31:10.676Z"
   },
   {
    "duration": 40,
    "start_time": "2024-11-12T20:31:11.506Z"
   },
   {
    "duration": 6,
    "start_time": "2024-11-12T20:31:12.137Z"
   },
   {
    "duration": 7004,
    "start_time": "2024-11-12T20:31:13.113Z"
   },
   {
    "duration": 6,
    "start_time": "2024-11-12T20:32:06.501Z"
   },
   {
    "duration": 10,
    "start_time": "2024-11-12T20:32:10.792Z"
   },
   {
    "duration": 111,
    "start_time": "2024-11-12T20:32:15.979Z"
   },
   {
    "duration": 5,
    "start_time": "2024-11-12T20:32:26.479Z"
   },
   {
    "duration": 5,
    "start_time": "2024-11-12T20:32:35.228Z"
   },
   {
    "duration": 26,
    "start_time": "2024-11-12T20:32:36.069Z"
   },
   {
    "duration": 8,
    "start_time": "2024-11-12T20:32:36.553Z"
   },
   {
    "duration": 7037,
    "start_time": "2024-11-12T20:32:37.418Z"
   },
   {
    "duration": 5,
    "start_time": "2024-11-12T20:32:47.641Z"
   },
   {
    "duration": 29,
    "start_time": "2024-11-12T20:32:48.577Z"
   },
   {
    "duration": 6,
    "start_time": "2024-11-12T20:32:49.066Z"
   },
   {
    "duration": 7038,
    "start_time": "2024-11-12T20:32:49.723Z"
   },
   {
    "duration": 19614,
    "start_time": "2024-11-13T05:48:04.178Z"
   },
   {
    "duration": 1936,
    "start_time": "2024-11-13T05:48:23.796Z"
   },
   {
    "duration": 4,
    "start_time": "2024-11-13T05:48:25.734Z"
   },
   {
    "duration": 1463,
    "start_time": "2024-11-13T05:48:25.740Z"
   },
   {
    "duration": 34,
    "start_time": "2024-11-13T05:48:27.205Z"
   },
   {
    "duration": 25,
    "start_time": "2024-11-13T05:48:27.240Z"
   },
   {
    "duration": 162,
    "start_time": "2024-11-13T05:48:27.266Z"
   },
   {
    "duration": 126,
    "start_time": "2024-11-13T05:48:27.430Z"
   },
   {
    "duration": 3,
    "start_time": "2024-11-13T05:48:27.558Z"
   },
   {
    "duration": 2280,
    "start_time": "2024-11-13T05:48:27.564Z"
   },
   {
    "duration": 956,
    "start_time": "2024-11-13T05:48:29.845Z"
   },
   {
    "duration": 3,
    "start_time": "2024-11-13T05:48:30.803Z"
   },
   {
    "duration": 14,
    "start_time": "2024-11-13T05:48:30.807Z"
   },
   {
    "duration": 151,
    "start_time": "2024-11-13T05:48:30.823Z"
   },
   {
    "duration": 4,
    "start_time": "2024-11-13T05:48:30.976Z"
   },
   {
    "duration": 44,
    "start_time": "2024-11-13T05:48:30.982Z"
   },
   {
    "duration": 4,
    "start_time": "2024-11-13T05:48:31.028Z"
   },
   {
    "duration": 391,
    "start_time": "2024-11-13T05:48:31.034Z"
   },
   {
    "duration": 94,
    "start_time": "2024-11-13T05:48:31.427Z"
   },
   {
    "duration": 58,
    "start_time": "2024-11-13T05:48:31.523Z"
   },
   {
    "duration": 33,
    "start_time": "2024-11-13T05:48:31.582Z"
   },
   {
    "duration": 43,
    "start_time": "2024-11-13T05:48:31.617Z"
   },
   {
    "duration": 6,
    "start_time": "2024-11-13T05:48:31.662Z"
   },
   {
    "duration": 6980,
    "start_time": "2024-11-13T05:48:31.669Z"
   },
   {
    "duration": 4,
    "start_time": "2024-11-13T05:49:29.623Z"
   },
   {
    "duration": 27,
    "start_time": "2024-11-13T05:49:32.142Z"
   },
   {
    "duration": 6,
    "start_time": "2024-11-13T05:49:37.313Z"
   },
   {
    "duration": 8895,
    "start_time": "2024-11-13T05:49:39.371Z"
   },
   {
    "duration": 4,
    "start_time": "2024-11-13T05:50:17.062Z"
   },
   {
    "duration": 8879,
    "start_time": "2024-11-13T05:50:18.979Z"
   },
   {
    "duration": 5,
    "start_time": "2024-11-13T05:54:11.728Z"
   },
   {
    "duration": 123,
    "start_time": "2024-11-13T05:54:14.224Z"
   },
   {
    "duration": 4,
    "start_time": "2024-11-13T05:55:29.055Z"
   },
   {
    "duration": 29,
    "start_time": "2024-11-13T05:55:31.199Z"
   },
   {
    "duration": 5,
    "start_time": "2024-11-13T05:55:43.929Z"
   },
   {
    "duration": 62,
    "start_time": "2024-11-13T05:55:46.763Z"
   },
   {
    "duration": 6,
    "start_time": "2024-11-13T05:55:55.332Z"
   },
   {
    "duration": 45,
    "start_time": "2024-11-13T05:55:57.638Z"
   },
   {
    "duration": 7,
    "start_time": "2024-11-13T05:58:44.233Z"
   },
   {
    "duration": 5435,
    "start_time": "2024-11-13T05:58:46.544Z"
   },
   {
    "duration": 4,
    "start_time": "2024-11-13T05:59:43.975Z"
   },
   {
    "duration": 33,
    "start_time": "2024-11-13T05:59:46.578Z"
   },
   {
    "duration": 4,
    "start_time": "2024-11-13T05:59:57.631Z"
   },
   {
    "duration": 31,
    "start_time": "2024-11-13T06:00:01.490Z"
   },
   {
    "duration": 4,
    "start_time": "2024-11-13T06:00:13.202Z"
   },
   {
    "duration": 49,
    "start_time": "2024-11-13T06:00:16.168Z"
   },
   {
    "duration": 7,
    "start_time": "2024-11-13T06:00:24.193Z"
   },
   {
    "duration": 6832,
    "start_time": "2024-11-13T06:00:26.265Z"
   },
   {
    "duration": 6,
    "start_time": "2024-11-13T06:00:58.629Z"
   },
   {
    "duration": 52,
    "start_time": "2024-11-13T06:01:00.554Z"
   },
   {
    "duration": 6885,
    "start_time": "2024-11-13T06:01:03.460Z"
   },
   {
    "duration": 7450,
    "start_time": "2024-11-13T06:01:27.627Z"
   },
   {
    "duration": 1973,
    "start_time": "2024-11-13T06:01:35.080Z"
   },
   {
    "duration": 5,
    "start_time": "2024-11-13T06:01:37.054Z"
   },
   {
    "duration": 1680,
    "start_time": "2024-11-13T06:01:37.061Z"
   },
   {
    "duration": 87,
    "start_time": "2024-11-13T06:01:38.743Z"
   },
   {
    "duration": 25,
    "start_time": "2024-11-13T06:01:38.832Z"
   },
   {
    "duration": 301,
    "start_time": "2024-11-13T06:01:38.859Z"
   },
   {
    "duration": 277,
    "start_time": "2024-11-13T06:01:39.161Z"
   },
   {
    "duration": 3,
    "start_time": "2024-11-13T06:01:39.440Z"
   },
   {
    "duration": 2909,
    "start_time": "2024-11-13T06:01:39.446Z"
   },
   {
    "duration": 1334,
    "start_time": "2024-11-13T06:01:42.357Z"
   },
   {
    "duration": 2,
    "start_time": "2024-11-13T06:01:43.693Z"
   },
   {
    "duration": 8,
    "start_time": "2024-11-13T06:01:43.697Z"
   },
   {
    "duration": 169,
    "start_time": "2024-11-13T06:01:43.707Z"
   },
   {
    "duration": 4,
    "start_time": "2024-11-13T06:01:43.878Z"
   },
   {
    "duration": 40,
    "start_time": "2024-11-13T06:01:43.884Z"
   },
   {
    "duration": 3,
    "start_time": "2024-11-13T06:01:43.926Z"
   },
   {
    "duration": 491,
    "start_time": "2024-11-13T06:01:43.931Z"
   },
   {
    "duration": 94,
    "start_time": "2024-11-13T06:01:44.426Z"
   },
   {
    "duration": 56,
    "start_time": "2024-11-13T06:01:44.522Z"
   },
   {
    "duration": 4,
    "start_time": "2024-11-13T06:01:44.580Z"
   },
   {
    "duration": 61,
    "start_time": "2024-11-13T06:01:44.586Z"
   },
   {
    "duration": 7,
    "start_time": "2024-11-13T06:01:44.649Z"
   },
   {
    "duration": 5622,
    "start_time": "2024-11-13T06:01:44.658Z"
   },
   {
    "duration": 7,
    "start_time": "2024-11-13T06:14:58.104Z"
   },
   {
    "duration": 5691,
    "start_time": "2024-11-13T06:15:00.464Z"
   },
   {
    "duration": 7,
    "start_time": "2024-11-13T06:15:33.425Z"
   },
   {
    "duration": 5342,
    "start_time": "2024-11-13T06:15:35.337Z"
   },
   {
    "duration": 7,
    "start_time": "2024-11-13T06:16:15.368Z"
   },
   {
    "duration": 5316,
    "start_time": "2024-11-13T06:16:16.990Z"
   },
   {
    "duration": 4,
    "start_time": "2024-11-13T06:35:44.757Z"
   },
   {
    "duration": 62,
    "start_time": "2024-11-13T06:35:47.075Z"
   },
   {
    "duration": 5,
    "start_time": "2024-11-13T06:35:57.244Z"
   },
   {
    "duration": 54,
    "start_time": "2024-11-13T06:36:01.144Z"
   },
   {
    "duration": 9090,
    "start_time": "2024-12-09T13:27:38.898Z"
   },
   {
    "duration": 2254,
    "start_time": "2024-12-09T13:27:56.144Z"
   }
  ],
  "kernelspec": {
   "display_name": "Python 3 (ipykernel)",
   "language": "python",
   "name": "python3"
  },
  "language_info": {
   "codemirror_mode": {
    "name": "ipython",
    "version": 3
   },
   "file_extension": ".py",
   "mimetype": "text/x-python",
   "name": "python",
   "nbconvert_exporter": "python",
   "pygments_lexer": "ipython3",
   "version": "3.9.21"
  },
  "toc": {
   "base_numbering": 1,
   "nav_menu": {},
   "number_sections": true,
   "sideBar": true,
   "skip_h1_title": true,
   "title_cell": "Table of Contents",
   "title_sidebar": "Contents",
   "toc_cell": false,
   "toc_position": {
    "height": "calc(100% - 180px)",
    "left": "10px",
    "top": "150px",
    "width": "328.528px"
   },
   "toc_section_display": true,
   "toc_window_display": true
  }
 },
 "nbformat": 4,
 "nbformat_minor": 4
}
